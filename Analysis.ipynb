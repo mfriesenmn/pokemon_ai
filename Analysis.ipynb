{
 "cells": [
  {
   "cell_type": "code",
   "execution_count": 1,
   "metadata": {},
   "outputs": [],
   "source": [
    "# Dependencies\n",
    "\n",
    "import matplotlib.pyplot as plt\n",
    "import pandas as pd\n",
    "from sklearn.neighbors import KNeighborsClassifier\n",
    "from sklearn import tree\n",
    "import os"
   ]
  },
  {
   "cell_type": "code",
   "execution_count": 2,
   "metadata": {},
   "outputs": [
    {
     "data": {
      "text/html": [
       "<div>\n",
       "<style scoped>\n",
       "    .dataframe tbody tr th:only-of-type {\n",
       "        vertical-align: middle;\n",
       "    }\n",
       "\n",
       "    .dataframe tbody tr th {\n",
       "        vertical-align: top;\n",
       "    }\n",
       "\n",
       "    .dataframe thead th {\n",
       "        text-align: right;\n",
       "    }\n",
       "</style>\n",
       "<table border=\"1\" class=\"dataframe\">\n",
       "  <thead>\n",
       "    <tr style=\"text-align: right;\">\n",
       "      <th></th>\n",
       "      <th>#</th>\n",
       "      <th>Name</th>\n",
       "      <th>Type 1</th>\n",
       "      <th>Type 2</th>\n",
       "      <th>Total</th>\n",
       "      <th>HP</th>\n",
       "      <th>Attack</th>\n",
       "      <th>Defense</th>\n",
       "      <th>Sp. Atk</th>\n",
       "      <th>Sp. Def</th>\n",
       "      <th>Speed</th>\n",
       "      <th>Generation</th>\n",
       "      <th>Legendary</th>\n",
       "    </tr>\n",
       "  </thead>\n",
       "  <tbody>\n",
       "    <tr>\n",
       "      <th>0</th>\n",
       "      <td>1</td>\n",
       "      <td>Bulbasaur</td>\n",
       "      <td>Grass</td>\n",
       "      <td>Poison</td>\n",
       "      <td>318</td>\n",
       "      <td>45</td>\n",
       "      <td>49</td>\n",
       "      <td>49</td>\n",
       "      <td>65</td>\n",
       "      <td>65</td>\n",
       "      <td>45</td>\n",
       "      <td>1</td>\n",
       "      <td>False</td>\n",
       "    </tr>\n",
       "    <tr>\n",
       "      <th>1</th>\n",
       "      <td>2</td>\n",
       "      <td>Ivysaur</td>\n",
       "      <td>Grass</td>\n",
       "      <td>Poison</td>\n",
       "      <td>405</td>\n",
       "      <td>60</td>\n",
       "      <td>62</td>\n",
       "      <td>63</td>\n",
       "      <td>80</td>\n",
       "      <td>80</td>\n",
       "      <td>60</td>\n",
       "      <td>1</td>\n",
       "      <td>False</td>\n",
       "    </tr>\n",
       "    <tr>\n",
       "      <th>2</th>\n",
       "      <td>3</td>\n",
       "      <td>Venusaur</td>\n",
       "      <td>Grass</td>\n",
       "      <td>Poison</td>\n",
       "      <td>525</td>\n",
       "      <td>80</td>\n",
       "      <td>82</td>\n",
       "      <td>83</td>\n",
       "      <td>100</td>\n",
       "      <td>100</td>\n",
       "      <td>80</td>\n",
       "      <td>1</td>\n",
       "      <td>False</td>\n",
       "    </tr>\n",
       "    <tr>\n",
       "      <th>3</th>\n",
       "      <td>3</td>\n",
       "      <td>VenusaurMega Venusaur</td>\n",
       "      <td>Grass</td>\n",
       "      <td>Poison</td>\n",
       "      <td>625</td>\n",
       "      <td>80</td>\n",
       "      <td>100</td>\n",
       "      <td>123</td>\n",
       "      <td>122</td>\n",
       "      <td>120</td>\n",
       "      <td>80</td>\n",
       "      <td>1</td>\n",
       "      <td>False</td>\n",
       "    </tr>\n",
       "    <tr>\n",
       "      <th>4</th>\n",
       "      <td>4</td>\n",
       "      <td>Charmander</td>\n",
       "      <td>Fire</td>\n",
       "      <td>NaN</td>\n",
       "      <td>309</td>\n",
       "      <td>39</td>\n",
       "      <td>52</td>\n",
       "      <td>43</td>\n",
       "      <td>60</td>\n",
       "      <td>50</td>\n",
       "      <td>65</td>\n",
       "      <td>1</td>\n",
       "      <td>False</td>\n",
       "    </tr>\n",
       "  </tbody>\n",
       "</table>\n",
       "</div>"
      ],
      "text/plain": [
       "   #                   Name Type 1  Type 2  Total  HP  Attack  Defense  \\\n",
       "0  1              Bulbasaur  Grass  Poison    318  45      49       49   \n",
       "1  2                Ivysaur  Grass  Poison    405  60      62       63   \n",
       "2  3               Venusaur  Grass  Poison    525  80      82       83   \n",
       "3  3  VenusaurMega Venusaur  Grass  Poison    625  80     100      123   \n",
       "4  4             Charmander   Fire     NaN    309  39      52       43   \n",
       "\n",
       "   Sp. Atk  Sp. Def  Speed  Generation  Legendary  \n",
       "0       65       65     45           1      False  \n",
       "1       80       80     60           1      False  \n",
       "2      100      100     80           1      False  \n",
       "3      122      120     80           1      False  \n",
       "4       60       50     65           1      False  "
      ]
     },
     "execution_count": 2,
     "metadata": {},
     "output_type": "execute_result"
    }
   ],
   "source": [
    "pokedex = pd.read_csv('Pokemon.csv')\n",
    "pokedex.head()"
   ]
  },
  {
   "cell_type": "code",
   "execution_count": 3,
   "metadata": {},
   "outputs": [
    {
     "data": {
      "text/plain": [
       "False    735\n",
       "True      65\n",
       "Name: Legendary, dtype: int64"
      ]
     },
     "execution_count": 3,
     "metadata": {},
     "output_type": "execute_result"
    }
   ],
   "source": [
    "# This is Daniels section of code\n",
    "# Classification of Legendary Status\n",
    "y = pokedex[\"Legendary\"]\n",
    "y.value_counts()\n"
   ]
  },
  {
   "cell_type": "code",
   "execution_count": 4,
   "metadata": {},
   "outputs": [
    {
     "data": {
      "text/html": [
       "<div>\n",
       "<style scoped>\n",
       "    .dataframe tbody tr th:only-of-type {\n",
       "        vertical-align: middle;\n",
       "    }\n",
       "\n",
       "    .dataframe tbody tr th {\n",
       "        vertical-align: top;\n",
       "    }\n",
       "\n",
       "    .dataframe thead th {\n",
       "        text-align: right;\n",
       "    }\n",
       "</style>\n",
       "<table border=\"1\" class=\"dataframe\">\n",
       "  <thead>\n",
       "    <tr style=\"text-align: right;\">\n",
       "      <th></th>\n",
       "      <th>Total</th>\n",
       "      <th>HP</th>\n",
       "      <th>Attack</th>\n",
       "      <th>Defense</th>\n",
       "      <th>Sp. Atk</th>\n",
       "      <th>Sp. Def</th>\n",
       "      <th>Speed</th>\n",
       "      <th>Generation</th>\n",
       "    </tr>\n",
       "  </thead>\n",
       "  <tbody>\n",
       "    <tr>\n",
       "      <th>0</th>\n",
       "      <td>318</td>\n",
       "      <td>45</td>\n",
       "      <td>49</td>\n",
       "      <td>49</td>\n",
       "      <td>65</td>\n",
       "      <td>65</td>\n",
       "      <td>45</td>\n",
       "      <td>1</td>\n",
       "    </tr>\n",
       "    <tr>\n",
       "      <th>1</th>\n",
       "      <td>405</td>\n",
       "      <td>60</td>\n",
       "      <td>62</td>\n",
       "      <td>63</td>\n",
       "      <td>80</td>\n",
       "      <td>80</td>\n",
       "      <td>60</td>\n",
       "      <td>1</td>\n",
       "    </tr>\n",
       "    <tr>\n",
       "      <th>2</th>\n",
       "      <td>525</td>\n",
       "      <td>80</td>\n",
       "      <td>82</td>\n",
       "      <td>83</td>\n",
       "      <td>100</td>\n",
       "      <td>100</td>\n",
       "      <td>80</td>\n",
       "      <td>1</td>\n",
       "    </tr>\n",
       "    <tr>\n",
       "      <th>3</th>\n",
       "      <td>625</td>\n",
       "      <td>80</td>\n",
       "      <td>100</td>\n",
       "      <td>123</td>\n",
       "      <td>122</td>\n",
       "      <td>120</td>\n",
       "      <td>80</td>\n",
       "      <td>1</td>\n",
       "    </tr>\n",
       "    <tr>\n",
       "      <th>4</th>\n",
       "      <td>309</td>\n",
       "      <td>39</td>\n",
       "      <td>52</td>\n",
       "      <td>43</td>\n",
       "      <td>60</td>\n",
       "      <td>50</td>\n",
       "      <td>65</td>\n",
       "      <td>1</td>\n",
       "    </tr>\n",
       "  </tbody>\n",
       "</table>\n",
       "</div>"
      ],
      "text/plain": [
       "   Total  HP  Attack  Defense  Sp. Atk  Sp. Def  Speed  Generation\n",
       "0    318  45      49       49       65       65     45           1\n",
       "1    405  60      62       63       80       80     60           1\n",
       "2    525  80      82       83      100      100     80           1\n",
       "3    625  80     100      123      122      120     80           1\n",
       "4    309  39      52       43       60       50     65           1"
      ]
     },
     "execution_count": 4,
     "metadata": {},
     "output_type": "execute_result"
    }
   ],
   "source": [
    "X = pokedex.drop(\"Legendary\", axis=1)\n",
    "X = X.drop(\"#\", axis=1)\n",
    "X = X.drop(\"Name\", axis=1)\n",
    "X = X.drop(\"Type 1\", axis=1)\n",
    "X = X.drop(\"Type 2\", axis=1)\n",
    "X.head()"
   ]
  },
  {
   "cell_type": "code",
   "execution_count": 5,
   "metadata": {},
   "outputs": [],
   "source": [
    "from sklearn.model_selection import train_test_split\n",
    "X_train, X_test, y_train, y_test = train_test_split(X, y, random_state=1)"
   ]
  },
  {
   "cell_type": "code",
   "execution_count": 6,
   "metadata": {},
   "outputs": [],
   "source": [
    "from sklearn.preprocessing import StandardScaler\n",
    "\n",
    "# Create a StandardScater model and fit it to the training data\n",
    "\n",
    "X_scaler = StandardScaler().fit(X_train)"
   ]
  },
  {
   "cell_type": "code",
   "execution_count": 7,
   "metadata": {},
   "outputs": [],
   "source": [
    "# Transform the training and testing data using the X_scaler and y_scaler models\n",
    "\n",
    "X_train_scaled = X_scaler.transform(X_train)\n",
    "X_test_scaled = X_scaler.transform(X_test)"
   ]
  },
  {
   "cell_type": "code",
   "execution_count": 8,
   "metadata": {},
   "outputs": [
    {
     "name": "stdout",
     "output_type": "stream",
     "text": [
      "k: 1, Train/Test Score: 1.000/0.920\n",
      "k: 3, Train/Test Score: 0.972/0.925\n",
      "k: 5, Train/Test Score: 0.958/0.935\n",
      "k: 7, Train/Test Score: 0.958/0.930\n",
      "k: 9, Train/Test Score: 0.952/0.935\n",
      "k: 11, Train/Test Score: 0.945/0.940\n",
      "k: 13, Train/Test Score: 0.948/0.945\n",
      "k: 15, Train/Test Score: 0.943/0.945\n",
      "k: 17, Train/Test Score: 0.948/0.945\n",
      "k: 19, Train/Test Score: 0.950/0.940\n"
     ]
    },
    {
     "data": {
      "image/png": "[encoded data removed]",
      "text/plain": [
       "<Figure size 432x288 with 1 Axes>"
      ]
     },
     "metadata": {
      "needs_background": "light"
     },
     "output_type": "display_data"
    }
   ],
   "source": [
    "# Loop through different k values to see which has the highest accuracy\n",
    "# Note: We only use odd numbers because we don't want any ties\n",
    "train_scores = []\n",
    "test_scores = []\n",
    "for k in range(1, 20, 2):\n",
    "    knn = KNeighborsClassifier(n_neighbors=k)\n",
    "    knn.fit(X_train_scaled, y_train)\n",
    "    train_score = knn.score(X_train_scaled, y_train)\n",
    "    test_score = knn.score(X_test_scaled, y_test)\n",
    "    train_scores.append(train_score)\n",
    "    test_scores.append(test_score)\n",
    "    print(f\"k: {k}, Train/Test Score: {train_score:.3f}/{test_score:.3f}\")\n",
    "    \n",
    "    \n",
    "plt.plot(range(1, 20, 2), train_scores, marker='o')\n",
    "plt.plot(range(1, 20, 2), test_scores, marker=\"x\")\n",
    "plt.xlabel(\"k neighbors\")\n",
    "plt.ylabel(\"Testing accuracy Score\")\n",
    "plt.show()"
   ]
  },
  {
   "cell_type": "code",
   "execution_count": 9,
   "metadata": {},
   "outputs": [
    {
     "name": "stdout",
     "output_type": "stream",
     "text": [
      "k=15 Test Acc: 0.945\n"
     ]
    }
   ],
   "source": [
    "# Note that k: 15 provides the best accuracy where the classifier starts to stablize\n",
    "knn = KNeighborsClassifier(n_neighbors=15)\n",
    "knn.fit(X_train_scaled, y_train)\n",
    "print('k=15 Test Acc: %.3f' % knn.score(X_test_scaled, y_test))"
   ]
  },
  {
   "cell_type": "code",
   "execution_count": 10,
   "metadata": {},
   "outputs": [],
   "source": [
    "predicted_class = knn.predict(X_scaler.transform(X))\n",
    "# print(predicted_class)"
   ]
  },
  {
   "cell_type": "code",
   "execution_count": 11,
   "metadata": {},
   "outputs": [
    {
     "data": {
      "text/plain": [
       "Water       112\n",
       "Normal       98\n",
       "Grass        70\n",
       "Bug          69\n",
       "Psychic      57\n",
       "Fire         52\n",
       "Electric     44\n",
       "Rock         44\n",
       "Dragon       32\n",
       "Ground       32\n",
       "Ghost        32\n",
       "Dark         31\n",
       "Poison       28\n",
       "Steel        27\n",
       "Fighting     27\n",
       "Ice          24\n",
       "Fairy        17\n",
       "Flying        4\n",
       "Name: Type 1, dtype: int64"
      ]
     },
     "execution_count": 11,
     "metadata": {},
     "output_type": "execute_result"
    }
   ],
   "source": [
    "# Classification of Primary Type\n",
    "y2 = pokedex[\"Type 1\"]\n",
    "y2.value_counts()"
   ]
  },
  {
   "cell_type": "code",
   "execution_count": 12,
   "metadata": {},
   "outputs": [],
   "source": [
    "X_train, X_test, y_train, y_test = train_test_split(X, y2, random_state=47)\n",
    "\n",
    "X_scaler2 = StandardScaler().fit(X_train)\n",
    "\n",
    "X_train_scaled = X_scaler2.transform(X_train)\n",
    "X_test_scaled = X_scaler2.transform(X_test)"
   ]
  },
  {
   "cell_type": "code",
   "execution_count": 13,
   "metadata": {},
   "outputs": [
    {
     "name": "stdout",
     "output_type": "stream",
     "text": [
      "k: 1, Train/Test Score: 0.997/0.205\n",
      "k: 3, Train/Test Score: 0.477/0.135\n",
      "k: 5, Train/Test Score: 0.422/0.170\n",
      "k: 7, Train/Test Score: 0.380/0.185\n",
      "k: 9, Train/Test Score: 0.372/0.185\n",
      "k: 11, Train/Test Score: 0.358/0.195\n",
      "k: 13, Train/Test Score: 0.345/0.215\n",
      "k: 15, Train/Test Score: 0.328/0.235\n",
      "k: 17, Train/Test Score: 0.315/0.220\n",
      "k: 19, Train/Test Score: 0.302/0.205\n"
     ]
    },
    {
     "data": {
      "image/png": "[encoded data removed]",
      "text/plain": [
       "<Figure size 432x288 with 1 Axes>"
      ]
     },
     "metadata": {
      "needs_background": "light"
     },
     "output_type": "display_data"
    }
   ],
   "source": [
    "# Loop through different k values to see which has the highest accuracy\n",
    "# Note: We only use odd numbers because we don't want any ties\n",
    "train_scores = []\n",
    "test_scores = []\n",
    "for k in range(1, 20, 2):\n",
    "    knn = KNeighborsClassifier(n_neighbors=k)\n",
    "    knn.fit(X_train_scaled, y_train)\n",
    "    train_score = knn.score(X_train_scaled, y_train)\n",
    "    test_score = knn.score(X_test_scaled, y_test)\n",
    "    train_scores.append(train_score)\n",
    "    test_scores.append(test_score)\n",
    "    print(f\"k: {k}, Train/Test Score: {train_score:.3f}/{test_score:.3f}\")\n",
    "    \n",
    "    \n",
    "plt.plot(range(1, 20, 2), train_scores, marker='o')\n",
    "plt.plot(range(1, 20, 2), test_scores, marker=\"x\")\n",
    "plt.xlabel(\"k neighbors\")\n",
    "plt.ylabel(\"Testing accuracy Score\")\n",
    "plt.show()"
   ]
  },
  {
   "cell_type": "code",
   "execution_count": 14,
   "metadata": {
    "scrolled": true
   },
   "outputs": [
    {
     "name": "stdout",
     "output_type": "stream",
     "text": [
      "k=17 Test Acc: 0.220\n"
     ]
    }
   ],
   "source": [
    "# Note that k: 17 provides the best accuracy where the classifier starts to stablize\n",
    "knn = KNeighborsClassifier(n_neighbors=17)\n",
    "knn.fit(X_train_scaled, y_train)\n",
    "print('k=17 Test Acc: %.3f' % knn.score(X_test_scaled, y_test))"
   ]
  },
  {
   "cell_type": "code",
   "execution_count": 15,
   "metadata": {},
   "outputs": [
    {
     "name": "stderr",
     "output_type": "stream",
     "text": [
      "<ipython-input-15-53e135d534af>:5: SettingWithCopyWarning: \n",
      "A value is trying to be set on a copy of a slice from a DataFrame.\n",
      "Try using .loc[row_indexer,col_indexer] = value instead\n",
      "\n",
      "See the caveats in the documentation: https://pandas.pydata.org/pandas-docs/stable/user_guide/indexing.html#returning-a-view-versus-a-copy\n",
      "  predictions['Predicted Type'] = predicted_class\n"
     ]
    },
    {
     "data": {
      "text/html": [
       "<div>\n",
       "<style scoped>\n",
       "    .dataframe tbody tr th:only-of-type {\n",
       "        vertical-align: middle;\n",
       "    }\n",
       "\n",
       "    .dataframe tbody tr th {\n",
       "        vertical-align: top;\n",
       "    }\n",
       "\n",
       "    .dataframe thead th {\n",
       "        text-align: right;\n",
       "    }\n",
       "</style>\n",
       "<table border=\"1\" class=\"dataframe\">\n",
       "  <thead>\n",
       "    <tr style=\"text-align: right;\">\n",
       "      <th></th>\n",
       "      <th>Name</th>\n",
       "      <th>Type 1</th>\n",
       "      <th>Predicted Type</th>\n",
       "    </tr>\n",
       "  </thead>\n",
       "  <tbody>\n",
       "    <tr>\n",
       "      <th>0</th>\n",
       "      <td>Bulbasaur</td>\n",
       "      <td>Grass</td>\n",
       "      <td>Fire</td>\n",
       "    </tr>\n",
       "    <tr>\n",
       "      <th>1</th>\n",
       "      <td>Ivysaur</td>\n",
       "      <td>Grass</td>\n",
       "      <td>Grass</td>\n",
       "    </tr>\n",
       "    <tr>\n",
       "      <th>2</th>\n",
       "      <td>Venusaur</td>\n",
       "      <td>Grass</td>\n",
       "      <td>Water</td>\n",
       "    </tr>\n",
       "    <tr>\n",
       "      <th>3</th>\n",
       "      <td>VenusaurMega Venusaur</td>\n",
       "      <td>Grass</td>\n",
       "      <td>Dragon</td>\n",
       "    </tr>\n",
       "    <tr>\n",
       "      <th>4</th>\n",
       "      <td>Charmander</td>\n",
       "      <td>Fire</td>\n",
       "      <td>Fire</td>\n",
       "    </tr>\n",
       "  </tbody>\n",
       "</table>\n",
       "</div>"
      ],
      "text/plain": [
       "                    Name Type 1 Predicted Type\n",
       "0              Bulbasaur  Grass           Fire\n",
       "1                Ivysaur  Grass          Grass\n",
       "2               Venusaur  Grass          Water\n",
       "3  VenusaurMega Venusaur  Grass         Dragon\n",
       "4             Charmander   Fire           Fire"
      ]
     },
     "execution_count": 15,
     "metadata": {},
     "output_type": "execute_result"
    }
   ],
   "source": [
    "predicted_class = knn.predict(X_scaler2.transform(X))\n",
    "# print(predicted_class)\n",
    "\n",
    "predictions = pokedex[['Name',\"Type 1\"]]\n",
    "predictions['Predicted Type'] = predicted_class\n",
    "predictions.head()"
   ]
  },
  {
   "cell_type": "code",
   "execution_count": 16,
   "metadata": {},
   "outputs": [
    {
     "name": "stderr",
     "output_type": "stream",
     "text": [
      "<ipython-input-16-4e4376b56e8c>:7: SettingWithCopyWarning: \n",
      "A value is trying to be set on a copy of a slice from a DataFrame.\n",
      "Try using .loc[row_indexer,col_indexer] = value instead\n",
      "\n",
      "See the caveats in the documentation: https://pandas.pydata.org/pandas-docs/stable/user_guide/indexing.html#returning-a-view-versus-a-copy\n",
      "  predictions['Accurate'] = accuracy\n"
     ]
    },
    {
     "data": {
      "text/html": [
       "<div>\n",
       "<style scoped>\n",
       "    .dataframe tbody tr th:only-of-type {\n",
       "        vertical-align: middle;\n",
       "    }\n",
       "\n",
       "    .dataframe tbody tr th {\n",
       "        vertical-align: top;\n",
       "    }\n",
       "\n",
       "    .dataframe thead th {\n",
       "        text-align: right;\n",
       "    }\n",
       "</style>\n",
       "<table border=\"1\" class=\"dataframe\">\n",
       "  <thead>\n",
       "    <tr style=\"text-align: right;\">\n",
       "      <th></th>\n",
       "      <th>Name</th>\n",
       "      <th>Type 1</th>\n",
       "      <th>Predicted Type</th>\n",
       "      <th>Accurate</th>\n",
       "    </tr>\n",
       "  </thead>\n",
       "  <tbody>\n",
       "    <tr>\n",
       "      <th>0</th>\n",
       "      <td>Bulbasaur</td>\n",
       "      <td>Grass</td>\n",
       "      <td>Fire</td>\n",
       "      <td>0</td>\n",
       "    </tr>\n",
       "    <tr>\n",
       "      <th>1</th>\n",
       "      <td>Ivysaur</td>\n",
       "      <td>Grass</td>\n",
       "      <td>Grass</td>\n",
       "      <td>1</td>\n",
       "    </tr>\n",
       "    <tr>\n",
       "      <th>2</th>\n",
       "      <td>Venusaur</td>\n",
       "      <td>Grass</td>\n",
       "      <td>Water</td>\n",
       "      <td>0</td>\n",
       "    </tr>\n",
       "    <tr>\n",
       "      <th>3</th>\n",
       "      <td>VenusaurMega Venusaur</td>\n",
       "      <td>Grass</td>\n",
       "      <td>Dragon</td>\n",
       "      <td>0</td>\n",
       "    </tr>\n",
       "    <tr>\n",
       "      <th>4</th>\n",
       "      <td>Charmander</td>\n",
       "      <td>Fire</td>\n",
       "      <td>Fire</td>\n",
       "      <td>1</td>\n",
       "    </tr>\n",
       "  </tbody>\n",
       "</table>\n",
       "</div>"
      ],
      "text/plain": [
       "                    Name Type 1 Predicted Type  Accurate\n",
       "0              Bulbasaur  Grass           Fire         0\n",
       "1                Ivysaur  Grass          Grass         1\n",
       "2               Venusaur  Grass          Water         0\n",
       "3  VenusaurMega Venusaur  Grass         Dragon         0\n",
       "4             Charmander   Fire           Fire         1"
      ]
     },
     "execution_count": 16,
     "metadata": {},
     "output_type": "execute_result"
    }
   ],
   "source": [
    "accuracy = []\n",
    "for index, row in predictions.iterrows():\n",
    "    if predictions.loc[index,'Type 1'] == predictions.loc[index,'Predicted Type']:\n",
    "        accuracy.append(1)\n",
    "    else:\n",
    "        accuracy.append(0)\n",
    "predictions['Accurate'] = accuracy\n",
    "predictions.head()"
   ]
  },
  {
   "cell_type": "code",
   "execution_count": 17,
   "metadata": {},
   "outputs": [
    {
     "data": {
      "text/html": [
       "<div>\n",
       "<style scoped>\n",
       "    .dataframe tbody tr th:only-of-type {\n",
       "        vertical-align: middle;\n",
       "    }\n",
       "\n",
       "    .dataframe tbody tr th {\n",
       "        vertical-align: top;\n",
       "    }\n",
       "\n",
       "    .dataframe thead th {\n",
       "        text-align: right;\n",
       "    }\n",
       "</style>\n",
       "<table border=\"1\" class=\"dataframe\">\n",
       "  <thead>\n",
       "    <tr style=\"text-align: right;\">\n",
       "      <th></th>\n",
       "      <th>Accurate</th>\n",
       "    </tr>\n",
       "    <tr>\n",
       "      <th>Type 1</th>\n",
       "      <th></th>\n",
       "    </tr>\n",
       "  </thead>\n",
       "  <tbody>\n",
       "    <tr>\n",
       "      <th>Bug</th>\n",
       "      <td>0.463768</td>\n",
       "    </tr>\n",
       "    <tr>\n",
       "      <th>Dark</th>\n",
       "      <td>0.129032</td>\n",
       "    </tr>\n",
       "    <tr>\n",
       "      <th>Dragon</th>\n",
       "      <td>0.375000</td>\n",
       "    </tr>\n",
       "    <tr>\n",
       "      <th>Electric</th>\n",
       "      <td>0.272727</td>\n",
       "    </tr>\n",
       "    <tr>\n",
       "      <th>Fairy</th>\n",
       "      <td>0.176471</td>\n",
       "    </tr>\n",
       "    <tr>\n",
       "      <th>Fighting</th>\n",
       "      <td>0.037037</td>\n",
       "    </tr>\n",
       "    <tr>\n",
       "      <th>Fire</th>\n",
       "      <td>0.346154</td>\n",
       "    </tr>\n",
       "    <tr>\n",
       "      <th>Flying</th>\n",
       "      <td>0.000000</td>\n",
       "    </tr>\n",
       "    <tr>\n",
       "      <th>Ghost</th>\n",
       "      <td>0.218750</td>\n",
       "    </tr>\n",
       "    <tr>\n",
       "      <th>Grass</th>\n",
       "      <td>0.228571</td>\n",
       "    </tr>\n",
       "    <tr>\n",
       "      <th>Ground</th>\n",
       "      <td>0.125000</td>\n",
       "    </tr>\n",
       "    <tr>\n",
       "      <th>Ice</th>\n",
       "      <td>0.000000</td>\n",
       "    </tr>\n",
       "    <tr>\n",
       "      <th>Normal</th>\n",
       "      <td>0.602041</td>\n",
       "    </tr>\n",
       "    <tr>\n",
       "      <th>Poison</th>\n",
       "      <td>0.035714</td>\n",
       "    </tr>\n",
       "    <tr>\n",
       "      <th>Psychic</th>\n",
       "      <td>0.140351</td>\n",
       "    </tr>\n",
       "    <tr>\n",
       "      <th>Rock</th>\n",
       "      <td>0.159091</td>\n",
       "    </tr>\n",
       "    <tr>\n",
       "      <th>Steel</th>\n",
       "      <td>0.185185</td>\n",
       "    </tr>\n",
       "    <tr>\n",
       "      <th>Water</th>\n",
       "      <td>0.392857</td>\n",
       "    </tr>\n",
       "  </tbody>\n",
       "</table>\n",
       "</div>"
      ],
      "text/plain": [
       "          Accurate\n",
       "Type 1            \n",
       "Bug       0.463768\n",
       "Dark      0.129032\n",
       "Dragon    0.375000\n",
       "Electric  0.272727\n",
       "Fairy     0.176471\n",
       "Fighting  0.037037\n",
       "Fire      0.346154\n",
       "Flying    0.000000\n",
       "Ghost     0.218750\n",
       "Grass     0.228571\n",
       "Ground    0.125000\n",
       "Ice       0.000000\n",
       "Normal    0.602041\n",
       "Poison    0.035714\n",
       "Psychic   0.140351\n",
       "Rock      0.159091\n",
       "Steel     0.185185\n",
       "Water     0.392857"
      ]
     },
     "execution_count": 17,
     "metadata": {},
     "output_type": "execute_result"
    }
   ],
   "source": [
    "grouping = predictions.groupby('Type 1')\n",
    "grouping.mean()"
   ]
  },
  {
   "cell_type": "code",
   "execution_count": null,
   "metadata": {},
   "outputs": [],
   "source": []
  },
  {
   "cell_type": "code",
   "execution_count": 18,
   "metadata": {},
   "outputs": [
    {
     "data": {
      "text/html": [
       "<div>\n",
       "<style scoped>\n",
       "    .dataframe tbody tr th:only-of-type {\n",
       "        vertical-align: middle;\n",
       "    }\n",
       "\n",
       "    .dataframe tbody tr th {\n",
       "        vertical-align: top;\n",
       "    }\n",
       "\n",
       "    .dataframe thead th {\n",
       "        text-align: right;\n",
       "    }\n",
       "</style>\n",
       "<table border=\"1\" class=\"dataframe\">\n",
       "  <thead>\n",
       "    <tr style=\"text-align: right;\">\n",
       "      <th></th>\n",
       "      <th>Total</th>\n",
       "      <th>HP</th>\n",
       "      <th>Attack</th>\n",
       "      <th>Defense</th>\n",
       "      <th>Sp. Atk</th>\n",
       "      <th>Sp. Def</th>\n",
       "      <th>Speed</th>\n",
       "      <th>Generation</th>\n",
       "    </tr>\n",
       "  </thead>\n",
       "  <tbody>\n",
       "    <tr>\n",
       "      <th>0</th>\n",
       "      <td>318</td>\n",
       "      <td>45</td>\n",
       "      <td>49</td>\n",
       "      <td>49</td>\n",
       "      <td>65</td>\n",
       "      <td>65</td>\n",
       "      <td>45</td>\n",
       "      <td>1</td>\n",
       "    </tr>\n",
       "    <tr>\n",
       "      <th>1</th>\n",
       "      <td>405</td>\n",
       "      <td>60</td>\n",
       "      <td>62</td>\n",
       "      <td>63</td>\n",
       "      <td>80</td>\n",
       "      <td>80</td>\n",
       "      <td>60</td>\n",
       "      <td>1</td>\n",
       "    </tr>\n",
       "    <tr>\n",
       "      <th>2</th>\n",
       "      <td>525</td>\n",
       "      <td>80</td>\n",
       "      <td>82</td>\n",
       "      <td>83</td>\n",
       "      <td>100</td>\n",
       "      <td>100</td>\n",
       "      <td>80</td>\n",
       "      <td>1</td>\n",
       "    </tr>\n",
       "    <tr>\n",
       "      <th>3</th>\n",
       "      <td>625</td>\n",
       "      <td>80</td>\n",
       "      <td>100</td>\n",
       "      <td>123</td>\n",
       "      <td>122</td>\n",
       "      <td>120</td>\n",
       "      <td>80</td>\n",
       "      <td>1</td>\n",
       "    </tr>\n",
       "    <tr>\n",
       "      <th>4</th>\n",
       "      <td>309</td>\n",
       "      <td>39</td>\n",
       "      <td>52</td>\n",
       "      <td>43</td>\n",
       "      <td>60</td>\n",
       "      <td>50</td>\n",
       "      <td>65</td>\n",
       "      <td>1</td>\n",
       "    </tr>\n",
       "  </tbody>\n",
       "</table>\n",
       "</div>"
      ],
      "text/plain": [
       "   Total  HP  Attack  Defense  Sp. Atk  Sp. Def  Speed  Generation\n",
       "0    318  45      49       49       65       65     45           1\n",
       "1    405  60      62       63       80       80     60           1\n",
       "2    525  80      82       83      100      100     80           1\n",
       "3    625  80     100      123      122      120     80           1\n",
       "4    309  39      52       43       60       50     65           1"
      ]
     },
     "execution_count": 18,
     "metadata": {},
     "output_type": "execute_result"
    }
   ],
   "source": [
    "# This is Tanners section of code\n",
    "\n",
    "from numpy.random import seed\n",
    "seed(1)\n",
    "%matplotlib inline\n",
    "import matplotlib.pyplot as plt\n",
    "import numpy as np\n",
    "import sklearn\n",
    "import sklearn.datasets\n",
    "\n",
    "\n",
    "y = pokedex['Legendary']\n",
    "\n",
    "X = pokedex.drop(\"Legendary\", axis=1)\n",
    "X = X.drop(\"#\", axis=1)\n",
    "X = X.drop(\"Name\", axis=1)\n",
    "X = X.drop(\"Type 1\", axis=1)\n",
    "X = X.drop(\"Type 2\", axis=1)\n",
    "X.head()"
   ]
  },
  {
   "cell_type": "code",
   "execution_count": 19,
   "metadata": {},
   "outputs": [],
   "source": [
    " # Use train_test_split to create training and testing data\n",
    "from sklearn.model_selection import train_test_split\n",
    "\n",
    "X_train, X_test, y_train, y_test = train_test_split(X, y, random_state=1)"
   ]
  },
  {
   "cell_type": "code",
   "execution_count": 20,
   "metadata": {},
   "outputs": [],
   "source": [
    "from sklearn.preprocessing import StandardScaler\n",
    "\n",
    "# Create a StandardScater model and fit it to the training data\n",
    "X_scaler = StandardScaler().fit(X_train)"
   ]
  },
  {
   "cell_type": "code",
   "execution_count": 21,
   "metadata": {},
   "outputs": [],
   "source": [
    " # Transform the training and testing data using the X_scaler\n",
    "\n",
    "X_train_scaled = X_scaler.transform(X_train)\n",
    "X_test_scaled = X_scaler.transform(X_test)"
   ]
  },
  {
   "cell_type": "code",
   "execution_count": 22,
   "metadata": {},
   "outputs": [],
   "source": [
    "from tensorflow.keras.utils import to_categorical"
   ]
  },
  {
   "cell_type": "code",
   "execution_count": 23,
   "metadata": {},
   "outputs": [],
   "source": [
    "# One-hot encoding\n",
    "y_train_categorical = to_categorical(y_train)\n",
    "y_test_categorical = to_categorical(y_test)"
   ]
  },
  {
   "cell_type": "code",
   "execution_count": 24,
   "metadata": {},
   "outputs": [],
   "source": [
    "# first, create a normal neural network with 2 inputs, 6 hidden nodes, and 2 outputs\n",
    "from tensorflow.keras.models import Sequential\n",
    "from tensorflow.keras.layers import Dense\n",
    "\n",
    "model = Sequential()\n",
    "model.add(Dense(units=6, activation='relu', input_dim=8))\n",
    "model.add(Dense(units=2, activation='softmax'))"
   ]
  },
  {
   "cell_type": "code",
   "execution_count": 25,
   "metadata": {},
   "outputs": [
    {
     "name": "stdout",
     "output_type": "stream",
     "text": [
      "Model: \"sequential\"\n",
      "_________________________________________________________________\n",
      "Layer (type)                 Output Shape              Param #   \n",
      "=================================================================\n",
      "dense (Dense)                (None, 6)                 54        \n",
      "_________________________________________________________________\n",
      "dense_1 (Dense)              (None, 2)                 14        \n",
      "=================================================================\n",
      "Total params: 68\n",
      "Trainable params: 68\n",
      "Non-trainable params: 0\n",
      "_________________________________________________________________\n"
     ]
    }
   ],
   "source": [
    "model.summary()"
   ]
  },
  {
   "cell_type": "code",
   "execution_count": 26,
   "metadata": {},
   "outputs": [],
   "source": [
    "# Compile the model\n",
    "model.compile(optimizer='adam',\n",
    "              loss='categorical_crossentropy',\n",
    "              metrics=['accuracy'])"
   ]
  },
  {
   "cell_type": "code",
   "execution_count": 27,
   "metadata": {},
   "outputs": [
    {
     "name": "stdout",
     "output_type": "stream",
     "text": [
      "Epoch 1/100\n",
      "19/19 - 1s - loss: 0.4844 - accuracy: 0.8800 - val_loss: 0.4724 - val_accuracy: 0.8950\n",
      "Epoch 2/100\n",
      "19/19 - 0s - loss: 0.4422 - accuracy: 0.8967 - val_loss: 0.4342 - val_accuracy: 0.9050\n",
      "Epoch 3/100\n",
      "19/19 - 0s - loss: 0.4078 - accuracy: 0.9067 - val_loss: 0.4018 - val_accuracy: 0.9150\n",
      "Epoch 4/100\n",
      "19/19 - 0s - loss: 0.3788 - accuracy: 0.9100 - val_loss: 0.3736 - val_accuracy: 0.9150\n",
      "Epoch 5/100\n",
      "19/19 - 0s - loss: 0.3535 - accuracy: 0.9133 - val_loss: 0.3491 - val_accuracy: 0.9200\n",
      "Epoch 6/100\n",
      "19/19 - 0s - loss: 0.3312 - accuracy: 0.9217 - val_loss: 0.3279 - val_accuracy: 0.9200\n",
      "Epoch 7/100\n",
      "19/19 - 0s - loss: 0.3117 - accuracy: 0.9217 - val_loss: 0.3100 - val_accuracy: 0.9200\n",
      "Epoch 8/100\n",
      "19/19 - 0s - loss: 0.2945 - accuracy: 0.9217 - val_loss: 0.2940 - val_accuracy: 0.9200\n",
      "Epoch 9/100\n",
      "19/19 - 0s - loss: 0.2792 - accuracy: 0.9217 - val_loss: 0.2797 - val_accuracy: 0.9200\n",
      "Epoch 10/100\n",
      "19/19 - 0s - loss: 0.2654 - accuracy: 0.9200 - val_loss: 0.2677 - val_accuracy: 0.9300\n",
      "Epoch 11/100\n",
      "19/19 - 0s - loss: 0.2530 - accuracy: 0.9250 - val_loss: 0.2566 - val_accuracy: 0.9300\n",
      "Epoch 12/100\n",
      "19/19 - 0s - loss: 0.2419 - accuracy: 0.9267 - val_loss: 0.2469 - val_accuracy: 0.9250\n",
      "Epoch 13/100\n",
      "19/19 - 0s - loss: 0.2323 - accuracy: 0.9283 - val_loss: 0.2390 - val_accuracy: 0.9300\n",
      "Epoch 14/100\n",
      "19/19 - 0s - loss: 0.2229 - accuracy: 0.9300 - val_loss: 0.2310 - val_accuracy: 0.9200\n",
      "Epoch 15/100\n",
      "19/19 - 0s - loss: 0.2148 - accuracy: 0.9267 - val_loss: 0.2234 - val_accuracy: 0.9200\n",
      "Epoch 16/100\n",
      "19/19 - 0s - loss: 0.2073 - accuracy: 0.9317 - val_loss: 0.2172 - val_accuracy: 0.9350\n",
      "Epoch 17/100\n",
      "19/19 - 0s - loss: 0.2006 - accuracy: 0.9350 - val_loss: 0.2113 - val_accuracy: 0.9400\n",
      "Epoch 18/100\n",
      "19/19 - 0s - loss: 0.1941 - accuracy: 0.9350 - val_loss: 0.2065 - val_accuracy: 0.9450\n",
      "Epoch 19/100\n",
      "19/19 - 0s - loss: 0.1881 - accuracy: 0.9367 - val_loss: 0.2016 - val_accuracy: 0.9450\n",
      "Epoch 20/100\n",
      "19/19 - 0s - loss: 0.1823 - accuracy: 0.9383 - val_loss: 0.1970 - val_accuracy: 0.9500\n",
      "Epoch 21/100\n",
      "19/19 - 0s - loss: 0.1772 - accuracy: 0.9400 - val_loss: 0.1923 - val_accuracy: 0.9500\n",
      "Epoch 22/100\n",
      "19/19 - 0s - loss: 0.1722 - accuracy: 0.9383 - val_loss: 0.1888 - val_accuracy: 0.9550\n",
      "Epoch 23/100\n",
      "19/19 - 0s - loss: 0.1674 - accuracy: 0.9433 - val_loss: 0.1851 - val_accuracy: 0.9550\n",
      "Epoch 24/100\n",
      "19/19 - 0s - loss: 0.1628 - accuracy: 0.9417 - val_loss: 0.1809 - val_accuracy: 0.9500\n",
      "Epoch 25/100\n",
      "19/19 - 0s - loss: 0.1590 - accuracy: 0.9417 - val_loss: 0.1769 - val_accuracy: 0.9550\n",
      "Epoch 26/100\n",
      "19/19 - 0s - loss: 0.1546 - accuracy: 0.9467 - val_loss: 0.1742 - val_accuracy: 0.9550\n",
      "Epoch 27/100\n",
      "19/19 - 0s - loss: 0.1510 - accuracy: 0.9483 - val_loss: 0.1705 - val_accuracy: 0.9550\n",
      "Epoch 28/100\n",
      "19/19 - 0s - loss: 0.1473 - accuracy: 0.9467 - val_loss: 0.1676 - val_accuracy: 0.9550\n",
      "Epoch 29/100\n",
      "19/19 - 0s - loss: 0.1441 - accuracy: 0.9483 - val_loss: 0.1647 - val_accuracy: 0.9500\n",
      "Epoch 30/100\n",
      "19/19 - 0s - loss: 0.1407 - accuracy: 0.9500 - val_loss: 0.1620 - val_accuracy: 0.9600\n",
      "Epoch 31/100\n",
      "19/19 - 0s - loss: 0.1378 - accuracy: 0.9500 - val_loss: 0.1593 - val_accuracy: 0.9550\n",
      "Epoch 32/100\n",
      "19/19 - 0s - loss: 0.1348 - accuracy: 0.9500 - val_loss: 0.1572 - val_accuracy: 0.9600\n",
      "Epoch 33/100\n",
      "19/19 - 0s - loss: 0.1322 - accuracy: 0.9500 - val_loss: 0.1551 - val_accuracy: 0.9600\n",
      "Epoch 34/100\n",
      "19/19 - 0s - loss: 0.1293 - accuracy: 0.9517 - val_loss: 0.1526 - val_accuracy: 0.9550\n",
      "Epoch 35/100\n",
      "19/19 - 0s - loss: 0.1268 - accuracy: 0.9517 - val_loss: 0.1505 - val_accuracy: 0.9550\n",
      "Epoch 36/100\n",
      "19/19 - 0s - loss: 0.1244 - accuracy: 0.9533 - val_loss: 0.1484 - val_accuracy: 0.9550\n",
      "Epoch 37/100\n",
      "19/19 - 0s - loss: 0.1223 - accuracy: 0.9550 - val_loss: 0.1460 - val_accuracy: 0.9550\n",
      "Epoch 38/100\n",
      "19/19 - 0s - loss: 0.1202 - accuracy: 0.9533 - val_loss: 0.1441 - val_accuracy: 0.9550\n",
      "Epoch 39/100\n",
      "19/19 - 0s - loss: 0.1185 - accuracy: 0.9550 - val_loss: 0.1426 - val_accuracy: 0.9550\n",
      "Epoch 40/100\n",
      "19/19 - 0s - loss: 0.1167 - accuracy: 0.9550 - val_loss: 0.1412 - val_accuracy: 0.9600\n",
      "Epoch 41/100\n",
      "19/19 - 0s - loss: 0.1148 - accuracy: 0.9567 - val_loss: 0.1400 - val_accuracy: 0.9550\n",
      "Epoch 42/100\n",
      "19/19 - 0s - loss: 0.1132 - accuracy: 0.9567 - val_loss: 0.1384 - val_accuracy: 0.9500\n",
      "Epoch 43/100\n",
      "19/19 - 0s - loss: 0.1116 - accuracy: 0.9567 - val_loss: 0.1370 - val_accuracy: 0.9500\n",
      "Epoch 44/100\n",
      "19/19 - 0s - loss: 0.1105 - accuracy: 0.9567 - val_loss: 0.1357 - val_accuracy: 0.9550\n",
      "Epoch 45/100\n",
      "19/19 - 0s - loss: 0.1090 - accuracy: 0.9567 - val_loss: 0.1347 - val_accuracy: 0.9500\n",
      "Epoch 46/100\n",
      "19/19 - 0s - loss: 0.1080 - accuracy: 0.9567 - val_loss: 0.1335 - val_accuracy: 0.9500\n",
      "Epoch 47/100\n",
      "19/19 - 0s - loss: 0.1068 - accuracy: 0.9567 - val_loss: 0.1322 - val_accuracy: 0.9550\n",
      "Epoch 48/100\n",
      "19/19 - 0s - loss: 0.1057 - accuracy: 0.9583 - val_loss: 0.1310 - val_accuracy: 0.9450\n",
      "Epoch 49/100\n",
      "19/19 - 0s - loss: 0.1045 - accuracy: 0.9567 - val_loss: 0.1302 - val_accuracy: 0.9550\n",
      "Epoch 50/100\n",
      "19/19 - 0s - loss: 0.1034 - accuracy: 0.9600 - val_loss: 0.1294 - val_accuracy: 0.9600\n",
      "Epoch 51/100\n",
      "19/19 - 0s - loss: 0.1024 - accuracy: 0.9600 - val_loss: 0.1280 - val_accuracy: 0.9600\n",
      "Epoch 52/100\n",
      "19/19 - 0s - loss: 0.1018 - accuracy: 0.9583 - val_loss: 0.1267 - val_accuracy: 0.9500\n",
      "Epoch 53/100\n",
      "19/19 - 0s - loss: 0.1004 - accuracy: 0.9600 - val_loss: 0.1263 - val_accuracy: 0.9500\n",
      "Epoch 54/100\n",
      "19/19 - 0s - loss: 0.0995 - accuracy: 0.9617 - val_loss: 0.1252 - val_accuracy: 0.9600\n",
      "Epoch 55/100\n",
      "19/19 - 0s - loss: 0.0987 - accuracy: 0.9617 - val_loss: 0.1248 - val_accuracy: 0.9600\n",
      "Epoch 56/100\n",
      "19/19 - 0s - loss: 0.0977 - accuracy: 0.9617 - val_loss: 0.1237 - val_accuracy: 0.9600\n",
      "Epoch 57/100\n",
      "19/19 - 0s - loss: 0.0972 - accuracy: 0.9633 - val_loss: 0.1229 - val_accuracy: 0.9600\n",
      "Epoch 58/100\n",
      "19/19 - 0s - loss: 0.0964 - accuracy: 0.9617 - val_loss: 0.1225 - val_accuracy: 0.9550\n",
      "Epoch 59/100\n",
      "19/19 - 0s - loss: 0.0957 - accuracy: 0.9617 - val_loss: 0.1216 - val_accuracy: 0.9550\n",
      "Epoch 60/100\n",
      "19/19 - 0s - loss: 0.0950 - accuracy: 0.9617 - val_loss: 0.1213 - val_accuracy: 0.9550\n",
      "Epoch 61/100\n",
      "19/19 - 0s - loss: 0.0945 - accuracy: 0.9617 - val_loss: 0.1203 - val_accuracy: 0.9600\n",
      "Epoch 62/100\n",
      "19/19 - 0s - loss: 0.0938 - accuracy: 0.9617 - val_loss: 0.1195 - val_accuracy: 0.9600\n",
      "Epoch 63/100\n",
      "19/19 - 0s - loss: 0.0932 - accuracy: 0.9617 - val_loss: 0.1191 - val_accuracy: 0.9600\n",
      "Epoch 64/100\n",
      "19/19 - 0s - loss: 0.0928 - accuracy: 0.9617 - val_loss: 0.1188 - val_accuracy: 0.9550\n",
      "Epoch 65/100\n",
      "19/19 - 0s - loss: 0.0923 - accuracy: 0.9617 - val_loss: 0.1186 - val_accuracy: 0.9600\n",
      "Epoch 66/100\n",
      "19/19 - 0s - loss: 0.0917 - accuracy: 0.9600 - val_loss: 0.1178 - val_accuracy: 0.9600\n",
      "Epoch 67/100\n",
      "19/19 - 0s - loss: 0.0912 - accuracy: 0.9617 - val_loss: 0.1172 - val_accuracy: 0.9600\n",
      "Epoch 68/100\n",
      "19/19 - 0s - loss: 0.0909 - accuracy: 0.9617 - val_loss: 0.1169 - val_accuracy: 0.9600\n",
      "Epoch 69/100\n",
      "19/19 - 0s - loss: 0.0906 - accuracy: 0.9617 - val_loss: 0.1161 - val_accuracy: 0.9600\n",
      "Epoch 70/100\n",
      "19/19 - 0s - loss: 0.0900 - accuracy: 0.9600 - val_loss: 0.1159 - val_accuracy: 0.9600\n",
      "Epoch 71/100\n",
      "19/19 - 0s - loss: 0.0895 - accuracy: 0.9600 - val_loss: 0.1152 - val_accuracy: 0.9650\n",
      "Epoch 72/100\n",
      "19/19 - 0s - loss: 0.0891 - accuracy: 0.9600 - val_loss: 0.1150 - val_accuracy: 0.9600\n",
      "Epoch 73/100\n",
      "19/19 - 0s - loss: 0.0889 - accuracy: 0.9600 - val_loss: 0.1150 - val_accuracy: 0.9600\n",
      "Epoch 74/100\n",
      "19/19 - 0s - loss: 0.0888 - accuracy: 0.9600 - val_loss: 0.1140 - val_accuracy: 0.9600\n",
      "Epoch 75/100\n",
      "19/19 - 0s - loss: 0.0879 - accuracy: 0.9600 - val_loss: 0.1137 - val_accuracy: 0.9650\n",
      "Epoch 76/100\n",
      "19/19 - 0s - loss: 0.0879 - accuracy: 0.9600 - val_loss: 0.1133 - val_accuracy: 0.9650\n",
      "Epoch 77/100\n",
      "19/19 - 0s - loss: 0.0875 - accuracy: 0.9600 - val_loss: 0.1131 - val_accuracy: 0.9650\n",
      "Epoch 78/100\n",
      "19/19 - 0s - loss: 0.0873 - accuracy: 0.9600 - val_loss: 0.1124 - val_accuracy: 0.9600\n",
      "Epoch 79/100\n",
      "19/19 - 0s - loss: 0.0869 - accuracy: 0.9617 - val_loss: 0.1122 - val_accuracy: 0.9650\n",
      "Epoch 80/100\n",
      "19/19 - 0s - loss: 0.0863 - accuracy: 0.9600 - val_loss: 0.1123 - val_accuracy: 0.9650\n",
      "Epoch 81/100\n",
      "19/19 - 0s - loss: 0.0861 - accuracy: 0.9633 - val_loss: 0.1117 - val_accuracy: 0.9600\n",
      "Epoch 82/100\n",
      "19/19 - 0s - loss: 0.0859 - accuracy: 0.9617 - val_loss: 0.1111 - val_accuracy: 0.9600\n",
      "Epoch 83/100\n"
     ]
    },
    {
     "name": "stdout",
     "output_type": "stream",
     "text": [
      "19/19 - 0s - loss: 0.0855 - accuracy: 0.9600 - val_loss: 0.1112 - val_accuracy: 0.9600\n",
      "Epoch 84/100\n",
      "19/19 - 0s - loss: 0.0854 - accuracy: 0.9617 - val_loss: 0.1109 - val_accuracy: 0.9600\n",
      "Epoch 85/100\n",
      "19/19 - 0s - loss: 0.0849 - accuracy: 0.9633 - val_loss: 0.1106 - val_accuracy: 0.9600\n",
      "Epoch 86/100\n",
      "19/19 - 0s - loss: 0.0847 - accuracy: 0.9633 - val_loss: 0.1098 - val_accuracy: 0.9600\n",
      "Epoch 87/100\n",
      "19/19 - 0s - loss: 0.0845 - accuracy: 0.9600 - val_loss: 0.1101 - val_accuracy: 0.9650\n",
      "Epoch 88/100\n",
      "19/19 - 0s - loss: 0.0843 - accuracy: 0.9617 - val_loss: 0.1094 - val_accuracy: 0.9600\n",
      "Epoch 89/100\n",
      "19/19 - 0s - loss: 0.0841 - accuracy: 0.9617 - val_loss: 0.1090 - val_accuracy: 0.9650\n",
      "Epoch 90/100\n",
      "19/19 - 0s - loss: 0.0838 - accuracy: 0.9600 - val_loss: 0.1094 - val_accuracy: 0.9650\n",
      "Epoch 91/100\n",
      "19/19 - 0s - loss: 0.0835 - accuracy: 0.9633 - val_loss: 0.1087 - val_accuracy: 0.9600\n",
      "Epoch 92/100\n",
      "19/19 - 0s - loss: 0.0834 - accuracy: 0.9617 - val_loss: 0.1085 - val_accuracy: 0.9650\n",
      "Epoch 93/100\n",
      "19/19 - 0s - loss: 0.0831 - accuracy: 0.9633 - val_loss: 0.1073 - val_accuracy: 0.9650\n",
      "Epoch 94/100\n",
      "19/19 - 0s - loss: 0.0829 - accuracy: 0.9617 - val_loss: 0.1075 - val_accuracy: 0.9650\n",
      "Epoch 95/100\n",
      "19/19 - 0s - loss: 0.0825 - accuracy: 0.9633 - val_loss: 0.1074 - val_accuracy: 0.9650\n",
      "Epoch 96/100\n",
      "19/19 - 0s - loss: 0.0825 - accuracy: 0.9617 - val_loss: 0.1071 - val_accuracy: 0.9700\n",
      "Epoch 97/100\n",
      "19/19 - 0s - loss: 0.0820 - accuracy: 0.9633 - val_loss: 0.1071 - val_accuracy: 0.9650\n",
      "Epoch 98/100\n",
      "19/19 - 0s - loss: 0.0824 - accuracy: 0.9617 - val_loss: 0.1064 - val_accuracy: 0.9700\n",
      "Epoch 99/100\n",
      "19/19 - 0s - loss: 0.0817 - accuracy: 0.9633 - val_loss: 0.1058 - val_accuracy: 0.9700\n",
      "Epoch 100/100\n",
      "19/19 - 0s - loss: 0.0816 - accuracy: 0.9633 - val_loss: 0.1057 - val_accuracy: 0.9650\n"
     ]
    }
   ],
   "source": [
    " # Fit the model to the training data\n",
    "history = model.fit(\n",
    "    X_train_scaled,\n",
    "    y_train_categorical,\n",
    "    epochs=100,\n",
    "    shuffle = True,\n",
    "    verbose = 2,\n",
    "    validation_data=(X_test_scaled,y_test_categorical)\n",
    ")"
   ]
  },
  {
   "cell_type": "code",
   "execution_count": 28,
   "metadata": {},
   "outputs": [
    {
     "name": "stdout",
     "output_type": "stream",
     "text": [
      "7/7 - 0s - loss: 0.1057 - accuracy: 0.9650\n",
      "Normal Neural Network - Loss: 0.105727918446064, Accuracy: 0.9649999737739563\n"
     ]
    }
   ],
   "source": [
    "model_loss, model_accuracy = model.evaluate(\n",
    "    X_test_scaled, y_test_categorical, verbose=2)\n",
    "print(\n",
    "    f\"Normal Neural Network - Loss: {model_loss}, Accuracy: {model_accuracy}\")"
   ]
  },
  {
   "cell_type": "code",
   "execution_count": 29,
   "metadata": {},
   "outputs": [
    {
     "data": {
      "text/plain": [
       "<matplotlib.legend.Legend at 0x7f87504f41c0>"
      ]
     },
     "execution_count": 29,
     "metadata": {},
     "output_type": "execute_result"
    },
    {
     "data": {
      "image/png": "[encoded data removed]",
      "text/plain": [
       "<Figure size 1008x432 with 2 Axes>"
      ]
     },
     "metadata": {
      "needs_background": "light"
     },
     "output_type": "display_data"
    }
   ],
   "source": [
    "history_dict = history.history\n",
    "loss_values = history_dict['loss']\n",
    "val_loss_values = history_dict['val_loss']\n",
    "accuracy = history_dict['accuracy']\n",
    "val_accuracy = history_dict['val_accuracy']\n",
    " \n",
    "epochs = range(1, len(loss_values) + 1)\n",
    "fig, ax = plt.subplots(1, 2, figsize=(14, 6))\n",
    "#\n",
    "# Plot the model accuracy vs Epochs\n",
    "#\n",
    "ax[0].plot(epochs, accuracy, 'bo', label='Training accuracy')\n",
    "ax[0].plot(epochs, val_accuracy, 'b', label='Validation accuracy')\n",
    "ax[0].set_title('Training & Validation Accuracy', fontsize=16)\n",
    "ax[0].set_xlabel('Epochs', fontsize=16)\n",
    "ax[0].set_ylabel('Accuracy', fontsize=16)\n",
    "ax[0].legend()\n",
    "#\n",
    "# Plot the loss vs Epochs\n",
    "#\n",
    "ax[1].plot(epochs, loss_values, 'bo', label='Training loss')\n",
    "ax[1].plot(epochs, val_loss_values, 'b', label='Validation loss')\n",
    "ax[1].set_title('Training & Validation Loss', fontsize=16)\n",
    "ax[1].set_xlabel('Epochs', fontsize=16)\n",
    "ax[1].set_ylabel('Loss', fontsize=16)\n",
    "ax[1].legend()"
   ]
  },
  {
   "cell_type": "code",
   "execution_count": 30,
   "metadata": {},
   "outputs": [
    {
     "data": {
      "text/plain": [
       "Water       112\n",
       "Normal       98\n",
       "Grass        70\n",
       "Bug          69\n",
       "Psychic      57\n",
       "Fire         52\n",
       "Electric     44\n",
       "Rock         44\n",
       "Dragon       32\n",
       "Ground       32\n",
       "Ghost        32\n",
       "Dark         31\n",
       "Poison       28\n",
       "Steel        27\n",
       "Fighting     27\n",
       "Ice          24\n",
       "Fairy        17\n",
       "Flying        4\n",
       "Name: Type 1, dtype: int64"
      ]
     },
     "execution_count": 30,
     "metadata": {},
     "output_type": "execute_result"
    }
   ],
   "source": [
    "# Classification of Primary Type\n",
    "y2 = pokedex[\"Type 1\"]\n",
    "y2.value_counts()"
   ]
  },
  {
   "cell_type": "code",
   "execution_count": 31,
   "metadata": {},
   "outputs": [],
   "source": [
    "X_train, X_test, y_train, y_test = train_test_split(X, y2, stratify=y2,random_state=1)\n",
    "\n",
    "X_scaler2 = StandardScaler().fit(X_train)\n",
    "\n",
    "X_train_scaled = X_scaler2.transform(X_train)\n",
    "X_test_scaled = X_scaler2.transform(X_test)"
   ]
  },
  {
   "cell_type": "code",
   "execution_count": 32,
   "metadata": {},
   "outputs": [],
   "source": [
    "# One-hot encoding\n",
    "from sklearn.preprocessing import LabelEncoder\n",
    "\n",
    "label_encoder = LabelEncoder()\n",
    "\n",
    "y_train = label_encoder.fit_transform(y_train)\n",
    "y_test = label_encoder.fit_transform(y_test)\n",
    "\n",
    "y_train_categorical = to_categorical(y_train)\n",
    "y_test_categorical = to_categorical(y_test)\n",
    "\n"
   ]
  },
  {
   "cell_type": "code",
   "execution_count": 33,
   "metadata": {},
   "outputs": [],
   "source": [
    "model = Sequential()\n",
    "model.add(Dense(units=6, activation='relu', input_dim=8))\n",
    "model.add(Dense(units=18, activation='softmax'))"
   ]
  },
  {
   "cell_type": "code",
   "execution_count": 34,
   "metadata": {},
   "outputs": [
    {
     "name": "stdout",
     "output_type": "stream",
     "text": [
      "Model: \"sequential_1\"\n",
      "_________________________________________________________________\n",
      "Layer (type)                 Output Shape              Param #   \n",
      "=================================================================\n",
      "dense_2 (Dense)              (None, 6)                 54        \n",
      "_________________________________________________________________\n",
      "dense_3 (Dense)              (None, 18)                126       \n",
      "=================================================================\n",
      "Total params: 180\n",
      "Trainable params: 180\n",
      "Non-trainable params: 0\n",
      "_________________________________________________________________\n"
     ]
    }
   ],
   "source": [
    "model.summary()"
   ]
  },
  {
   "cell_type": "code",
   "execution_count": 35,
   "metadata": {},
   "outputs": [
    {
     "data": {
      "text/plain": [
       "\"\\nmodel.compile(optimizer='adam',\\n              loss='binary_crossentropy',\\n              metrics=['accuracy'])\\n\""
      ]
     },
     "execution_count": 35,
     "metadata": {},
     "output_type": "execute_result"
    }
   ],
   "source": [
    "# Compile the model\n",
    "\n",
    "model.compile(optimizer='adam',\n",
    "              loss='categorical_crossentropy',\n",
    "              metrics=['accuracy'])\n",
    "\n",
    "\n",
    "'''\n",
    "model.compile(optimizer='adam',\n",
    "              loss='binary_crossentropy',\n",
    "              metrics=['accuracy'])\n",
    "'''"
   ]
  },
  {
   "cell_type": "code",
   "execution_count": 36,
   "metadata": {},
   "outputs": [
    {
     "name": "stdout",
     "output_type": "stream",
     "text": [
      "Epoch 1/100\n",
      "19/19 - 0s - loss: 3.0040 - accuracy: 0.0467 - val_loss: 2.9560 - val_accuracy: 0.0400\n",
      "Epoch 2/100\n",
      "19/19 - 0s - loss: 2.9620 - accuracy: 0.0717 - val_loss: 2.9206 - val_accuracy: 0.0700\n",
      "Epoch 3/100\n",
      "19/19 - 0s - loss: 2.9248 - accuracy: 0.0833 - val_loss: 2.8888 - val_accuracy: 0.0800\n",
      "Epoch 4/100\n",
      "19/19 - 0s - loss: 2.8924 - accuracy: 0.1033 - val_loss: 2.8609 - val_accuracy: 0.0850\n",
      "Epoch 5/100\n",
      "19/19 - 0s - loss: 2.8632 - accuracy: 0.1150 - val_loss: 2.8367 - val_accuracy: 0.1000\n",
      "Epoch 6/100\n",
      "19/19 - 0s - loss: 2.8380 - accuracy: 0.1333 - val_loss: 2.8152 - val_accuracy: 0.1200\n",
      "Epoch 7/100\n",
      "19/19 - 0s - loss: 2.8146 - accuracy: 0.1450 - val_loss: 2.7949 - val_accuracy: 0.1250\n",
      "Epoch 8/100\n",
      "19/19 - 0s - loss: 2.7940 - accuracy: 0.1467 - val_loss: 2.7767 - val_accuracy: 0.1300\n",
      "Epoch 9/100\n",
      "19/19 - 0s - loss: 2.7755 - accuracy: 0.1500 - val_loss: 2.7602 - val_accuracy: 0.1350\n",
      "Epoch 10/100\n",
      "19/19 - 0s - loss: 2.7585 - accuracy: 0.1517 - val_loss: 2.7451 - val_accuracy: 0.1300\n",
      "Epoch 11/100\n",
      "19/19 - 0s - loss: 2.7430 - accuracy: 0.1600 - val_loss: 2.7319 - val_accuracy: 0.1400\n",
      "Epoch 12/100\n",
      "19/19 - 0s - loss: 2.7285 - accuracy: 0.1633 - val_loss: 2.7194 - val_accuracy: 0.1400\n",
      "Epoch 13/100\n",
      "19/19 - 0s - loss: 2.7154 - accuracy: 0.1600 - val_loss: 2.7089 - val_accuracy: 0.1600\n",
      "Epoch 14/100\n",
      "19/19 - 0s - loss: 2.7035 - accuracy: 0.1633 - val_loss: 2.6999 - val_accuracy: 0.1650\n",
      "Epoch 15/100\n",
      "19/19 - 0s - loss: 2.6924 - accuracy: 0.1667 - val_loss: 2.6904 - val_accuracy: 0.1650\n",
      "Epoch 16/100\n",
      "19/19 - 0s - loss: 2.6818 - accuracy: 0.1683 - val_loss: 2.6816 - val_accuracy: 0.1650\n",
      "Epoch 17/100\n",
      "19/19 - 0s - loss: 2.6717 - accuracy: 0.1717 - val_loss: 2.6750 - val_accuracy: 0.1650\n",
      "Epoch 18/100\n",
      "19/19 - 0s - loss: 2.6630 - accuracy: 0.1767 - val_loss: 2.6686 - val_accuracy: 0.1700\n",
      "Epoch 19/100\n",
      "19/19 - 0s - loss: 2.6538 - accuracy: 0.1817 - val_loss: 2.6621 - val_accuracy: 0.1650\n",
      "Epoch 20/100\n",
      "19/19 - 0s - loss: 2.6456 - accuracy: 0.1850 - val_loss: 2.6565 - val_accuracy: 0.1700\n",
      "Epoch 21/100\n",
      "19/19 - 0s - loss: 2.6374 - accuracy: 0.1850 - val_loss: 2.6513 - val_accuracy: 0.1600\n",
      "Epoch 22/100\n",
      "19/19 - 0s - loss: 2.6299 - accuracy: 0.1867 - val_loss: 2.6451 - val_accuracy: 0.1600\n",
      "Epoch 23/100\n",
      "19/19 - 0s - loss: 2.6224 - accuracy: 0.1867 - val_loss: 2.6401 - val_accuracy: 0.1650\n",
      "Epoch 24/100\n",
      "19/19 - 0s - loss: 2.6151 - accuracy: 0.1883 - val_loss: 2.6355 - val_accuracy: 0.1550\n",
      "Epoch 25/100\n",
      "19/19 - 0s - loss: 2.6082 - accuracy: 0.1883 - val_loss: 2.6308 - val_accuracy: 0.1550\n",
      "Epoch 26/100\n",
      "19/19 - 0s - loss: 2.6012 - accuracy: 0.1883 - val_loss: 2.6260 - val_accuracy: 0.1550\n",
      "Epoch 27/100\n",
      "19/19 - 0s - loss: 2.5945 - accuracy: 0.1867 - val_loss: 2.6215 - val_accuracy: 0.1600\n",
      "Epoch 28/100\n",
      "19/19 - 0s - loss: 2.5880 - accuracy: 0.1883 - val_loss: 2.6174 - val_accuracy: 0.1550\n",
      "Epoch 29/100\n",
      "19/19 - 0s - loss: 2.5815 - accuracy: 0.1883 - val_loss: 2.6122 - val_accuracy: 0.1500\n",
      "Epoch 30/100\n",
      "19/19 - 0s - loss: 2.5755 - accuracy: 0.1883 - val_loss: 2.6081 - val_accuracy: 0.1500\n",
      "Epoch 31/100\n",
      "19/19 - 0s - loss: 2.5687 - accuracy: 0.1950 - val_loss: 2.6033 - val_accuracy: 0.1500\n",
      "Epoch 32/100\n",
      "19/19 - 0s - loss: 2.5628 - accuracy: 0.1950 - val_loss: 2.5976 - val_accuracy: 0.1500\n",
      "Epoch 33/100\n",
      "19/19 - 0s - loss: 2.5563 - accuracy: 0.1967 - val_loss: 2.5942 - val_accuracy: 0.1500\n",
      "Epoch 34/100\n",
      "19/19 - 0s - loss: 2.5505 - accuracy: 0.1967 - val_loss: 2.5905 - val_accuracy: 0.1550\n",
      "Epoch 35/100\n",
      "19/19 - 0s - loss: 2.5445 - accuracy: 0.1967 - val_loss: 2.5858 - val_accuracy: 0.1550\n",
      "Epoch 36/100\n",
      "19/19 - 0s - loss: 2.5394 - accuracy: 0.2033 - val_loss: 2.5812 - val_accuracy: 0.1550\n",
      "Epoch 37/100\n",
      "19/19 - 0s - loss: 2.5333 - accuracy: 0.2000 - val_loss: 2.5775 - val_accuracy: 0.1550\n",
      "Epoch 38/100\n",
      "19/19 - 0s - loss: 2.5275 - accuracy: 0.2017 - val_loss: 2.5734 - val_accuracy: 0.1500\n",
      "Epoch 39/100\n",
      "19/19 - 0s - loss: 2.5217 - accuracy: 0.2067 - val_loss: 2.5698 - val_accuracy: 0.1450\n",
      "Epoch 40/100\n",
      "19/19 - 0s - loss: 2.5162 - accuracy: 0.2050 - val_loss: 2.5648 - val_accuracy: 0.1500\n",
      "Epoch 41/100\n",
      "19/19 - 0s - loss: 2.5102 - accuracy: 0.2083 - val_loss: 2.5614 - val_accuracy: 0.1450\n",
      "Epoch 42/100\n",
      "19/19 - 0s - loss: 2.5051 - accuracy: 0.2117 - val_loss: 2.5563 - val_accuracy: 0.1550\n",
      "Epoch 43/100\n",
      "19/19 - 0s - loss: 2.4990 - accuracy: 0.2150 - val_loss: 2.5523 - val_accuracy: 0.1550\n",
      "Epoch 44/100\n",
      "19/19 - 0s - loss: 2.4936 - accuracy: 0.2133 - val_loss: 2.5490 - val_accuracy: 0.1550\n",
      "Epoch 45/100\n",
      "19/19 - 0s - loss: 2.4884 - accuracy: 0.2150 - val_loss: 2.5454 - val_accuracy: 0.1650\n",
      "Epoch 46/100\n",
      "19/19 - 0s - loss: 2.4833 - accuracy: 0.2150 - val_loss: 2.5424 - val_accuracy: 0.1550\n",
      "Epoch 47/100\n",
      "19/19 - 0s - loss: 2.4775 - accuracy: 0.2183 - val_loss: 2.5379 - val_accuracy: 0.1600\n",
      "Epoch 48/100\n",
      "19/19 - 0s - loss: 2.4729 - accuracy: 0.2167 - val_loss: 2.5341 - val_accuracy: 0.1650\n",
      "Epoch 49/100\n",
      "19/19 - 0s - loss: 2.4681 - accuracy: 0.2217 - val_loss: 2.5297 - val_accuracy: 0.1600\n",
      "Epoch 50/100\n",
      "19/19 - 0s - loss: 2.4628 - accuracy: 0.2300 - val_loss: 2.5267 - val_accuracy: 0.1650\n",
      "Epoch 51/100\n",
      "19/19 - 0s - loss: 2.4585 - accuracy: 0.2317 - val_loss: 2.5242 - val_accuracy: 0.1700\n",
      "Epoch 52/100\n",
      "19/19 - 0s - loss: 2.4541 - accuracy: 0.2333 - val_loss: 2.5204 - val_accuracy: 0.1700\n",
      "Epoch 53/100\n",
      "19/19 - 0s - loss: 2.4498 - accuracy: 0.2333 - val_loss: 2.5172 - val_accuracy: 0.1650\n",
      "Epoch 54/100\n",
      "19/19 - 0s - loss: 2.4456 - accuracy: 0.2333 - val_loss: 2.5149 - val_accuracy: 0.1700\n",
      "Epoch 55/100\n",
      "19/19 - 0s - loss: 2.4416 - accuracy: 0.2350 - val_loss: 2.5106 - val_accuracy: 0.1700\n",
      "Epoch 56/100\n",
      "19/19 - 0s - loss: 2.4372 - accuracy: 0.2417 - val_loss: 2.5084 - val_accuracy: 0.1650\n",
      "Epoch 57/100\n",
      "19/19 - 0s - loss: 2.4336 - accuracy: 0.2467 - val_loss: 2.5063 - val_accuracy: 0.1650\n",
      "Epoch 58/100\n",
      "19/19 - 0s - loss: 2.4294 - accuracy: 0.2500 - val_loss: 2.5037 - val_accuracy: 0.1650\n",
      "Epoch 59/100\n",
      "19/19 - 0s - loss: 2.4256 - accuracy: 0.2467 - val_loss: 2.5002 - val_accuracy: 0.1700\n",
      "Epoch 60/100\n",
      "19/19 - 0s - loss: 2.4222 - accuracy: 0.2433 - val_loss: 2.4978 - val_accuracy: 0.1700\n",
      "Epoch 61/100\n",
      "19/19 - 0s - loss: 2.4183 - accuracy: 0.2467 - val_loss: 2.4969 - val_accuracy: 0.1650\n",
      "Epoch 62/100\n",
      "19/19 - 0s - loss: 2.4150 - accuracy: 0.2467 - val_loss: 2.4924 - val_accuracy: 0.1650\n",
      "Epoch 63/100\n",
      "19/19 - 0s - loss: 2.4115 - accuracy: 0.2467 - val_loss: 2.4916 - val_accuracy: 0.1650\n",
      "Epoch 64/100\n",
      "19/19 - 0s - loss: 2.4083 - accuracy: 0.2500 - val_loss: 2.4895 - val_accuracy: 0.1700\n",
      "Epoch 65/100\n",
      "19/19 - 0s - loss: 2.4047 - accuracy: 0.2467 - val_loss: 2.4868 - val_accuracy: 0.1700\n",
      "Epoch 66/100\n",
      "19/19 - 0s - loss: 2.4018 - accuracy: 0.2467 - val_loss: 2.4861 - val_accuracy: 0.1700\n",
      "Epoch 67/100\n",
      "19/19 - 0s - loss: 2.3990 - accuracy: 0.2483 - val_loss: 2.4849 - val_accuracy: 0.1800\n",
      "Epoch 68/100\n",
      "19/19 - 0s - loss: 2.3958 - accuracy: 0.2483 - val_loss: 2.4814 - val_accuracy: 0.1850\n",
      "Epoch 69/100\n",
      "19/19 - 0s - loss: 2.3927 - accuracy: 0.2467 - val_loss: 2.4797 - val_accuracy: 0.1800\n",
      "Epoch 70/100\n",
      "19/19 - 0s - loss: 2.3899 - accuracy: 0.2450 - val_loss: 2.4781 - val_accuracy: 0.1900\n",
      "Epoch 71/100\n",
      "19/19 - 0s - loss: 2.3874 - accuracy: 0.2467 - val_loss: 2.4764 - val_accuracy: 0.1900\n",
      "Epoch 72/100\n",
      "19/19 - 0s - loss: 2.3844 - accuracy: 0.2467 - val_loss: 2.4755 - val_accuracy: 0.1900\n",
      "Epoch 73/100\n",
      "19/19 - 0s - loss: 2.3819 - accuracy: 0.2450 - val_loss: 2.4728 - val_accuracy: 0.1900\n",
      "Epoch 74/100\n",
      "19/19 - 0s - loss: 2.3796 - accuracy: 0.2500 - val_loss: 2.4706 - val_accuracy: 0.1850\n",
      "Epoch 75/100\n",
      "19/19 - 0s - loss: 2.3770 - accuracy: 0.2483 - val_loss: 2.4706 - val_accuracy: 0.1900\n",
      "Epoch 76/100\n",
      "19/19 - 0s - loss: 2.3743 - accuracy: 0.2483 - val_loss: 2.4692 - val_accuracy: 0.1900\n",
      "Epoch 77/100\n",
      "19/19 - 0s - loss: 2.3721 - accuracy: 0.2467 - val_loss: 2.4692 - val_accuracy: 0.1850\n",
      "Epoch 78/100\n",
      "19/19 - 0s - loss: 2.3698 - accuracy: 0.2517 - val_loss: 2.4670 - val_accuracy: 0.1800\n",
      "Epoch 79/100\n",
      "19/19 - 0s - loss: 2.3672 - accuracy: 0.2550 - val_loss: 2.4663 - val_accuracy: 0.1800\n",
      "Epoch 80/100\n",
      "19/19 - 0s - loss: 2.3649 - accuracy: 0.2517 - val_loss: 2.4662 - val_accuracy: 0.1800\n",
      "Epoch 81/100\n",
      "19/19 - 0s - loss: 2.3628 - accuracy: 0.2567 - val_loss: 2.4658 - val_accuracy: 0.1650\n",
      "Epoch 82/100\n",
      "19/19 - 0s - loss: 2.3603 - accuracy: 0.2583 - val_loss: 2.4649 - val_accuracy: 0.1700\n",
      "Epoch 83/100\n"
     ]
    },
    {
     "name": "stdout",
     "output_type": "stream",
     "text": [
      "19/19 - 0s - loss: 2.3588 - accuracy: 0.2533 - val_loss: 2.4630 - val_accuracy: 0.1750\n",
      "Epoch 84/100\n",
      "19/19 - 0s - loss: 2.3569 - accuracy: 0.2567 - val_loss: 2.4620 - val_accuracy: 0.1600\n",
      "Epoch 85/100\n",
      "19/19 - 0s - loss: 2.3541 - accuracy: 0.2600 - val_loss: 2.4617 - val_accuracy: 0.1700\n",
      "Epoch 86/100\n",
      "19/19 - 0s - loss: 2.3522 - accuracy: 0.2583 - val_loss: 2.4605 - val_accuracy: 0.1600\n",
      "Epoch 87/100\n",
      "19/19 - 0s - loss: 2.3499 - accuracy: 0.2583 - val_loss: 2.4606 - val_accuracy: 0.1700\n",
      "Epoch 88/100\n",
      "19/19 - 0s - loss: 2.3483 - accuracy: 0.2567 - val_loss: 2.4589 - val_accuracy: 0.1700\n",
      "Epoch 89/100\n",
      "19/19 - 0s - loss: 2.3462 - accuracy: 0.2567 - val_loss: 2.4586 - val_accuracy: 0.1650\n",
      "Epoch 90/100\n",
      "19/19 - 0s - loss: 2.3443 - accuracy: 0.2583 - val_loss: 2.4584 - val_accuracy: 0.1600\n",
      "Epoch 91/100\n",
      "19/19 - 0s - loss: 2.3423 - accuracy: 0.2600 - val_loss: 2.4577 - val_accuracy: 0.1500\n",
      "Epoch 92/100\n",
      "19/19 - 0s - loss: 2.3408 - accuracy: 0.2550 - val_loss: 2.4553 - val_accuracy: 0.1600\n",
      "Epoch 93/100\n",
      "19/19 - 0s - loss: 2.3390 - accuracy: 0.2550 - val_loss: 2.4549 - val_accuracy: 0.1700\n",
      "Epoch 94/100\n",
      "19/19 - 0s - loss: 2.3374 - accuracy: 0.2550 - val_loss: 2.4529 - val_accuracy: 0.1750\n",
      "Epoch 95/100\n",
      "19/19 - 0s - loss: 2.3355 - accuracy: 0.2567 - val_loss: 2.4520 - val_accuracy: 0.1700\n",
      "Epoch 96/100\n",
      "19/19 - 0s - loss: 2.3332 - accuracy: 0.2567 - val_loss: 2.4527 - val_accuracy: 0.1700\n",
      "Epoch 97/100\n",
      "19/19 - 0s - loss: 2.3312 - accuracy: 0.2550 - val_loss: 2.4500 - val_accuracy: 0.1800\n",
      "Epoch 98/100\n",
      "19/19 - 0s - loss: 2.3296 - accuracy: 0.2550 - val_loss: 2.4496 - val_accuracy: 0.1800\n",
      "Epoch 99/100\n",
      "19/19 - 0s - loss: 2.3279 - accuracy: 0.2600 - val_loss: 2.4488 - val_accuracy: 0.1800\n",
      "Epoch 100/100\n",
      "19/19 - 0s - loss: 2.3269 - accuracy: 0.2550 - val_loss: 2.4472 - val_accuracy: 0.1800\n"
     ]
    }
   ],
   "source": [
    " # Fit the model to the training data\n",
    "history = model.fit(\n",
    "    X_train_scaled,\n",
    "    y_train_categorical,\n",
    "    epochs=100,\n",
    "    shuffle = True,\n",
    "    verbose = 2,\n",
    "    validation_data=(X_test_scaled,y_test_categorical)\n",
    ")"
   ]
  },
  {
   "cell_type": "code",
   "execution_count": 37,
   "metadata": {},
   "outputs": [
    {
     "name": "stdout",
     "output_type": "stream",
     "text": [
      "7/7 - 0s - loss: 2.4472 - accuracy: 0.1800\n",
      "Normal Neural Network - Loss: 2.4472239017486572, Accuracy: 0.18000000715255737\n"
     ]
    }
   ],
   "source": [
    "model_loss, model_accuracy = model.evaluate(\n",
    "    X_test_scaled, y_test_categorical, verbose=2)\n",
    "print(\n",
    "    f\"Normal Neural Network - Loss: {model_loss}, Accuracy: {model_accuracy}\")"
   ]
  },
  {
   "cell_type": "code",
   "execution_count": 38,
   "metadata": {},
   "outputs": [],
   "source": [
    "# This is Michaels section of code"
   ]
  },
  {
   "cell_type": "code",
   "execution_count": 39,
   "metadata": {},
   "outputs": [
    {
     "data": {
      "text/html": [
       "<div>\n",
       "<style scoped>\n",
       "    .dataframe tbody tr th:only-of-type {\n",
       "        vertical-align: middle;\n",
       "    }\n",
       "\n",
       "    .dataframe tbody tr th {\n",
       "        vertical-align: top;\n",
       "    }\n",
       "\n",
       "    .dataframe thead th {\n",
       "        text-align: right;\n",
       "    }\n",
       "</style>\n",
       "<table border=\"1\" class=\"dataframe\">\n",
       "  <thead>\n",
       "    <tr style=\"text-align: right;\">\n",
       "      <th></th>\n",
       "      <th>Total</th>\n",
       "      <th>HP</th>\n",
       "      <th>Attack</th>\n",
       "      <th>Defense</th>\n",
       "      <th>Sp. Atk</th>\n",
       "      <th>Sp. Def</th>\n",
       "      <th>Speed</th>\n",
       "      <th>Generation</th>\n",
       "    </tr>\n",
       "  </thead>\n",
       "  <tbody>\n",
       "    <tr>\n",
       "      <th>0</th>\n",
       "      <td>318</td>\n",
       "      <td>45</td>\n",
       "      <td>49</td>\n",
       "      <td>49</td>\n",
       "      <td>65</td>\n",
       "      <td>65</td>\n",
       "      <td>45</td>\n",
       "      <td>1</td>\n",
       "    </tr>\n",
       "    <tr>\n",
       "      <th>1</th>\n",
       "      <td>405</td>\n",
       "      <td>60</td>\n",
       "      <td>62</td>\n",
       "      <td>63</td>\n",
       "      <td>80</td>\n",
       "      <td>80</td>\n",
       "      <td>60</td>\n",
       "      <td>1</td>\n",
       "    </tr>\n",
       "    <tr>\n",
       "      <th>2</th>\n",
       "      <td>525</td>\n",
       "      <td>80</td>\n",
       "      <td>82</td>\n",
       "      <td>83</td>\n",
       "      <td>100</td>\n",
       "      <td>100</td>\n",
       "      <td>80</td>\n",
       "      <td>1</td>\n",
       "    </tr>\n",
       "    <tr>\n",
       "      <th>3</th>\n",
       "      <td>625</td>\n",
       "      <td>80</td>\n",
       "      <td>100</td>\n",
       "      <td>123</td>\n",
       "      <td>122</td>\n",
       "      <td>120</td>\n",
       "      <td>80</td>\n",
       "      <td>1</td>\n",
       "    </tr>\n",
       "    <tr>\n",
       "      <th>4</th>\n",
       "      <td>309</td>\n",
       "      <td>39</td>\n",
       "      <td>52</td>\n",
       "      <td>43</td>\n",
       "      <td>60</td>\n",
       "      <td>50</td>\n",
       "      <td>65</td>\n",
       "      <td>1</td>\n",
       "    </tr>\n",
       "  </tbody>\n",
       "</table>\n",
       "</div>"
      ],
      "text/plain": [
       "   Total  HP  Attack  Defense  Sp. Atk  Sp. Def  Speed  Generation\n",
       "0    318  45      49       49       65       65     45           1\n",
       "1    405  60      62       63       80       80     60           1\n",
       "2    525  80      82       83      100      100     80           1\n",
       "3    625  80     100      123      122      120     80           1\n",
       "4    309  39      52       43       60       50     65           1"
      ]
     },
     "execution_count": 39,
     "metadata": {},
     "output_type": "execute_result"
    }
   ],
   "source": [
    "# This is Masons section of code\n",
    "\n",
    "# Set our prediction targets and name them\n",
    "\n",
    "y = pokedex[\"Legendary\"]\n",
    "target_names = [\"negative\", \"positive\"]\n",
    "\n",
    "\n",
    "#Classification of Legendary Status\n",
    "\n",
    "X = pokedex.drop(\"Legendary\", axis=1)\n",
    "\n",
    "X = X.drop(\"#\", axis=1)\n",
    "\n",
    "X = X.drop(\"Name\", axis=1)\n",
    "\n",
    "X = X.drop(\"Type 1\", axis=1)\n",
    "\n",
    "X = X.drop(\"Type 2\", axis=1)\n",
    "\n",
    "feature_names = X.columns\n",
    "\n",
    "X.head()"
   ]
  },
  {
   "cell_type": "code",
   "execution_count": 40,
   "metadata": {},
   "outputs": [],
   "source": [
    "# Import learning and training for the random forest\n",
    "\n",
    "from sklearn.model_selection import train_test_split\n",
    "\n",
    "X_train, X_test, y_train, y_test = train_test_split(X, y, random_state=42)"
   ]
  },
  {
   "cell_type": "code",
   "execution_count": 41,
   "metadata": {},
   "outputs": [
    {
     "data": {
      "text/plain": [
       "0.955"
      ]
     },
     "execution_count": 41,
     "metadata": {},
     "output_type": "execute_result"
    }
   ],
   "source": [
    "\n",
    "# Import the random forest classifier and input values and variables\n",
    "\n",
    "from sklearn.ensemble import RandomForestClassifier\n",
    "\n",
    "rf = RandomForestClassifier (n_estimators=300)\n",
    "\n",
    "rf = rf.fit(X_train, y_train)\n",
    "\n",
    "rf.score(X_test, y_test)"
   ]
  },
  {
   "cell_type": "code",
   "execution_count": 42,
   "metadata": {},
   "outputs": [
    {
     "data": {
      "text/plain": [
       "[(0.29385901930027636, 'Total'),\n",
       " (0.15718446491215413, 'Sp. Atk'),\n",
       " (0.1148550450690112, 'Speed'),\n",
       " (0.11287985966884564, 'HP'),\n",
       " (0.09732801496475155, 'Attack'),\n",
       " (0.09431328688696373, 'Sp. Def'),\n",
       " (0.06835382228846897, 'Defense'),\n",
       " (0.06122648690952849, 'Generation')]"
      ]
     },
     "execution_count": 42,
     "metadata": {},
     "output_type": "execute_result"
    }
   ],
   "source": [
    "# Sort by importance for predicting Legendary Status\n",
    "\n",
    "sorted(zip(rf.feature_importances_, feature_names), reverse = True)"
   ]
  },
  {
   "cell_type": "code",
   "execution_count": 43,
   "metadata": {},
   "outputs": [
    {
     "data": {
      "text/plain": [
       "Water       112\n",
       "Normal       98\n",
       "Grass        70\n",
       "Bug          69\n",
       "Psychic      57\n",
       "Fire         52\n",
       "Electric     44\n",
       "Rock         44\n",
       "Dragon       32\n",
       "Ground       32\n",
       "Ghost        32\n",
       "Dark         31\n",
       "Poison       28\n",
       "Steel        27\n",
       "Fighting     27\n",
       "Ice          24\n",
       "Fairy        17\n",
       "Flying        4\n",
       "Name: Type 1, dtype: int64"
      ]
     },
     "execution_count": 43,
     "metadata": {},
     "output_type": "execute_result"
    }
   ],
   "source": [
    "\n",
    "# Classification of Primary Type\n",
    "\n",
    "y2 = pokedex[\"Type 1\"]\n",
    "\n",
    "y2.value_counts()"
   ]
  },
  {
   "cell_type": "code",
   "execution_count": 44,
   "metadata": {},
   "outputs": [],
   "source": [
    "X_train, X_test, y_train, y_test = train_test_split(X, y2, random_state=47)\n"
   ]
  },
  {
   "cell_type": "code",
   "execution_count": 45,
   "metadata": {},
   "outputs": [
    {
     "data": {
      "text/plain": [
       "0.255"
      ]
     },
     "execution_count": 45,
     "metadata": {},
     "output_type": "execute_result"
    }
   ],
   "source": [
    "rf = RandomForestClassifier (n_estimators=300)\n",
    "\n",
    "rf = rf.fit(X_train, y_train)\n",
    "\n",
    "rf.score(X_test, y_test)"
   ]
  },
  {
   "cell_type": "code",
   "execution_count": 52,
   "metadata": {},
   "outputs": [
    {
     "name": "stdout",
     "output_type": "stream",
     "text": [
      "[[0.11457865 0.00999602 0.00460449 0.17878255 0.14688118 0.01281768\n",
      "  0.07219118 0.00246747 0.05466825 0.14346954 0.00368809 0.0650923\n",
      "  0.03920261 0.00522657 0.08650853 0.00132594 0.0005725  0.05792651]]\n"
     ]
    },
    {
     "name": "stderr",
     "output_type": "stream",
     "text": [
      "<ipython-input-52-377a60c8c00e>:12: SettingWithCopyWarning: \n",
      "A value is trying to be set on a copy of a slice from a DataFrame.\n",
      "Try using .loc[row_indexer,col_indexer] = value instead\n",
      "\n",
      "See the caveats in the documentation: https://pandas.pydata.org/pandas-docs/stable/user_guide/indexing.html#returning-a-view-versus-a-copy\n",
      "  predictions['KNN Prediction'] = predicted_class_knn\n"
     ]
    },
    {
     "data": {
      "text/html": [
       "<div>\n",
       "<style scoped>\n",
       "    .dataframe tbody tr th:only-of-type {\n",
       "        vertical-align: middle;\n",
       "    }\n",
       "\n",
       "    .dataframe tbody tr th {\n",
       "        vertical-align: top;\n",
       "    }\n",
       "\n",
       "    .dataframe thead th {\n",
       "        text-align: right;\n",
       "    }\n",
       "</style>\n",
       "<table border=\"1\" class=\"dataframe\">\n",
       "  <thead>\n",
       "    <tr style=\"text-align: right;\">\n",
       "      <th></th>\n",
       "      <th>Name</th>\n",
       "      <th>Type 1</th>\n",
       "      <th>KNN Prediction</th>\n",
       "    </tr>\n",
       "  </thead>\n",
       "  <tbody>\n",
       "    <tr>\n",
       "      <th>0</th>\n",
       "      <td>Bulbasaur</td>\n",
       "      <td>Grass</td>\n",
       "      <td>Fire</td>\n",
       "    </tr>\n",
       "    <tr>\n",
       "      <th>1</th>\n",
       "      <td>Ivysaur</td>\n",
       "      <td>Grass</td>\n",
       "      <td>Grass</td>\n",
       "    </tr>\n",
       "    <tr>\n",
       "      <th>2</th>\n",
       "      <td>Venusaur</td>\n",
       "      <td>Grass</td>\n",
       "      <td>Water</td>\n",
       "    </tr>\n",
       "    <tr>\n",
       "      <th>3</th>\n",
       "      <td>VenusaurMega Venusaur</td>\n",
       "      <td>Grass</td>\n",
       "      <td>Dragon</td>\n",
       "    </tr>\n",
       "    <tr>\n",
       "      <th>4</th>\n",
       "      <td>Charmander</td>\n",
       "      <td>Fire</td>\n",
       "      <td>Fire</td>\n",
       "    </tr>\n",
       "  </tbody>\n",
       "</table>\n",
       "</div>"
      ],
      "text/plain": [
       "                    Name Type 1 KNN Prediction\n",
       "0              Bulbasaur  Grass           Fire\n",
       "1                Ivysaur  Grass          Grass\n",
       "2               Venusaur  Grass          Water\n",
       "3  VenusaurMega Venusaur  Grass         Dragon\n",
       "4             Charmander   Fire           Fire"
      ]
     },
     "execution_count": 52,
     "metadata": {},
     "output_type": "execute_result"
    }
   ],
   "source": [
    "# Comparison of Predictions By Type 1\n",
    "predictions = pokedex[['Name',\"Type 1\"]]\n",
    "\n",
    "# KNN Predictions\n",
    "predicted_class_knn = knn.predict(X_scaler2.transform(X))\n",
    "\n",
    "# Neural Network Predicstions\n",
    "# predicted_class_nn = model.predict(X_scaler2.transform([[1,2,3,4,5,6,7,8]]))\n",
    "print(model.predict(X_scaler2.transform([[1,2,3,4,5,6,7,8]])))\n",
    "\n",
    "# Creating a dataframe to compare data\n",
    "predictions['KNN Prediction'] = predicted_class_knn\n",
    "# predictions['Neural Network Prediction'] = predicted_class_nn\n",
    "predictions.head()"
   ]
  },
  {
   "cell_type": "code",
   "execution_count": null,
   "metadata": {},
   "outputs": [],
   "source": []
  },
  {
   "cell_type": "code",
   "execution_count": null,
   "metadata": {},
   "outputs": [],
   "source": []
  },
  {
   "cell_type": "code",
   "execution_count": null,
   "metadata": {},
   "outputs": [],
   "source": []
  }
 ],
 "metadata": {
  "kernelspec": {
   "display_name": "Python 3",
   "language": "python",
   "name": "python3"
  },
  "language_info": {
   "codemirror_mode": {
    "name": "ipython",
    "version": 3
   },
   "file_extension": ".py",
   "mimetype": "text/x-python",
   "name": "python",
   "nbconvert_exporter": "python",
   "pygments_lexer": "ipython3",
   "version": "3.8.5"
  }
 },
 "nbformat": 4,
 "nbformat_minor": 4
}
