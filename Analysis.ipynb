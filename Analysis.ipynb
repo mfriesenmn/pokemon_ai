{
 "cells": [
  {
   "cell_type": "code",
   "execution_count": 1,
   "metadata": {},
   "outputs": [],
   "source": [
    "# Dependencies\n",
    "\n",
    "import matplotlib.pyplot as plt\n",
    "import pandas as pd\n",
    "from sklearn.neighbors import KNeighborsClassifier\n",
    "from sklearn import tree\n",
    "import os"
   ]
  },
  {
   "cell_type": "code",
   "execution_count": 2,
   "metadata": {},
   "outputs": [
    {
     "data": {
      "text/html": [
       "<div>\n",
       "<style scoped>\n",
       "    .dataframe tbody tr th:only-of-type {\n",
       "        vertical-align: middle;\n",
       "    }\n",
       "\n",
       "    .dataframe tbody tr th {\n",
       "        vertical-align: top;\n",
       "    }\n",
       "\n",
       "    .dataframe thead th {\n",
       "        text-align: right;\n",
       "    }\n",
       "</style>\n",
       "<table border=\"1\" class=\"dataframe\">\n",
       "  <thead>\n",
       "    <tr style=\"text-align: right;\">\n",
       "      <th></th>\n",
       "      <th>#</th>\n",
       "      <th>Name</th>\n",
       "      <th>Type 1</th>\n",
       "      <th>Type 2</th>\n",
       "      <th>Total</th>\n",
       "      <th>HP</th>\n",
       "      <th>Attack</th>\n",
       "      <th>Defense</th>\n",
       "      <th>Sp. Atk</th>\n",
       "      <th>Sp. Def</th>\n",
       "      <th>Speed</th>\n",
       "      <th>Generation</th>\n",
       "      <th>Legendary</th>\n",
       "    </tr>\n",
       "  </thead>\n",
       "  <tbody>\n",
       "    <tr>\n",
       "      <th>0</th>\n",
       "      <td>1</td>\n",
       "      <td>Bulbasaur</td>\n",
       "      <td>Grass</td>\n",
       "      <td>Poison</td>\n",
       "      <td>318</td>\n",
       "      <td>45</td>\n",
       "      <td>49</td>\n",
       "      <td>49</td>\n",
       "      <td>65</td>\n",
       "      <td>65</td>\n",
       "      <td>45</td>\n",
       "      <td>1</td>\n",
       "      <td>False</td>\n",
       "    </tr>\n",
       "    <tr>\n",
       "      <th>1</th>\n",
       "      <td>2</td>\n",
       "      <td>Ivysaur</td>\n",
       "      <td>Grass</td>\n",
       "      <td>Poison</td>\n",
       "      <td>405</td>\n",
       "      <td>60</td>\n",
       "      <td>62</td>\n",
       "      <td>63</td>\n",
       "      <td>80</td>\n",
       "      <td>80</td>\n",
       "      <td>60</td>\n",
       "      <td>1</td>\n",
       "      <td>False</td>\n",
       "    </tr>\n",
       "    <tr>\n",
       "      <th>2</th>\n",
       "      <td>3</td>\n",
       "      <td>Venusaur</td>\n",
       "      <td>Grass</td>\n",
       "      <td>Poison</td>\n",
       "      <td>525</td>\n",
       "      <td>80</td>\n",
       "      <td>82</td>\n",
       "      <td>83</td>\n",
       "      <td>100</td>\n",
       "      <td>100</td>\n",
       "      <td>80</td>\n",
       "      <td>1</td>\n",
       "      <td>False</td>\n",
       "    </tr>\n",
       "    <tr>\n",
       "      <th>3</th>\n",
       "      <td>3</td>\n",
       "      <td>VenusaurMega Venusaur</td>\n",
       "      <td>Grass</td>\n",
       "      <td>Poison</td>\n",
       "      <td>625</td>\n",
       "      <td>80</td>\n",
       "      <td>100</td>\n",
       "      <td>123</td>\n",
       "      <td>122</td>\n",
       "      <td>120</td>\n",
       "      <td>80</td>\n",
       "      <td>1</td>\n",
       "      <td>False</td>\n",
       "    </tr>\n",
       "    <tr>\n",
       "      <th>4</th>\n",
       "      <td>4</td>\n",
       "      <td>Charmander</td>\n",
       "      <td>Fire</td>\n",
       "      <td>NaN</td>\n",
       "      <td>309</td>\n",
       "      <td>39</td>\n",
       "      <td>52</td>\n",
       "      <td>43</td>\n",
       "      <td>60</td>\n",
       "      <td>50</td>\n",
       "      <td>65</td>\n",
       "      <td>1</td>\n",
       "      <td>False</td>\n",
       "    </tr>\n",
       "  </tbody>\n",
       "</table>\n",
       "</div>"
      ],
      "text/plain": [
       "   #                   Name Type 1  Type 2  Total  HP  Attack  Defense  \\\n",
       "0  1              Bulbasaur  Grass  Poison    318  45      49       49   \n",
       "1  2                Ivysaur  Grass  Poison    405  60      62       63   \n",
       "2  3               Venusaur  Grass  Poison    525  80      82       83   \n",
       "3  3  VenusaurMega Venusaur  Grass  Poison    625  80     100      123   \n",
       "4  4             Charmander   Fire     NaN    309  39      52       43   \n",
       "\n",
       "   Sp. Atk  Sp. Def  Speed  Generation  Legendary  \n",
       "0       65       65     45           1      False  \n",
       "1       80       80     60           1      False  \n",
       "2      100      100     80           1      False  \n",
       "3      122      120     80           1      False  \n",
       "4       60       50     65           1      False  "
      ]
     },
     "execution_count": 2,
     "metadata": {},
     "output_type": "execute_result"
    }
   ],
   "source": [
    "pokedex = pd.read_csv('Pokemon.csv')\n",
    "pokedex.head()"
   ]
  },
  {
   "cell_type": "code",
   "execution_count": 3,
   "metadata": {},
   "outputs": [
    {
     "data": {
      "text/plain": [
       "False    735\n",
       "True      65\n",
       "Name: Legendary, dtype: int64"
      ]
     },
     "execution_count": 3,
     "metadata": {},
     "output_type": "execute_result"
    }
   ],
   "source": [
    "# This is Daniels section of code\n",
    "# Classification of Legendary Status\n",
    "y = pokedex[\"Legendary\"]\n",
    "y.value_counts()\n"
   ]
  },
  {
   "cell_type": "code",
   "execution_count": 4,
   "metadata": {},
   "outputs": [
    {
     "data": {
      "text/html": [
       "<div>\n",
       "<style scoped>\n",
       "    .dataframe tbody tr th:only-of-type {\n",
       "        vertical-align: middle;\n",
       "    }\n",
       "\n",
       "    .dataframe tbody tr th {\n",
       "        vertical-align: top;\n",
       "    }\n",
       "\n",
       "    .dataframe thead th {\n",
       "        text-align: right;\n",
       "    }\n",
       "</style>\n",
       "<table border=\"1\" class=\"dataframe\">\n",
       "  <thead>\n",
       "    <tr style=\"text-align: right;\">\n",
       "      <th></th>\n",
       "      <th>Total</th>\n",
       "      <th>HP</th>\n",
       "      <th>Attack</th>\n",
       "      <th>Defense</th>\n",
       "      <th>Sp. Atk</th>\n",
       "      <th>Sp. Def</th>\n",
       "      <th>Speed</th>\n",
       "    </tr>\n",
       "  </thead>\n",
       "  <tbody>\n",
       "    <tr>\n",
       "      <th>0</th>\n",
       "      <td>318</td>\n",
       "      <td>45</td>\n",
       "      <td>49</td>\n",
       "      <td>49</td>\n",
       "      <td>65</td>\n",
       "      <td>65</td>\n",
       "      <td>45</td>\n",
       "    </tr>\n",
       "    <tr>\n",
       "      <th>1</th>\n",
       "      <td>405</td>\n",
       "      <td>60</td>\n",
       "      <td>62</td>\n",
       "      <td>63</td>\n",
       "      <td>80</td>\n",
       "      <td>80</td>\n",
       "      <td>60</td>\n",
       "    </tr>\n",
       "    <tr>\n",
       "      <th>2</th>\n",
       "      <td>525</td>\n",
       "      <td>80</td>\n",
       "      <td>82</td>\n",
       "      <td>83</td>\n",
       "      <td>100</td>\n",
       "      <td>100</td>\n",
       "      <td>80</td>\n",
       "    </tr>\n",
       "    <tr>\n",
       "      <th>3</th>\n",
       "      <td>625</td>\n",
       "      <td>80</td>\n",
       "      <td>100</td>\n",
       "      <td>123</td>\n",
       "      <td>122</td>\n",
       "      <td>120</td>\n",
       "      <td>80</td>\n",
       "    </tr>\n",
       "    <tr>\n",
       "      <th>4</th>\n",
       "      <td>309</td>\n",
       "      <td>39</td>\n",
       "      <td>52</td>\n",
       "      <td>43</td>\n",
       "      <td>60</td>\n",
       "      <td>50</td>\n",
       "      <td>65</td>\n",
       "    </tr>\n",
       "  </tbody>\n",
       "</table>\n",
       "</div>"
      ],
      "text/plain": [
       "   Total  HP  Attack  Defense  Sp. Atk  Sp. Def  Speed\n",
       "0    318  45      49       49       65       65     45\n",
       "1    405  60      62       63       80       80     60\n",
       "2    525  80      82       83      100      100     80\n",
       "3    625  80     100      123      122      120     80\n",
       "4    309  39      52       43       60       50     65"
      ]
     },
     "execution_count": 4,
     "metadata": {},
     "output_type": "execute_result"
    }
   ],
   "source": [
    "X = pokedex.drop(\"Legendary\", axis=1)\n",
    "X = X.drop(\"#\", axis=1)\n",
    "X = X.drop(\"Name\", axis=1)\n",
    "X = X.drop(\"Type 1\", axis=1)\n",
    "X = X.drop(\"Type 2\", axis=1)\n",
    "X = X.drop(\"Generation\", axis=1)\n",
    "X.head()"
   ]
  },
  {
   "cell_type": "code",
   "execution_count": 5,
   "metadata": {},
   "outputs": [],
   "source": [
    "from sklearn.model_selection import train_test_split\n",
    "X_train, X_test, y_train, y_test = train_test_split(X, y, random_state=1)"
   ]
  },
  {
   "cell_type": "code",
   "execution_count": 6,
   "metadata": {},
   "outputs": [],
   "source": [
    "from sklearn.preprocessing import StandardScaler\n",
    "\n",
    "# Create a StandardScater model and fit it to the training data\n",
    "\n",
    "X_scaler = StandardScaler().fit(X_train)"
   ]
  },
  {
   "cell_type": "code",
   "execution_count": 7,
   "metadata": {},
   "outputs": [],
   "source": [
    "# Transform the training and testing data using the X_scaler and y_scaler models\n",
    "\n",
    "X_train_scaled = X_scaler.transform(X_train)\n",
    "X_test_scaled = X_scaler.transform(X_test)"
   ]
  },
  {
   "cell_type": "code",
   "execution_count": 8,
   "metadata": {},
   "outputs": [
    {
     "name": "stdout",
     "output_type": "stream",
     "text": [
      "k: 1, Train/Test Score: 0.995/0.920\n",
      "k: 3, Train/Test Score: 0.977/0.910\n",
      "k: 5, Train/Test Score: 0.960/0.905\n",
      "k: 7, Train/Test Score: 0.958/0.920\n",
      "k: 9, Train/Test Score: 0.953/0.925\n",
      "k: 11, Train/Test Score: 0.945/0.925\n",
      "k: 13, Train/Test Score: 0.948/0.935\n",
      "k: 15, Train/Test Score: 0.952/0.935\n",
      "k: 17, Train/Test Score: 0.945/0.935\n",
      "k: 19, Train/Test Score: 0.948/0.930\n"
     ]
    },
    {
     "data": {
      "image/png": "[encoded data removed]",
      "text/plain": [
       "<Figure size 432x288 with 1 Axes>"
      ]
     },
     "metadata": {
      "needs_background": "light"
     },
     "output_type": "display_data"
    }
   ],
   "source": [
    "# Loop through different k values to see which has the highest accuracy\n",
    "# Note: We only use odd numbers because we don't want any ties\n",
    "train_scores = []\n",
    "test_scores = []\n",
    "for k in range(1, 20, 2):\n",
    "    knn = KNeighborsClassifier(n_neighbors=k)\n",
    "    knn.fit(X_train_scaled, y_train)\n",
    "    train_score = knn.score(X_train_scaled, y_train)\n",
    "    test_score = knn.score(X_test_scaled, y_test)\n",
    "    train_scores.append(train_score)\n",
    "    test_scores.append(test_score)\n",
    "    print(f\"k: {k}, Train/Test Score: {train_score:.3f}/{test_score:.3f}\")\n",
    "    \n",
    "    \n",
    "plt.plot(range(1, 20, 2), train_scores, marker='o')\n",
    "plt.plot(range(1, 20, 2), test_scores, marker=\"x\")\n",
    "plt.xlabel(\"k neighbors\")\n",
    "plt.ylabel(\"Testing accuracy Score\")\n",
    "plt.show()"
   ]
  },
  {
   "cell_type": "code",
   "execution_count": 9,
   "metadata": {},
   "outputs": [
    {
     "name": "stdout",
     "output_type": "stream",
     "text": [
      "k=15 Test Acc: 0.935\n"
     ]
    }
   ],
   "source": [
    "# Note that k: 15 provides the best accuracy where the classifier starts to stablize\n",
    "knn = KNeighborsClassifier(n_neighbors=15)\n",
    "knn.fit(X_train_scaled, y_train)\n",
    "print('k=15 Test Acc: %.3f' % knn.score(X_test_scaled, y_test))"
   ]
  },
  {
   "cell_type": "code",
   "execution_count": 10,
   "metadata": {},
   "outputs": [],
   "source": [
    "predicted_class = knn.predict(X_scaler.transform(X))\n",
    "# print(predicted_class)"
   ]
  },
  {
   "cell_type": "code",
   "execution_count": 11,
   "metadata": {},
   "outputs": [
    {
     "data": {
      "text/plain": [
       "Water       112\n",
       "Normal       98\n",
       "Grass        70\n",
       "Bug          69\n",
       "Psychic      57\n",
       "Fire         52\n",
       "Rock         44\n",
       "Electric     44\n",
       "Ground       32\n",
       "Ghost        32\n",
       "Dragon       32\n",
       "Dark         31\n",
       "Poison       28\n",
       "Fighting     27\n",
       "Steel        27\n",
       "Ice          24\n",
       "Fairy        17\n",
       "Flying        4\n",
       "Name: Type 1, dtype: int64"
      ]
     },
     "execution_count": 11,
     "metadata": {},
     "output_type": "execute_result"
    }
   ],
   "source": [
    "# Classification of Primary Type\n",
    "y2 = pokedex[\"Type 1\"]\n",
    "y2.value_counts()"
   ]
  },
  {
   "cell_type": "code",
   "execution_count": 12,
   "metadata": {},
   "outputs": [],
   "source": [
    "X_train, X_test, y_train, y_test = train_test_split(X, y2, random_state=47)\n",
    "\n",
    "X_scaler2 = StandardScaler().fit(X_train)\n",
    "\n",
    "X_train_scaled = X_scaler2.transform(X_train)\n",
    "X_test_scaled = X_scaler2.transform(X_test)"
   ]
  },
  {
   "cell_type": "code",
   "execution_count": 13,
   "metadata": {},
   "outputs": [
    {
     "name": "stdout",
     "output_type": "stream",
     "text": [
      "k: 1, Train/Test Score: 0.990/0.180\n",
      "k: 3, Train/Test Score: 0.485/0.155\n",
      "k: 5, Train/Test Score: 0.418/0.190\n",
      "k: 7, Train/Test Score: 0.417/0.210\n",
      "k: 9, Train/Test Score: 0.383/0.195\n",
      "k: 11, Train/Test Score: 0.360/0.205\n",
      "k: 13, Train/Test Score: 0.372/0.215\n",
      "k: 15, Train/Test Score: 0.348/0.235\n",
      "k: 17, Train/Test Score: 0.342/0.240\n",
      "k: 19, Train/Test Score: 0.322/0.235\n"
     ]
    },
    {
     "data": {
      "image/png": "[encoded data removed]",
      "text/plain": [
       "<Figure size 432x288 with 1 Axes>"
      ]
     },
     "metadata": {
      "needs_background": "light"
     },
     "output_type": "display_data"
    }
   ],
   "source": [
    "# Loop through different k values to see which has the highest accuracy\n",
    "# Note: We only use odd numbers because we don't want any ties\n",
    "train_scores = []\n",
    "test_scores = []\n",
    "for k in range(1, 20, 2):\n",
    "    knn = KNeighborsClassifier(n_neighbors=k)\n",
    "    knn.fit(X_train_scaled, y_train)\n",
    "    train_score = knn.score(X_train_scaled, y_train)\n",
    "    test_score = knn.score(X_test_scaled, y_test)\n",
    "    train_scores.append(train_score)\n",
    "    test_scores.append(test_score)\n",
    "    print(f\"k: {k}, Train/Test Score: {train_score:.3f}/{test_score:.3f}\")\n",
    "    \n",
    "    \n",
    "plt.plot(range(1, 20, 2), train_scores, marker='o')\n",
    "plt.plot(range(1, 20, 2), test_scores, marker=\"x\")\n",
    "plt.xlabel(\"k neighbors\")\n",
    "plt.ylabel(\"Testing accuracy Score\")\n",
    "plt.show()"
   ]
  },
  {
   "cell_type": "code",
   "execution_count": 14,
   "metadata": {
    "scrolled": true
   },
   "outputs": [
    {
     "name": "stdout",
     "output_type": "stream",
     "text": [
      "k=17 Test Acc: 0.240\n"
     ]
    }
   ],
   "source": [
    "# Note that k: 17 provides the best accuracy where the classifier starts to stablize\n",
    "knn = KNeighborsClassifier(n_neighbors=17)\n",
    "knn.fit(X_train_scaled, y_train)\n",
    "print('k=17 Test Acc: %.3f' % knn.score(X_test_scaled, y_test))"
   ]
  },
  {
   "cell_type": "code",
   "execution_count": 15,
   "metadata": {},
   "outputs": [
    {
     "name": "stderr",
     "output_type": "stream",
     "text": [
      "<ipython-input-15-53e135d534af>:5: SettingWithCopyWarning: \n",
      "A value is trying to be set on a copy of a slice from a DataFrame.\n",
      "Try using .loc[row_indexer,col_indexer] = value instead\n",
      "\n",
      "See the caveats in the documentation: https://pandas.pydata.org/pandas-docs/stable/user_guide/indexing.html#returning-a-view-versus-a-copy\n",
      "  predictions['Predicted Type'] = predicted_class\n"
     ]
    },
    {
     "data": {
      "text/html": [
       "<div>\n",
       "<style scoped>\n",
       "    .dataframe tbody tr th:only-of-type {\n",
       "        vertical-align: middle;\n",
       "    }\n",
       "\n",
       "    .dataframe tbody tr th {\n",
       "        vertical-align: top;\n",
       "    }\n",
       "\n",
       "    .dataframe thead th {\n",
       "        text-align: right;\n",
       "    }\n",
       "</style>\n",
       "<table border=\"1\" class=\"dataframe\">\n",
       "  <thead>\n",
       "    <tr style=\"text-align: right;\">\n",
       "      <th></th>\n",
       "      <th>Name</th>\n",
       "      <th>Type 1</th>\n",
       "      <th>Predicted Type</th>\n",
       "    </tr>\n",
       "  </thead>\n",
       "  <tbody>\n",
       "    <tr>\n",
       "      <th>0</th>\n",
       "      <td>Bulbasaur</td>\n",
       "      <td>Grass</td>\n",
       "      <td>Water</td>\n",
       "    </tr>\n",
       "    <tr>\n",
       "      <th>1</th>\n",
       "      <td>Ivysaur</td>\n",
       "      <td>Grass</td>\n",
       "      <td>Grass</td>\n",
       "    </tr>\n",
       "    <tr>\n",
       "      <th>2</th>\n",
       "      <td>Venusaur</td>\n",
       "      <td>Grass</td>\n",
       "      <td>Water</td>\n",
       "    </tr>\n",
       "    <tr>\n",
       "      <th>3</th>\n",
       "      <td>VenusaurMega Venusaur</td>\n",
       "      <td>Grass</td>\n",
       "      <td>Psychic</td>\n",
       "    </tr>\n",
       "    <tr>\n",
       "      <th>4</th>\n",
       "      <td>Charmander</td>\n",
       "      <td>Fire</td>\n",
       "      <td>Fire</td>\n",
       "    </tr>\n",
       "  </tbody>\n",
       "</table>\n",
       "</div>"
      ],
      "text/plain": [
       "                    Name Type 1 Predicted Type\n",
       "0              Bulbasaur  Grass          Water\n",
       "1                Ivysaur  Grass          Grass\n",
       "2               Venusaur  Grass          Water\n",
       "3  VenusaurMega Venusaur  Grass        Psychic\n",
       "4             Charmander   Fire           Fire"
      ]
     },
     "execution_count": 15,
     "metadata": {},
     "output_type": "execute_result"
    }
   ],
   "source": [
    "predicted_class = knn.predict(X_scaler2.transform(X))\n",
    "# print(predicted_class)\n",
    "\n",
    "predictions = pokedex[['Name',\"Type 1\"]]\n",
    "predictions['Predicted Type'] = predicted_class\n",
    "predictions.head()"
   ]
  },
  {
   "cell_type": "code",
   "execution_count": 16,
   "metadata": {},
   "outputs": [
    {
     "name": "stderr",
     "output_type": "stream",
     "text": [
      "<ipython-input-16-4e4376b56e8c>:7: SettingWithCopyWarning: \n",
      "A value is trying to be set on a copy of a slice from a DataFrame.\n",
      "Try using .loc[row_indexer,col_indexer] = value instead\n",
      "\n",
      "See the caveats in the documentation: https://pandas.pydata.org/pandas-docs/stable/user_guide/indexing.html#returning-a-view-versus-a-copy\n",
      "  predictions['Accurate'] = accuracy\n"
     ]
    },
    {
     "data": {
      "text/html": [
       "<div>\n",
       "<style scoped>\n",
       "    .dataframe tbody tr th:only-of-type {\n",
       "        vertical-align: middle;\n",
       "    }\n",
       "\n",
       "    .dataframe tbody tr th {\n",
       "        vertical-align: top;\n",
       "    }\n",
       "\n",
       "    .dataframe thead th {\n",
       "        text-align: right;\n",
       "    }\n",
       "</style>\n",
       "<table border=\"1\" class=\"dataframe\">\n",
       "  <thead>\n",
       "    <tr style=\"text-align: right;\">\n",
       "      <th></th>\n",
       "      <th>Name</th>\n",
       "      <th>Type 1</th>\n",
       "      <th>Predicted Type</th>\n",
       "      <th>Accurate</th>\n",
       "    </tr>\n",
       "  </thead>\n",
       "  <tbody>\n",
       "    <tr>\n",
       "      <th>0</th>\n",
       "      <td>Bulbasaur</td>\n",
       "      <td>Grass</td>\n",
       "      <td>Water</td>\n",
       "      <td>0</td>\n",
       "    </tr>\n",
       "    <tr>\n",
       "      <th>1</th>\n",
       "      <td>Ivysaur</td>\n",
       "      <td>Grass</td>\n",
       "      <td>Grass</td>\n",
       "      <td>1</td>\n",
       "    </tr>\n",
       "    <tr>\n",
       "      <th>2</th>\n",
       "      <td>Venusaur</td>\n",
       "      <td>Grass</td>\n",
       "      <td>Water</td>\n",
       "      <td>0</td>\n",
       "    </tr>\n",
       "    <tr>\n",
       "      <th>3</th>\n",
       "      <td>VenusaurMega Venusaur</td>\n",
       "      <td>Grass</td>\n",
       "      <td>Psychic</td>\n",
       "      <td>0</td>\n",
       "    </tr>\n",
       "    <tr>\n",
       "      <th>4</th>\n",
       "      <td>Charmander</td>\n",
       "      <td>Fire</td>\n",
       "      <td>Fire</td>\n",
       "      <td>1</td>\n",
       "    </tr>\n",
       "  </tbody>\n",
       "</table>\n",
       "</div>"
      ],
      "text/plain": [
       "                    Name Type 1 Predicted Type  Accurate\n",
       "0              Bulbasaur  Grass          Water         0\n",
       "1                Ivysaur  Grass          Grass         1\n",
       "2               Venusaur  Grass          Water         0\n",
       "3  VenusaurMega Venusaur  Grass        Psychic         0\n",
       "4             Charmander   Fire           Fire         1"
      ]
     },
     "execution_count": 16,
     "metadata": {},
     "output_type": "execute_result"
    }
   ],
   "source": [
    "accuracy = []\n",
    "for index, row in predictions.iterrows():\n",
    "    if predictions.loc[index,'Type 1'] == predictions.loc[index,'Predicted Type']:\n",
    "        accuracy.append(1)\n",
    "    else:\n",
    "        accuracy.append(0)\n",
    "predictions['Accurate'] = accuracy\n",
    "predictions.head()"
   ]
  },
  {
   "cell_type": "code",
   "execution_count": 17,
   "metadata": {},
   "outputs": [
    {
     "data": {
      "text/html": [
       "<div>\n",
       "<style scoped>\n",
       "    .dataframe tbody tr th:only-of-type {\n",
       "        vertical-align: middle;\n",
       "    }\n",
       "\n",
       "    .dataframe tbody tr th {\n",
       "        vertical-align: top;\n",
       "    }\n",
       "\n",
       "    .dataframe thead th {\n",
       "        text-align: right;\n",
       "    }\n",
       "</style>\n",
       "<table border=\"1\" class=\"dataframe\">\n",
       "  <thead>\n",
       "    <tr style=\"text-align: right;\">\n",
       "      <th></th>\n",
       "      <th>Accurate</th>\n",
       "    </tr>\n",
       "    <tr>\n",
       "      <th>Type 1</th>\n",
       "      <th></th>\n",
       "    </tr>\n",
       "  </thead>\n",
       "  <tbody>\n",
       "    <tr>\n",
       "      <th>Bug</th>\n",
       "      <td>0.550725</td>\n",
       "    </tr>\n",
       "    <tr>\n",
       "      <th>Dark</th>\n",
       "      <td>0.032258</td>\n",
       "    </tr>\n",
       "    <tr>\n",
       "      <th>Dragon</th>\n",
       "      <td>0.437500</td>\n",
       "    </tr>\n",
       "    <tr>\n",
       "      <th>Electric</th>\n",
       "      <td>0.454545</td>\n",
       "    </tr>\n",
       "    <tr>\n",
       "      <th>Fairy</th>\n",
       "      <td>0.058824</td>\n",
       "    </tr>\n",
       "    <tr>\n",
       "      <th>Fighting</th>\n",
       "      <td>0.074074</td>\n",
       "    </tr>\n",
       "    <tr>\n",
       "      <th>Fire</th>\n",
       "      <td>0.480769</td>\n",
       "    </tr>\n",
       "    <tr>\n",
       "      <th>Flying</th>\n",
       "      <td>0.000000</td>\n",
       "    </tr>\n",
       "    <tr>\n",
       "      <th>Ghost</th>\n",
       "      <td>0.218750</td>\n",
       "    </tr>\n",
       "    <tr>\n",
       "      <th>Grass</th>\n",
       "      <td>0.242857</td>\n",
       "    </tr>\n",
       "    <tr>\n",
       "      <th>Ground</th>\n",
       "      <td>0.062500</td>\n",
       "    </tr>\n",
       "    <tr>\n",
       "      <th>Ice</th>\n",
       "      <td>0.000000</td>\n",
       "    </tr>\n",
       "    <tr>\n",
       "      <th>Normal</th>\n",
       "      <td>0.642857</td>\n",
       "    </tr>\n",
       "    <tr>\n",
       "      <th>Poison</th>\n",
       "      <td>0.000000</td>\n",
       "    </tr>\n",
       "    <tr>\n",
       "      <th>Psychic</th>\n",
       "      <td>0.105263</td>\n",
       "    </tr>\n",
       "    <tr>\n",
       "      <th>Rock</th>\n",
       "      <td>0.204545</td>\n",
       "    </tr>\n",
       "    <tr>\n",
       "      <th>Steel</th>\n",
       "      <td>0.148148</td>\n",
       "    </tr>\n",
       "    <tr>\n",
       "      <th>Water</th>\n",
       "      <td>0.392857</td>\n",
       "    </tr>\n",
       "  </tbody>\n",
       "</table>\n",
       "</div>"
      ],
      "text/plain": [
       "          Accurate\n",
       "Type 1            \n",
       "Bug       0.550725\n",
       "Dark      0.032258\n",
       "Dragon    0.437500\n",
       "Electric  0.454545\n",
       "Fairy     0.058824\n",
       "Fighting  0.074074\n",
       "Fire      0.480769\n",
       "Flying    0.000000\n",
       "Ghost     0.218750\n",
       "Grass     0.242857\n",
       "Ground    0.062500\n",
       "Ice       0.000000\n",
       "Normal    0.642857\n",
       "Poison    0.000000\n",
       "Psychic   0.105263\n",
       "Rock      0.204545\n",
       "Steel     0.148148\n",
       "Water     0.392857"
      ]
     },
     "execution_count": 17,
     "metadata": {},
     "output_type": "execute_result"
    }
   ],
   "source": [
    "grouping = predictions.groupby('Type 1')\n",
    "grouping.mean()"
   ]
  },
  {
   "cell_type": "code",
   "execution_count": null,
   "metadata": {},
   "outputs": [],
   "source": []
  },
  {
   "cell_type": "code",
   "execution_count": 18,
   "metadata": {},
   "outputs": [
    {
     "data": {
      "text/html": [
       "<div>\n",
       "<style scoped>\n",
       "    .dataframe tbody tr th:only-of-type {\n",
       "        vertical-align: middle;\n",
       "    }\n",
       "\n",
       "    .dataframe tbody tr th {\n",
       "        vertical-align: top;\n",
       "    }\n",
       "\n",
       "    .dataframe thead th {\n",
       "        text-align: right;\n",
       "    }\n",
       "</style>\n",
       "<table border=\"1\" class=\"dataframe\">\n",
       "  <thead>\n",
       "    <tr style=\"text-align: right;\">\n",
       "      <th></th>\n",
       "      <th>Total</th>\n",
       "      <th>HP</th>\n",
       "      <th>Attack</th>\n",
       "      <th>Defense</th>\n",
       "      <th>Sp. Atk</th>\n",
       "      <th>Sp. Def</th>\n",
       "      <th>Speed</th>\n",
       "      <th>Generation</th>\n",
       "    </tr>\n",
       "  </thead>\n",
       "  <tbody>\n",
       "    <tr>\n",
       "      <th>0</th>\n",
       "      <td>318</td>\n",
       "      <td>45</td>\n",
       "      <td>49</td>\n",
       "      <td>49</td>\n",
       "      <td>65</td>\n",
       "      <td>65</td>\n",
       "      <td>45</td>\n",
       "      <td>1</td>\n",
       "    </tr>\n",
       "    <tr>\n",
       "      <th>1</th>\n",
       "      <td>405</td>\n",
       "      <td>60</td>\n",
       "      <td>62</td>\n",
       "      <td>63</td>\n",
       "      <td>80</td>\n",
       "      <td>80</td>\n",
       "      <td>60</td>\n",
       "      <td>1</td>\n",
       "    </tr>\n",
       "    <tr>\n",
       "      <th>2</th>\n",
       "      <td>525</td>\n",
       "      <td>80</td>\n",
       "      <td>82</td>\n",
       "      <td>83</td>\n",
       "      <td>100</td>\n",
       "      <td>100</td>\n",
       "      <td>80</td>\n",
       "      <td>1</td>\n",
       "    </tr>\n",
       "    <tr>\n",
       "      <th>3</th>\n",
       "      <td>625</td>\n",
       "      <td>80</td>\n",
       "      <td>100</td>\n",
       "      <td>123</td>\n",
       "      <td>122</td>\n",
       "      <td>120</td>\n",
       "      <td>80</td>\n",
       "      <td>1</td>\n",
       "    </tr>\n",
       "    <tr>\n",
       "      <th>4</th>\n",
       "      <td>309</td>\n",
       "      <td>39</td>\n",
       "      <td>52</td>\n",
       "      <td>43</td>\n",
       "      <td>60</td>\n",
       "      <td>50</td>\n",
       "      <td>65</td>\n",
       "      <td>1</td>\n",
       "    </tr>\n",
       "  </tbody>\n",
       "</table>\n",
       "</div>"
      ],
      "text/plain": [
       "   Total  HP  Attack  Defense  Sp. Atk  Sp. Def  Speed  Generation\n",
       "0    318  45      49       49       65       65     45           1\n",
       "1    405  60      62       63       80       80     60           1\n",
       "2    525  80      82       83      100      100     80           1\n",
       "3    625  80     100      123      122      120     80           1\n",
       "4    309  39      52       43       60       50     65           1"
      ]
     },
     "execution_count": 18,
     "metadata": {},
     "output_type": "execute_result"
    }
   ],
   "source": [
    "# This is Tanners section of code\n",
    "\n",
    "from numpy.random import seed\n",
    "seed(1)\n",
    "%matplotlib inline\n",
    "import matplotlib.pyplot as plt\n",
    "import numpy as np\n",
    "import sklearn\n",
    "import sklearn.datasets\n",
    "\n",
    "\n",
    "y = pokedex['Legendary']\n",
    "\n",
    "X = pokedex.drop(\"Legendary\", axis=1)\n",
    "X = X.drop(\"#\", axis=1)\n",
    "X = X.drop(\"Name\", axis=1)\n",
    "X = X.drop(\"Type 1\", axis=1)\n",
    "X = X.drop(\"Type 2\", axis=1)\n",
    "X.head()"
   ]
  },
  {
   "cell_type": "code",
   "execution_count": 19,
   "metadata": {},
   "outputs": [],
   "source": [
    " # Use train_test_split to create training and testing data\n",
    "from sklearn.model_selection import train_test_split\n",
    "\n",
    "X_train, X_test, y_train, y_test = train_test_split(X, y, random_state=1)"
   ]
  },
  {
   "cell_type": "code",
   "execution_count": 20,
   "metadata": {},
   "outputs": [],
   "source": [
    "from sklearn.preprocessing import StandardScaler\n",
    "\n",
    "# Create a StandardScater model and fit it to the training data\n",
    "X_scaler = StandardScaler().fit(X_train)"
   ]
  },
  {
   "cell_type": "code",
   "execution_count": 21,
   "metadata": {},
   "outputs": [],
   "source": [
    " # Transform the training and testing data using the X_scaler\n",
    "\n",
    "X_train_scaled = X_scaler.transform(X_train)\n",
    "X_test_scaled = X_scaler.transform(X_test)"
   ]
  },
  {
   "cell_type": "code",
   "execution_count": 22,
   "metadata": {},
   "outputs": [],
   "source": [
    "from tensorflow.keras.utils import to_categorical"
   ]
  },
  {
   "cell_type": "code",
   "execution_count": 23,
   "metadata": {},
   "outputs": [],
   "source": [
    "# One-hot encoding\n",
    "y_train_categorical = to_categorical(y_train)\n",
    "y_test_categorical = to_categorical(y_test)"
   ]
  },
  {
   "cell_type": "code",
   "execution_count": 24,
   "metadata": {},
   "outputs": [],
   "source": [
    "# first, create a normal neural network with 2 inputs, 6 hidden nodes, and 2 outputs\n",
    "from tensorflow.keras.models import Sequential\n",
    "from tensorflow.keras.layers import Dense\n",
    "\n",
    "model = Sequential()\n",
    "model.add(Dense(units=6, activation='relu', input_dim=8))\n",
    "model.add(Dense(units=2, activation='softmax'))"
   ]
  },
  {
   "cell_type": "code",
   "execution_count": 25,
   "metadata": {},
   "outputs": [
    {
     "name": "stdout",
     "output_type": "stream",
     "text": [
      "Model: \"sequential\"\n",
      "_________________________________________________________________\n",
      "Layer (type)                 Output Shape              Param #   \n",
      "=================================================================\n",
      "dense (Dense)                (None, 6)                 54        \n",
      "_________________________________________________________________\n",
      "dense_1 (Dense)              (None, 2)                 14        \n",
      "=================================================================\n",
      "Total params: 68\n",
      "Trainable params: 68\n",
      "Non-trainable params: 0\n",
      "_________________________________________________________________\n"
     ]
    }
   ],
   "source": [
    "model.summary()"
   ]
  },
  {
   "cell_type": "code",
   "execution_count": 26,
   "metadata": {},
   "outputs": [],
   "source": [
    "# Compile the model\n",
    "model.compile(optimizer='adam',\n",
    "              loss='categorical_crossentropy',\n",
    "              metrics=['accuracy'])"
   ]
  },
  {
   "cell_type": "code",
   "execution_count": 27,
   "metadata": {},
   "outputs": [
    {
     "name": "stdout",
     "output_type": "stream",
     "text": [
      "Epoch 1/100\n",
      "19/19 - 0s - loss: 0.7532 - accuracy: 0.5367 - val_loss: 0.6775 - val_accuracy: 0.5850\n",
      "Epoch 2/100\n",
      "19/19 - 0s - loss: 0.6975 - accuracy: 0.6183 - val_loss: 0.6239 - val_accuracy: 0.7300\n",
      "Epoch 3/100\n",
      "19/19 - 0s - loss: 0.6457 - accuracy: 0.7017 - val_loss: 0.5758 - val_accuracy: 0.7850\n",
      "Epoch 4/100\n",
      "19/19 - 0s - loss: 0.5981 - accuracy: 0.7683 - val_loss: 0.5316 - val_accuracy: 0.8050\n",
      "Epoch 5/100\n",
      "19/19 - 0s - loss: 0.5547 - accuracy: 0.8067 - val_loss: 0.4928 - val_accuracy: 0.8700\n",
      "Epoch 6/100\n",
      "19/19 - 0s - loss: 0.5137 - accuracy: 0.8267 - val_loss: 0.4565 - val_accuracy: 0.8800\n",
      "Epoch 7/100\n",
      "19/19 - 0s - loss: 0.4772 - accuracy: 0.8500 - val_loss: 0.4241 - val_accuracy: 0.8850\n",
      "Epoch 8/100\n",
      "19/19 - 0s - loss: 0.4445 - accuracy: 0.8650 - val_loss: 0.3956 - val_accuracy: 0.8900\n",
      "Epoch 9/100\n",
      "19/19 - 0s - loss: 0.4144 - accuracy: 0.8800 - val_loss: 0.3707 - val_accuracy: 0.9100\n",
      "Epoch 10/100\n",
      "19/19 - 0s - loss: 0.3891 - accuracy: 0.8867 - val_loss: 0.3483 - val_accuracy: 0.9150\n",
      "Epoch 11/100\n",
      "19/19 - 0s - loss: 0.3659 - accuracy: 0.8950 - val_loss: 0.3296 - val_accuracy: 0.9250\n",
      "Epoch 12/100\n",
      "19/19 - 0s - loss: 0.3459 - accuracy: 0.9067 - val_loss: 0.3131 - val_accuracy: 0.9300\n",
      "Epoch 13/100\n",
      "19/19 - 0s - loss: 0.3280 - accuracy: 0.9167 - val_loss: 0.2984 - val_accuracy: 0.9300\n",
      "Epoch 14/100\n",
      "19/19 - 0s - loss: 0.3123 - accuracy: 0.9250 - val_loss: 0.2853 - val_accuracy: 0.9300\n",
      "Epoch 15/100\n",
      "19/19 - 0s - loss: 0.2980 - accuracy: 0.9283 - val_loss: 0.2732 - val_accuracy: 0.9300\n",
      "Epoch 16/100\n",
      "19/19 - 0s - loss: 0.2850 - accuracy: 0.9283 - val_loss: 0.2628 - val_accuracy: 0.9350\n",
      "Epoch 17/100\n",
      "19/19 - 0s - loss: 0.2738 - accuracy: 0.9350 - val_loss: 0.2531 - val_accuracy: 0.9350\n",
      "Epoch 18/100\n",
      "19/19 - 0s - loss: 0.2631 - accuracy: 0.9400 - val_loss: 0.2445 - val_accuracy: 0.9350\n",
      "Epoch 19/100\n",
      "19/19 - 0s - loss: 0.2539 - accuracy: 0.9400 - val_loss: 0.2368 - val_accuracy: 0.9350\n",
      "Epoch 20/100\n",
      "19/19 - 0s - loss: 0.2453 - accuracy: 0.9383 - val_loss: 0.2293 - val_accuracy: 0.9300\n",
      "Epoch 21/100\n",
      "19/19 - 0s - loss: 0.2378 - accuracy: 0.9383 - val_loss: 0.2232 - val_accuracy: 0.9350\n",
      "Epoch 22/100\n",
      "19/19 - 0s - loss: 0.2301 - accuracy: 0.9400 - val_loss: 0.2162 - val_accuracy: 0.9350\n",
      "Epoch 23/100\n",
      "19/19 - 0s - loss: 0.2234 - accuracy: 0.9417 - val_loss: 0.2103 - val_accuracy: 0.9350\n",
      "Epoch 24/100\n",
      "19/19 - 0s - loss: 0.2174 - accuracy: 0.9417 - val_loss: 0.2052 - val_accuracy: 0.9350\n",
      "Epoch 25/100\n",
      "19/19 - 0s - loss: 0.2117 - accuracy: 0.9433 - val_loss: 0.2002 - val_accuracy: 0.9350\n",
      "Epoch 26/100\n",
      "19/19 - 0s - loss: 0.2063 - accuracy: 0.9417 - val_loss: 0.1951 - val_accuracy: 0.9350\n",
      "Epoch 27/100\n",
      "19/19 - 0s - loss: 0.2011 - accuracy: 0.9417 - val_loss: 0.1904 - val_accuracy: 0.9350\n",
      "Epoch 28/100\n",
      "19/19 - 0s - loss: 0.1961 - accuracy: 0.9417 - val_loss: 0.1864 - val_accuracy: 0.9350\n",
      "Epoch 29/100\n",
      "19/19 - 0s - loss: 0.1917 - accuracy: 0.9433 - val_loss: 0.1830 - val_accuracy: 0.9400\n",
      "Epoch 30/100\n",
      "19/19 - 0s - loss: 0.1875 - accuracy: 0.9433 - val_loss: 0.1794 - val_accuracy: 0.9500\n",
      "Epoch 31/100\n",
      "19/19 - 0s - loss: 0.1835 - accuracy: 0.9450 - val_loss: 0.1757 - val_accuracy: 0.9500\n",
      "Epoch 32/100\n",
      "19/19 - 0s - loss: 0.1800 - accuracy: 0.9467 - val_loss: 0.1724 - val_accuracy: 0.9550\n",
      "Epoch 33/100\n",
      "19/19 - 0s - loss: 0.1766 - accuracy: 0.9483 - val_loss: 0.1693 - val_accuracy: 0.9550\n",
      "Epoch 34/100\n",
      "19/19 - 0s - loss: 0.1734 - accuracy: 0.9483 - val_loss: 0.1665 - val_accuracy: 0.9550\n",
      "Epoch 35/100\n",
      "19/19 - 0s - loss: 0.1703 - accuracy: 0.9483 - val_loss: 0.1636 - val_accuracy: 0.9550\n",
      "Epoch 36/100\n",
      "19/19 - 0s - loss: 0.1674 - accuracy: 0.9483 - val_loss: 0.1616 - val_accuracy: 0.9550\n",
      "Epoch 37/100\n",
      "19/19 - 0s - loss: 0.1645 - accuracy: 0.9483 - val_loss: 0.1591 - val_accuracy: 0.9550\n",
      "Epoch 38/100\n",
      "19/19 - 0s - loss: 0.1618 - accuracy: 0.9483 - val_loss: 0.1566 - val_accuracy: 0.9550\n",
      "Epoch 39/100\n",
      "19/19 - 0s - loss: 0.1592 - accuracy: 0.9483 - val_loss: 0.1543 - val_accuracy: 0.9600\n",
      "Epoch 40/100\n",
      "19/19 - 0s - loss: 0.1567 - accuracy: 0.9500 - val_loss: 0.1523 - val_accuracy: 0.9600\n",
      "Epoch 41/100\n",
      "19/19 - 0s - loss: 0.1544 - accuracy: 0.9483 - val_loss: 0.1505 - val_accuracy: 0.9650\n",
      "Epoch 42/100\n",
      "19/19 - 0s - loss: 0.1521 - accuracy: 0.9483 - val_loss: 0.1481 - val_accuracy: 0.9650\n",
      "Epoch 43/100\n",
      "19/19 - 0s - loss: 0.1501 - accuracy: 0.9500 - val_loss: 0.1462 - val_accuracy: 0.9650\n",
      "Epoch 44/100\n",
      "19/19 - 0s - loss: 0.1479 - accuracy: 0.9483 - val_loss: 0.1443 - val_accuracy: 0.9650\n",
      "Epoch 45/100\n",
      "19/19 - 0s - loss: 0.1456 - accuracy: 0.9500 - val_loss: 0.1429 - val_accuracy: 0.9650\n",
      "Epoch 46/100\n",
      "19/19 - 0s - loss: 0.1438 - accuracy: 0.9517 - val_loss: 0.1412 - val_accuracy: 0.9600\n",
      "Epoch 47/100\n",
      "19/19 - 0s - loss: 0.1418 - accuracy: 0.9517 - val_loss: 0.1395 - val_accuracy: 0.9600\n",
      "Epoch 48/100\n",
      "19/19 - 0s - loss: 0.1400 - accuracy: 0.9500 - val_loss: 0.1381 - val_accuracy: 0.9650\n",
      "Epoch 49/100\n",
      "19/19 - 0s - loss: 0.1388 - accuracy: 0.9517 - val_loss: 0.1358 - val_accuracy: 0.9650\n",
      "Epoch 50/100\n",
      "19/19 - 0s - loss: 0.1364 - accuracy: 0.9517 - val_loss: 0.1354 - val_accuracy: 0.9600\n",
      "Epoch 51/100\n",
      "19/19 - 0s - loss: 0.1349 - accuracy: 0.9517 - val_loss: 0.1339 - val_accuracy: 0.9600\n",
      "Epoch 52/100\n",
      "19/19 - 0s - loss: 0.1333 - accuracy: 0.9533 - val_loss: 0.1325 - val_accuracy: 0.9600\n",
      "Epoch 53/100\n",
      "19/19 - 0s - loss: 0.1319 - accuracy: 0.9533 - val_loss: 0.1315 - val_accuracy: 0.9600\n",
      "Epoch 54/100\n",
      "19/19 - 0s - loss: 0.1301 - accuracy: 0.9517 - val_loss: 0.1298 - val_accuracy: 0.9600\n",
      "Epoch 55/100\n",
      "19/19 - 0s - loss: 0.1288 - accuracy: 0.9517 - val_loss: 0.1287 - val_accuracy: 0.9600\n",
      "Epoch 56/100\n",
      "19/19 - 0s - loss: 0.1274 - accuracy: 0.9517 - val_loss: 0.1273 - val_accuracy: 0.9650\n",
      "Epoch 57/100\n",
      "19/19 - 0s - loss: 0.1258 - accuracy: 0.9517 - val_loss: 0.1262 - val_accuracy: 0.9650\n",
      "Epoch 58/100\n",
      "19/19 - 0s - loss: 0.1246 - accuracy: 0.9517 - val_loss: 0.1251 - val_accuracy: 0.9600\n",
      "Epoch 59/100\n",
      "19/19 - 0s - loss: 0.1230 - accuracy: 0.9517 - val_loss: 0.1241 - val_accuracy: 0.9600\n",
      "Epoch 60/100\n",
      "19/19 - 0s - loss: 0.1219 - accuracy: 0.9517 - val_loss: 0.1225 - val_accuracy: 0.9600\n",
      "Epoch 61/100\n",
      "19/19 - 0s - loss: 0.1204 - accuracy: 0.9533 - val_loss: 0.1215 - val_accuracy: 0.9650\n",
      "Epoch 62/100\n",
      "19/19 - 0s - loss: 0.1192 - accuracy: 0.9533 - val_loss: 0.1208 - val_accuracy: 0.9650\n",
      "Epoch 63/100\n",
      "19/19 - 0s - loss: 0.1180 - accuracy: 0.9533 - val_loss: 0.1201 - val_accuracy: 0.9650\n",
      "Epoch 64/100\n",
      "19/19 - 0s - loss: 0.1167 - accuracy: 0.9533 - val_loss: 0.1185 - val_accuracy: 0.9700\n",
      "Epoch 65/100\n",
      "19/19 - 0s - loss: 0.1155 - accuracy: 0.9533 - val_loss: 0.1176 - val_accuracy: 0.9700\n",
      "Epoch 66/100\n",
      "19/19 - 0s - loss: 0.1142 - accuracy: 0.9550 - val_loss: 0.1166 - val_accuracy: 0.9700\n",
      "Epoch 67/100\n",
      "19/19 - 0s - loss: 0.1129 - accuracy: 0.9550 - val_loss: 0.1158 - val_accuracy: 0.9700\n",
      "Epoch 68/100\n",
      "19/19 - 0s - loss: 0.1117 - accuracy: 0.9550 - val_loss: 0.1150 - val_accuracy: 0.9650\n",
      "Epoch 69/100\n",
      "19/19 - 0s - loss: 0.1109 - accuracy: 0.9517 - val_loss: 0.1142 - val_accuracy: 0.9650\n",
      "Epoch 70/100\n",
      "19/19 - 0s - loss: 0.1099 - accuracy: 0.9533 - val_loss: 0.1135 - val_accuracy: 0.9700\n",
      "Epoch 71/100\n",
      "19/19 - 0s - loss: 0.1089 - accuracy: 0.9533 - val_loss: 0.1131 - val_accuracy: 0.9700\n",
      "Epoch 72/100\n",
      "19/19 - 0s - loss: 0.1080 - accuracy: 0.9517 - val_loss: 0.1125 - val_accuracy: 0.9700\n",
      "Epoch 73/100\n",
      "19/19 - 0s - loss: 0.1070 - accuracy: 0.9517 - val_loss: 0.1119 - val_accuracy: 0.9700\n",
      "Epoch 74/100\n",
      "19/19 - 0s - loss: 0.1059 - accuracy: 0.9517 - val_loss: 0.1114 - val_accuracy: 0.9700\n",
      "Epoch 75/100\n",
      "19/19 - 0s - loss: 0.1051 - accuracy: 0.9517 - val_loss: 0.1111 - val_accuracy: 0.9700\n",
      "Epoch 76/100\n",
      "19/19 - 0s - loss: 0.1043 - accuracy: 0.9517 - val_loss: 0.1100 - val_accuracy: 0.9700\n",
      "Epoch 77/100\n",
      "19/19 - 0s - loss: 0.1034 - accuracy: 0.9533 - val_loss: 0.1099 - val_accuracy: 0.9700\n",
      "Epoch 78/100\n",
      "19/19 - 0s - loss: 0.1033 - accuracy: 0.9517 - val_loss: 0.1097 - val_accuracy: 0.9700\n",
      "Epoch 79/100\n",
      "19/19 - 0s - loss: 0.1022 - accuracy: 0.9533 - val_loss: 0.1093 - val_accuracy: 0.9700\n",
      "Epoch 80/100\n",
      "19/19 - 0s - loss: 0.1011 - accuracy: 0.9567 - val_loss: 0.1084 - val_accuracy: 0.9700\n",
      "Epoch 81/100\n",
      "19/19 - 0s - loss: 0.1004 - accuracy: 0.9567 - val_loss: 0.1080 - val_accuracy: 0.9700\n",
      "Epoch 82/100\n",
      "19/19 - 0s - loss: 0.0997 - accuracy: 0.9567 - val_loss: 0.1074 - val_accuracy: 0.9750\n",
      "Epoch 83/100\n",
      "19/19 - 0s - loss: 0.0992 - accuracy: 0.9583 - val_loss: 0.1068 - val_accuracy: 0.9800\n"
     ]
    },
    {
     "name": "stdout",
     "output_type": "stream",
     "text": [
      "Epoch 84/100\n",
      "19/19 - 0s - loss: 0.0982 - accuracy: 0.9567 - val_loss: 0.1067 - val_accuracy: 0.9700\n",
      "Epoch 85/100\n",
      "19/19 - 0s - loss: 0.0975 - accuracy: 0.9567 - val_loss: 0.1067 - val_accuracy: 0.9700\n",
      "Epoch 86/100\n",
      "19/19 - 0s - loss: 0.0971 - accuracy: 0.9567 - val_loss: 0.1068 - val_accuracy: 0.9700\n",
      "Epoch 87/100\n",
      "19/19 - 0s - loss: 0.0965 - accuracy: 0.9567 - val_loss: 0.1059 - val_accuracy: 0.9800\n",
      "Epoch 88/100\n",
      "19/19 - 0s - loss: 0.0957 - accuracy: 0.9567 - val_loss: 0.1060 - val_accuracy: 0.9700\n",
      "Epoch 89/100\n",
      "19/19 - 0s - loss: 0.0950 - accuracy: 0.9567 - val_loss: 0.1057 - val_accuracy: 0.9800\n",
      "Epoch 90/100\n",
      "19/19 - 0s - loss: 0.0944 - accuracy: 0.9567 - val_loss: 0.1054 - val_accuracy: 0.9800\n",
      "Epoch 91/100\n",
      "19/19 - 0s - loss: 0.0941 - accuracy: 0.9583 - val_loss: 0.1056 - val_accuracy: 0.9700\n",
      "Epoch 92/100\n",
      "19/19 - 0s - loss: 0.0932 - accuracy: 0.9567 - val_loss: 0.1048 - val_accuracy: 0.9800\n",
      "Epoch 93/100\n",
      "19/19 - 0s - loss: 0.0925 - accuracy: 0.9567 - val_loss: 0.1049 - val_accuracy: 0.9800\n",
      "Epoch 94/100\n",
      "19/19 - 0s - loss: 0.0920 - accuracy: 0.9567 - val_loss: 0.1044 - val_accuracy: 0.9800\n",
      "Epoch 95/100\n",
      "19/19 - 0s - loss: 0.0915 - accuracy: 0.9583 - val_loss: 0.1047 - val_accuracy: 0.9800\n",
      "Epoch 96/100\n",
      "19/19 - 0s - loss: 0.0908 - accuracy: 0.9583 - val_loss: 0.1047 - val_accuracy: 0.9750\n",
      "Epoch 97/100\n",
      "19/19 - 0s - loss: 0.0904 - accuracy: 0.9583 - val_loss: 0.1038 - val_accuracy: 0.9800\n",
      "Epoch 98/100\n",
      "19/19 - 0s - loss: 0.0900 - accuracy: 0.9583 - val_loss: 0.1044 - val_accuracy: 0.9750\n",
      "Epoch 99/100\n",
      "19/19 - 0s - loss: 0.0892 - accuracy: 0.9583 - val_loss: 0.1044 - val_accuracy: 0.9750\n",
      "Epoch 100/100\n",
      "19/19 - 0s - loss: 0.0890 - accuracy: 0.9583 - val_loss: 0.1040 - val_accuracy: 0.9750\n"
     ]
    }
   ],
   "source": [
    " # Fit the model to the training data\n",
    "history = model.fit(\n",
    "    X_train_scaled,\n",
    "    y_train_categorical,\n",
    "    epochs=100,\n",
    "    shuffle = True,\n",
    "    verbose = 2,\n",
    "    validation_data=(X_test_scaled,y_test_categorical)\n",
    ")"
   ]
  },
  {
   "cell_type": "code",
   "execution_count": 28,
   "metadata": {},
   "outputs": [
    {
     "name": "stdout",
     "output_type": "stream",
     "text": [
      "7/7 - 0s - loss: 0.1040 - accuracy: 0.9750\n",
      "Normal Neural Network - Loss: 0.10402026772499084, Accuracy: 0.9750000238418579\n"
     ]
    }
   ],
   "source": [
    "model_loss, model_accuracy = model.evaluate(\n",
    "    X_test_scaled, y_test_categorical, verbose=2)\n",
    "print(\n",
    "    f\"Normal Neural Network - Loss: {model_loss}, Accuracy: {model_accuracy}\")"
   ]
  },
  {
   "cell_type": "code",
   "execution_count": 29,
   "metadata": {},
   "outputs": [
    {
     "data": {
      "text/plain": [
       "<matplotlib.legend.Legend at 0x1c90cf14b50>"
      ]
     },
     "execution_count": 29,
     "metadata": {},
     "output_type": "execute_result"
    },
    {
     "data": {
      "image/png": "[encoded data removed]",
      "text/plain": [
       "<Figure size 1008x432 with 2 Axes>"
      ]
     },
     "metadata": {
      "needs_background": "light"
     },
     "output_type": "display_data"
    }
   ],
   "source": [
    "history_dict = history.history\n",
    "loss_values = history_dict['loss']\n",
    "val_loss_values = history_dict['val_loss']\n",
    "accuracy = history_dict['accuracy']\n",
    "val_accuracy = history_dict['val_accuracy']\n",
    " \n",
    "epochs = range(1, len(loss_values) + 1)\n",
    "fig, ax = plt.subplots(1, 2, figsize=(14, 6))\n",
    "#\n",
    "# Plot the model accuracy vs Epochs\n",
    "#\n",
    "ax[0].plot(epochs, accuracy, 'bo', label='Training accuracy')\n",
    "ax[0].plot(epochs, val_accuracy, 'b', label='Validation accuracy')\n",
    "ax[0].set_title('Training & Validation Accuracy', fontsize=16)\n",
    "ax[0].set_xlabel('Epochs', fontsize=16)\n",
    "ax[0].set_ylabel('Accuracy', fontsize=16)\n",
    "ax[0].legend()\n",
    "#\n",
    "# Plot the loss vs Epochs\n",
    "#\n",
    "ax[1].plot(epochs, loss_values, 'bo', label='Training loss')\n",
    "ax[1].plot(epochs, val_loss_values, 'b', label='Validation loss')\n",
    "ax[1].set_title('Training & Validation Loss', fontsize=16)\n",
    "ax[1].set_xlabel('Epochs', fontsize=16)\n",
    "ax[1].set_ylabel('Loss', fontsize=16)\n",
    "ax[1].legend()"
   ]
  },
  {
   "cell_type": "code",
   "execution_count": 30,
   "metadata": {},
   "outputs": [
    {
     "data": {
      "text/plain": [
       "Water       112\n",
       "Normal       98\n",
       "Grass        70\n",
       "Bug          69\n",
       "Psychic      57\n",
       "Fire         52\n",
       "Rock         44\n",
       "Electric     44\n",
       "Ground       32\n",
       "Ghost        32\n",
       "Dragon       32\n",
       "Dark         31\n",
       "Poison       28\n",
       "Fighting     27\n",
       "Steel        27\n",
       "Ice          24\n",
       "Fairy        17\n",
       "Flying        4\n",
       "Name: Type 1, dtype: int64"
      ]
     },
     "execution_count": 30,
     "metadata": {},
     "output_type": "execute_result"
    }
   ],
   "source": [
    "# Classification of Primary Type\n",
    "y2 = pokedex[\"Type 1\"]\n",
    "y2.value_counts()"
   ]
  },
  {
   "cell_type": "code",
   "execution_count": 37,
   "metadata": {},
   "outputs": [],
   "source": [
    "X_train, X_test, y_train, y_test = train_test_split(X, y2, stratify=y2,random_state=1)\n",
    "\n",
    "X_scaler2 = StandardScaler().fit(X_train)\n",
    "\n",
    "X_train_scaled = X_scaler2.transform(X_train)\n",
    "X_test_scaled = X_scaler2.transform(X_test)"
   ]
  },
  {
   "cell_type": "code",
   "execution_count": 38,
   "metadata": {},
   "outputs": [
    {
     "name": "stdout",
     "output_type": "stream",
     "text": [
      "{0, 1, 2, 3, 4, 5, 6, 7, 8, 9, 10, 11, 12, 13, 14, 15, 16, 17}\n",
      "{0, 1, 2, 3, 4, 5, 6, 7, 8, 9, 10, 11, 12, 13, 14, 15, 16, 17}\n",
      "[[0. 1. 0. ... 0. 0. 0.]\n",
      " [0. 0. 0. ... 0. 0. 0.]\n",
      " [0. 0. 1. ... 0. 0. 0.]\n",
      " ...\n",
      " [0. 0. 0. ... 0. 0. 0.]\n",
      " [0. 0. 0. ... 0. 0. 0.]\n",
      " [0. 0. 0. ... 0. 0. 0.]]\n"
     ]
    }
   ],
   "source": [
    "# One-hot encoding\n",
    "from sklearn.preprocessing import LabelEncoder\n",
    "\n",
    "label_encoder = LabelEncoder()\n",
    "\n",
    "y_train = label_encoder.fit_transform(y_train)\n",
    "y_test = label_encoder.fit_transform(y_test)\n",
    "\n",
    "y_train_categorical = to_categorical(y_train)\n",
    "y_test_categorical = to_categorical(y_test)\n",
    "\n"
   ]
  },
  {
   "cell_type": "code",
   "execution_count": 39,
   "metadata": {},
   "outputs": [],
   "source": [
    "model = Sequential()\n",
    "model.add(Dense(units=6, activation='relu', input_dim=8))\n",
    "model.add(Dense(units=18, activation='softmax'))"
   ]
  },
  {
   "cell_type": "code",
   "execution_count": 40,
   "metadata": {},
   "outputs": [
    {
     "name": "stdout",
     "output_type": "stream",
     "text": [
      "Model: \"sequential_2\"\n",
      "_________________________________________________________________\n",
      "Layer (type)                 Output Shape              Param #   \n",
      "=================================================================\n",
      "dense_4 (Dense)              (None, 6)                 54        \n",
      "_________________________________________________________________\n",
      "dense_5 (Dense)              (None, 18)                126       \n",
      "=================================================================\n",
      "Total params: 180\n",
      "Trainable params: 180\n",
      "Non-trainable params: 0\n",
      "_________________________________________________________________\n"
     ]
    }
   ],
   "source": [
    "model.summary()"
   ]
  },
  {
   "cell_type": "code",
   "execution_count": 41,
   "metadata": {},
   "outputs": [
    {
     "data": {
      "text/plain": [
       "\"\\nmodel.compile(optimizer='adam',\\n              loss='binary_crossentropy',\\n              metrics=['accuracy'])\\n\""
      ]
     },
     "execution_count": 41,
     "metadata": {},
     "output_type": "execute_result"
    }
   ],
   "source": [
    "# Compile the model\n",
    "\n",
    "model.compile(optimizer='adam',\n",
    "              loss='categorical_crossentropy',\n",
    "              metrics=['accuracy'])\n",
    "\n",
    "\n",
    "'''\n",
    "model.compile(optimizer='adam',\n",
    "              loss='binary_crossentropy',\n",
    "              metrics=['accuracy'])\n",
    "'''"
   ]
  },
  {
   "cell_type": "code",
   "execution_count": 42,
   "metadata": {},
   "outputs": [
    {
     "name": "stdout",
     "output_type": "stream",
     "text": [
      "Epoch 1/100\n",
      "19/19 - 0s - loss: 3.0268 - accuracy: 0.0767 - val_loss: 2.9615 - val_accuracy: 0.0850\n",
      "Epoch 2/100\n",
      "19/19 - 0s - loss: 2.9893 - accuracy: 0.0950 - val_loss: 2.9333 - val_accuracy: 0.0850\n",
      "Epoch 3/100\n",
      "19/19 - 0s - loss: 2.9580 - accuracy: 0.1033 - val_loss: 2.9098 - val_accuracy: 0.0900\n",
      "Epoch 4/100\n",
      "19/19 - 0s - loss: 2.9317 - accuracy: 0.1200 - val_loss: 2.8888 - val_accuracy: 0.1000\n",
      "Epoch 5/100\n",
      "19/19 - 0s - loss: 2.9079 - accuracy: 0.1217 - val_loss: 2.8705 - val_accuracy: 0.1200\n",
      "Epoch 6/100\n",
      "19/19 - 0s - loss: 2.8872 - accuracy: 0.1333 - val_loss: 2.8543 - val_accuracy: 0.1450\n",
      "Epoch 7/100\n",
      "19/19 - 0s - loss: 2.8688 - accuracy: 0.1400 - val_loss: 2.8402 - val_accuracy: 0.1400\n",
      "Epoch 8/100\n",
      "19/19 - 0s - loss: 2.8522 - accuracy: 0.1383 - val_loss: 2.8270 - val_accuracy: 0.1300\n",
      "Epoch 9/100\n",
      "19/19 - 0s - loss: 2.8370 - accuracy: 0.1433 - val_loss: 2.8148 - val_accuracy: 0.1150\n",
      "Epoch 10/100\n",
      "19/19 - 0s - loss: 2.8226 - accuracy: 0.1433 - val_loss: 2.8041 - val_accuracy: 0.1250\n",
      "Epoch 11/100\n",
      "19/19 - 0s - loss: 2.8093 - accuracy: 0.1433 - val_loss: 2.7938 - val_accuracy: 0.1200\n",
      "Epoch 12/100\n",
      "19/19 - 0s - loss: 2.7969 - accuracy: 0.1417 - val_loss: 2.7843 - val_accuracy: 0.1350\n",
      "Epoch 13/100\n",
      "19/19 - 0s - loss: 2.7847 - accuracy: 0.1500 - val_loss: 2.7752 - val_accuracy: 0.1350\n",
      "Epoch 14/100\n",
      "19/19 - 0s - loss: 2.7734 - accuracy: 0.1517 - val_loss: 2.7665 - val_accuracy: 0.1400\n",
      "Epoch 15/100\n",
      "19/19 - 0s - loss: 2.7627 - accuracy: 0.1550 - val_loss: 2.7584 - val_accuracy: 0.1450\n",
      "Epoch 16/100\n",
      "19/19 - 0s - loss: 2.7519 - accuracy: 0.1600 - val_loss: 2.7506 - val_accuracy: 0.1450\n",
      "Epoch 17/100\n",
      "19/19 - 0s - loss: 2.7420 - accuracy: 0.1633 - val_loss: 2.7433 - val_accuracy: 0.1550\n",
      "Epoch 18/100\n",
      "19/19 - 0s - loss: 2.7319 - accuracy: 0.1633 - val_loss: 2.7366 - val_accuracy: 0.1550\n",
      "Epoch 19/100\n",
      "19/19 - 0s - loss: 2.7224 - accuracy: 0.1550 - val_loss: 2.7298 - val_accuracy: 0.1550\n",
      "Epoch 20/100\n",
      "19/19 - 0s - loss: 2.7131 - accuracy: 0.1583 - val_loss: 2.7234 - val_accuracy: 0.1600\n",
      "Epoch 21/100\n",
      "19/19 - 0s - loss: 2.7040 - accuracy: 0.1600 - val_loss: 2.7180 - val_accuracy: 0.1650\n",
      "Epoch 22/100\n",
      "19/19 - 0s - loss: 2.6952 - accuracy: 0.1600 - val_loss: 2.7116 - val_accuracy: 0.1600\n",
      "Epoch 23/100\n",
      "19/19 - 0s - loss: 2.6863 - accuracy: 0.1583 - val_loss: 2.7058 - val_accuracy: 0.1650\n",
      "Epoch 24/100\n",
      "19/19 - 0s - loss: 2.6776 - accuracy: 0.1600 - val_loss: 2.7002 - val_accuracy: 0.1650\n",
      "Epoch 25/100\n",
      "19/19 - 0s - loss: 2.6687 - accuracy: 0.1617 - val_loss: 2.6950 - val_accuracy: 0.1550\n",
      "Epoch 26/100\n",
      "19/19 - 0s - loss: 2.6605 - accuracy: 0.1617 - val_loss: 2.6893 - val_accuracy: 0.1600\n",
      "Epoch 27/100\n",
      "19/19 - 0s - loss: 2.6520 - accuracy: 0.1667 - val_loss: 2.6839 - val_accuracy: 0.1600\n",
      "Epoch 28/100\n",
      "19/19 - 0s - loss: 2.6439 - accuracy: 0.1700 - val_loss: 2.6786 - val_accuracy: 0.1650\n",
      "Epoch 29/100\n",
      "19/19 - 0s - loss: 2.6357 - accuracy: 0.1667 - val_loss: 2.6742 - val_accuracy: 0.1600\n",
      "Epoch 30/100\n",
      "19/19 - 0s - loss: 2.6276 - accuracy: 0.1717 - val_loss: 2.6684 - val_accuracy: 0.1600\n",
      "Epoch 31/100\n",
      "19/19 - 0s - loss: 2.6194 - accuracy: 0.1717 - val_loss: 2.6641 - val_accuracy: 0.1600\n",
      "Epoch 32/100\n",
      "19/19 - 0s - loss: 2.6116 - accuracy: 0.1750 - val_loss: 2.6598 - val_accuracy: 0.1500\n",
      "Epoch 33/100\n",
      "19/19 - 0s - loss: 2.6035 - accuracy: 0.1833 - val_loss: 2.6552 - val_accuracy: 0.1500\n",
      "Epoch 34/100\n",
      "19/19 - 0s - loss: 2.5958 - accuracy: 0.1867 - val_loss: 2.6499 - val_accuracy: 0.1500\n",
      "Epoch 35/100\n",
      "19/19 - 0s - loss: 2.5879 - accuracy: 0.1900 - val_loss: 2.6455 - val_accuracy: 0.1400\n",
      "Epoch 36/100\n",
      "19/19 - 0s - loss: 2.5799 - accuracy: 0.1917 - val_loss: 2.6414 - val_accuracy: 0.1400\n",
      "Epoch 37/100\n",
      "19/19 - 0s - loss: 2.5723 - accuracy: 0.1883 - val_loss: 2.6369 - val_accuracy: 0.1450\n",
      "Epoch 38/100\n",
      "19/19 - 0s - loss: 2.5650 - accuracy: 0.1900 - val_loss: 2.6325 - val_accuracy: 0.1450\n",
      "Epoch 39/100\n",
      "19/19 - 0s - loss: 2.5578 - accuracy: 0.1867 - val_loss: 2.6283 - val_accuracy: 0.1400\n",
      "Epoch 40/100\n",
      "19/19 - 0s - loss: 2.5504 - accuracy: 0.1867 - val_loss: 2.6247 - val_accuracy: 0.1400\n",
      "Epoch 41/100\n",
      "19/19 - 0s - loss: 2.5429 - accuracy: 0.1900 - val_loss: 2.6211 - val_accuracy: 0.1500\n",
      "Epoch 42/100\n",
      "19/19 - 0s - loss: 2.5362 - accuracy: 0.1917 - val_loss: 2.6174 - val_accuracy: 0.1550\n",
      "Epoch 43/100\n",
      "19/19 - 0s - loss: 2.5286 - accuracy: 0.1917 - val_loss: 2.6138 - val_accuracy: 0.1550\n",
      "Epoch 44/100\n",
      "19/19 - 0s - loss: 2.5218 - accuracy: 0.1917 - val_loss: 2.6093 - val_accuracy: 0.1550\n",
      "Epoch 45/100\n",
      "19/19 - 0s - loss: 2.5149 - accuracy: 0.1933 - val_loss: 2.6058 - val_accuracy: 0.1550\n",
      "Epoch 46/100\n",
      "19/19 - 0s - loss: 2.5086 - accuracy: 0.1950 - val_loss: 2.6026 - val_accuracy: 0.1550\n",
      "Epoch 47/100\n",
      "19/19 - 0s - loss: 2.5016 - accuracy: 0.1983 - val_loss: 2.5987 - val_accuracy: 0.1550\n",
      "Epoch 48/100\n",
      "19/19 - 0s - loss: 2.4957 - accuracy: 0.2000 - val_loss: 2.5949 - val_accuracy: 0.1500\n",
      "Epoch 49/100\n",
      "19/19 - 0s - loss: 2.4893 - accuracy: 0.1983 - val_loss: 2.5924 - val_accuracy: 0.1500\n",
      "Epoch 50/100\n",
      "19/19 - 0s - loss: 2.4827 - accuracy: 0.2033 - val_loss: 2.5891 - val_accuracy: 0.1500\n",
      "Epoch 51/100\n",
      "19/19 - 0s - loss: 2.4768 - accuracy: 0.2033 - val_loss: 2.5856 - val_accuracy: 0.1500\n",
      "Epoch 52/100\n",
      "19/19 - 0s - loss: 2.4715 - accuracy: 0.2050 - val_loss: 2.5814 - val_accuracy: 0.1400\n",
      "Epoch 53/100\n",
      "19/19 - 0s - loss: 2.4658 - accuracy: 0.2033 - val_loss: 2.5795 - val_accuracy: 0.1450\n",
      "Epoch 54/100\n",
      "19/19 - 0s - loss: 2.4600 - accuracy: 0.2100 - val_loss: 2.5770 - val_accuracy: 0.1350\n",
      "Epoch 55/100\n",
      "19/19 - 0s - loss: 2.4548 - accuracy: 0.2083 - val_loss: 2.5730 - val_accuracy: 0.1350\n",
      "Epoch 56/100\n",
      "19/19 - 0s - loss: 2.4493 - accuracy: 0.2083 - val_loss: 2.5704 - val_accuracy: 0.1400\n",
      "Epoch 57/100\n",
      "19/19 - 0s - loss: 2.4445 - accuracy: 0.2133 - val_loss: 2.5677 - val_accuracy: 0.1400\n",
      "Epoch 58/100\n",
      "19/19 - 0s - loss: 2.4393 - accuracy: 0.2150 - val_loss: 2.5654 - val_accuracy: 0.1450\n",
      "Epoch 59/100\n",
      "19/19 - 0s - loss: 2.4347 - accuracy: 0.2117 - val_loss: 2.5624 - val_accuracy: 0.1500\n",
      "Epoch 60/100\n",
      "19/19 - 0s - loss: 2.4303 - accuracy: 0.2100 - val_loss: 2.5599 - val_accuracy: 0.1550\n",
      "Epoch 61/100\n",
      "19/19 - 0s - loss: 2.4257 - accuracy: 0.2117 - val_loss: 2.5572 - val_accuracy: 0.1600\n",
      "Epoch 62/100\n",
      "19/19 - 0s - loss: 2.4220 - accuracy: 0.2067 - val_loss: 2.5561 - val_accuracy: 0.1750\n",
      "Epoch 63/100\n",
      "19/19 - 0s - loss: 2.4177 - accuracy: 0.2083 - val_loss: 2.5530 - val_accuracy: 0.1750\n",
      "Epoch 64/100\n",
      "19/19 - 0s - loss: 2.4138 - accuracy: 0.2117 - val_loss: 2.5501 - val_accuracy: 0.1800\n",
      "Epoch 65/100\n",
      "19/19 - 0s - loss: 2.4100 - accuracy: 0.2150 - val_loss: 2.5487 - val_accuracy: 0.1750\n",
      "Epoch 66/100\n",
      "19/19 - 0s - loss: 2.4066 - accuracy: 0.2200 - val_loss: 2.5470 - val_accuracy: 0.1800\n",
      "Epoch 67/100\n",
      "19/19 - 0s - loss: 2.4030 - accuracy: 0.2233 - val_loss: 2.5455 - val_accuracy: 0.1850\n",
      "Epoch 68/100\n",
      "19/19 - 0s - loss: 2.3995 - accuracy: 0.2283 - val_loss: 2.5430 - val_accuracy: 0.1850\n",
      "Epoch 69/100\n",
      "19/19 - 0s - loss: 2.3962 - accuracy: 0.2283 - val_loss: 2.5413 - val_accuracy: 0.1800\n",
      "Epoch 70/100\n",
      "19/19 - 0s - loss: 2.3929 - accuracy: 0.2267 - val_loss: 2.5410 - val_accuracy: 0.1800\n",
      "Epoch 71/100\n",
      "19/19 - 0s - loss: 2.3899 - accuracy: 0.2317 - val_loss: 2.5392 - val_accuracy: 0.1800\n",
      "Epoch 72/100\n",
      "19/19 - 0s - loss: 2.3863 - accuracy: 0.2350 - val_loss: 2.5377 - val_accuracy: 0.1750\n",
      "Epoch 73/100\n",
      "19/19 - 0s - loss: 2.3835 - accuracy: 0.2367 - val_loss: 2.5367 - val_accuracy: 0.1750\n",
      "Epoch 74/100\n",
      "19/19 - 0s - loss: 2.3805 - accuracy: 0.2350 - val_loss: 2.5350 - val_accuracy: 0.1750\n",
      "Epoch 75/100\n",
      "19/19 - 0s - loss: 2.3777 - accuracy: 0.2350 - val_loss: 2.5341 - val_accuracy: 0.1750\n",
      "Epoch 76/100\n",
      "19/19 - 0s - loss: 2.3754 - accuracy: 0.2333 - val_loss: 2.5344 - val_accuracy: 0.1750\n",
      "Epoch 77/100\n",
      "19/19 - 0s - loss: 2.3729 - accuracy: 0.2417 - val_loss: 2.5313 - val_accuracy: 0.1800\n",
      "Epoch 78/100\n",
      "19/19 - 0s - loss: 2.3702 - accuracy: 0.2383 - val_loss: 2.5307 - val_accuracy: 0.1800\n",
      "Epoch 79/100\n",
      "19/19 - 0s - loss: 2.3673 - accuracy: 0.2417 - val_loss: 2.5297 - val_accuracy: 0.1800\n",
      "Epoch 80/100\n",
      "19/19 - 0s - loss: 2.3647 - accuracy: 0.2450 - val_loss: 2.5290 - val_accuracy: 0.1850\n",
      "Epoch 81/100\n",
      "19/19 - 0s - loss: 2.3625 - accuracy: 0.2450 - val_loss: 2.5280 - val_accuracy: 0.1850\n",
      "Epoch 82/100\n",
      "19/19 - 0s - loss: 2.3598 - accuracy: 0.2483 - val_loss: 2.5256 - val_accuracy: 0.1850\n",
      "Epoch 83/100\n",
      "19/19 - 0s - loss: 2.3577 - accuracy: 0.2500 - val_loss: 2.5252 - val_accuracy: 0.1900\n"
     ]
    },
    {
     "name": "stdout",
     "output_type": "stream",
     "text": [
      "Epoch 84/100\n",
      "19/19 - 0s - loss: 2.3557 - accuracy: 0.2533 - val_loss: 2.5240 - val_accuracy: 0.1900\n",
      "Epoch 85/100\n",
      "19/19 - 0s - loss: 2.3534 - accuracy: 0.2483 - val_loss: 2.5244 - val_accuracy: 0.1900\n",
      "Epoch 86/100\n",
      "19/19 - 0s - loss: 2.3512 - accuracy: 0.2517 - val_loss: 2.5242 - val_accuracy: 0.1850\n",
      "Epoch 87/100\n",
      "19/19 - 0s - loss: 2.3490 - accuracy: 0.2550 - val_loss: 2.5211 - val_accuracy: 0.1850\n",
      "Epoch 88/100\n",
      "19/19 - 0s - loss: 2.3469 - accuracy: 0.2550 - val_loss: 2.5203 - val_accuracy: 0.1850\n",
      "Epoch 89/100\n",
      "19/19 - 0s - loss: 2.3452 - accuracy: 0.2550 - val_loss: 2.5210 - val_accuracy: 0.1850\n",
      "Epoch 90/100\n",
      "19/19 - 0s - loss: 2.3434 - accuracy: 0.2533 - val_loss: 2.5192 - val_accuracy: 0.1850\n",
      "Epoch 91/100\n",
      "19/19 - 0s - loss: 2.3411 - accuracy: 0.2533 - val_loss: 2.5176 - val_accuracy: 0.1850\n",
      "Epoch 92/100\n",
      "19/19 - 0s - loss: 2.3393 - accuracy: 0.2550 - val_loss: 2.5182 - val_accuracy: 0.1850\n",
      "Epoch 93/100\n",
      "19/19 - 0s - loss: 2.3375 - accuracy: 0.2550 - val_loss: 2.5172 - val_accuracy: 0.1850\n",
      "Epoch 94/100\n",
      "19/19 - 0s - loss: 2.3358 - accuracy: 0.2550 - val_loss: 2.5168 - val_accuracy: 0.1850\n",
      "Epoch 95/100\n",
      "19/19 - 0s - loss: 2.3339 - accuracy: 0.2567 - val_loss: 2.5155 - val_accuracy: 0.1850\n",
      "Epoch 96/100\n",
      "19/19 - 0s - loss: 2.3322 - accuracy: 0.2550 - val_loss: 2.5146 - val_accuracy: 0.1850\n",
      "Epoch 97/100\n",
      "19/19 - 0s - loss: 2.3303 - accuracy: 0.2550 - val_loss: 2.5145 - val_accuracy: 0.1850\n",
      "Epoch 98/100\n",
      "19/19 - 0s - loss: 2.3289 - accuracy: 0.2533 - val_loss: 2.5133 - val_accuracy: 0.1850\n",
      "Epoch 99/100\n",
      "19/19 - 0s - loss: 2.3270 - accuracy: 0.2600 - val_loss: 2.5121 - val_accuracy: 0.1850\n",
      "Epoch 100/100\n",
      "19/19 - 0s - loss: 2.3253 - accuracy: 0.2567 - val_loss: 2.5133 - val_accuracy: 0.1850\n"
     ]
    }
   ],
   "source": [
    " # Fit the model to the training data\n",
    "history = model.fit(\n",
    "    X_train_scaled,\n",
    "    y_train_categorical,\n",
    "    epochs=100,\n",
    "    shuffle = True,\n",
    "    verbose = 2,\n",
    "    validation_data=(X_test_scaled,y_test_categorical)\n",
    ")"
   ]
  },
  {
   "cell_type": "code",
   "execution_count": 43,
   "metadata": {},
   "outputs": [
    {
     "name": "stdout",
     "output_type": "stream",
     "text": [
      "7/7 - 0s - loss: 2.5133 - accuracy: 0.1850\n",
      "Normal Neural Network - Loss: 2.5132689476013184, Accuracy: 0.1850000023841858\n"
     ]
    }
   ],
   "source": [
    "model_loss, model_accuracy = model.evaluate(\n",
    "    X_test_scaled, y_test_categorical, verbose=2)\n",
    "print(\n",
    "    f\"Normal Neural Network - Loss: {model_loss}, Accuracy: {model_accuracy}\")"
   ]
  },
  {
   "cell_type": "code",
   "execution_count": null,
   "metadata": {},
   "outputs": [],
   "source": [
    "# This is Michaels section of code"
   ]
  },
  {
   "cell_type": "code",
   "execution_count": null,
   "metadata": {},
   "outputs": [],
   "source": [
    "# This is Masons section of code\n",
    "\n",
    "# Set our prediction targets and name them\n",
    "\n",
    "y = pokedex[\"Legendary\"]\n",
    "target_names = [\"negative\", \"positive\"]\n",
    "\n",
    "\n",
    "#Classification of Legendary Status\n",
    "\n",
    "X = pokedex.drop(\"Legendary\", axis=1)\n",
    "\n",
    "X = X.drop(\"#\", axis=1)\n",
    "\n",
    "X = X.drop(\"Name\", axis=1)\n",
    "\n",
    "X = X.drop(\"Type 1\", axis=1)\n",
    "\n",
    "X = X.drop(\"Type 2\", axis=1)\n",
    "\n",
    "feature_names = X.columns\n",
    "\n",
    "X.head()"
   ]
  },
  {
   "cell_type": "code",
   "execution_count": null,
   "metadata": {},
   "outputs": [],
   "source": [
    "# Import learning and training for the random forest\n",
    "\n",
    "from sklearn.model_selection import train_test_split\n",
    "\n",
    "X_train, X_test, y_train, y_test = train_test_split(X, y, random_state=42)"
   ]
  },
  {
   "cell_type": "code",
   "execution_count": null,
   "metadata": {},
   "outputs": [],
   "source": [
    "\n",
    "# Import the random forest classifier and input values and variables\n",
    "\n",
    "from sklearn.ensemble import RandomForestClassifier\n",
    "\n",
    "rf = RandomForestClassifier (n_estimators=300)\n",
    "\n",
    "rf = rf.fit(X_train, y_train)\n",
    "\n",
    "rf.score(X_test, y_test)"
   ]
  },
  {
   "cell_type": "code",
   "execution_count": null,
   "metadata": {},
   "outputs": [],
   "source": [
    "# Sort by importance for predicting Legendary Status\n",
    "\n",
    "sorted(zip(rf.feature_importances_, feature_names), reverse = True)"
   ]
  },
  {
   "cell_type": "code",
   "execution_count": null,
   "metadata": {},
   "outputs": [],
   "source": [
    "\n",
    "# Classification of Primary Type\n",
    "\n",
    "y2 = pokedex[\"Type 1\"]\n",
    "\n",
    "y2.value_counts()"
   ]
  },
  {
   "cell_type": "code",
   "execution_count": null,
   "metadata": {},
   "outputs": [],
   "source": [
    "X_train, X_test, y_train, y_test = train_test_split(X, y2, random_state=47)\n"
   ]
  },
  {
   "cell_type": "code",
   "execution_count": null,
   "metadata": {},
   "outputs": [],
   "source": [
    "rf = RandomForestClassifier (n_estimators=300)\n",
    "\n",
    "rf = rf.fit(X_train, y_train)\n",
    "\n",
    "rf.score(X_test, y_test)"
   ]
  },
  {
   "cell_type": "code",
   "execution_count": null,
   "metadata": {},
   "outputs": [],
   "source": []
  },
  {
   "cell_type": "code",
   "execution_count": null,
   "metadata": {},
   "outputs": [],
   "source": []
  },
  {
   "cell_type": "code",
   "execution_count": null,
   "metadata": {},
   "outputs": [],
   "source": []
  },
  {
   "cell_type": "code",
   "execution_count": null,
   "metadata": {},
   "outputs": [],
   "source": []
  }
 ],
 "metadata": {
  "kernelspec": {
   "display_name": "Python 3",
   "language": "python",
   "name": "python3"
  },
  "language_info": {
   "codemirror_mode": {
    "name": "ipython",
    "version": 3
   },
   "file_extension": ".py",
   "mimetype": "text/x-python",
   "name": "python",
   "nbconvert_exporter": "python",
   "pygments_lexer": "ipython3",
   "version": "3.6.10"
  }
 },
 "nbformat": 4,
 "nbformat_minor": 4
}
