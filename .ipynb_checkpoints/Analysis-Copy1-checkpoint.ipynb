{
 "cells": [
  {
   "cell_type": "code",
   "execution_count": 46,
   "metadata": {},
   "outputs": [],
   "source": [
    "# Dependencies\n",
    "\n",
    "import matplotlib.pyplot as plt\n",
    "import pandas as pd\n",
    "from sklearn.neighbors import KNeighborsClassifier\n",
    "from sklearn import tree\n",
    "import os"
   ]
  },
  {
   "cell_type": "code",
   "execution_count": 47,
   "metadata": {},
   "outputs": [
    {
     "data": {
      "text/html": [
       "<div>\n",
       "<style scoped>\n",
       "    .dataframe tbody tr th:only-of-type {\n",
       "        vertical-align: middle;\n",
       "    }\n",
       "\n",
       "    .dataframe tbody tr th {\n",
       "        vertical-align: top;\n",
       "    }\n",
       "\n",
       "    .dataframe thead th {\n",
       "        text-align: right;\n",
       "    }\n",
       "</style>\n",
       "<table border=\"1\" class=\"dataframe\">\n",
       "  <thead>\n",
       "    <tr style=\"text-align: right;\">\n",
       "      <th></th>\n",
       "      <th>#</th>\n",
       "      <th>Name</th>\n",
       "      <th>Type 1</th>\n",
       "      <th>Type 2</th>\n",
       "      <th>Total</th>\n",
       "      <th>HP</th>\n",
       "      <th>Attack</th>\n",
       "      <th>Defense</th>\n",
       "      <th>Sp. Atk</th>\n",
       "      <th>Sp. Def</th>\n",
       "      <th>Speed</th>\n",
       "      <th>Generation</th>\n",
       "      <th>Legendary</th>\n",
       "    </tr>\n",
       "  </thead>\n",
       "  <tbody>\n",
       "    <tr>\n",
       "      <th>0</th>\n",
       "      <td>1</td>\n",
       "      <td>Bulbasaur</td>\n",
       "      <td>Grass</td>\n",
       "      <td>Poison</td>\n",
       "      <td>318</td>\n",
       "      <td>45</td>\n",
       "      <td>49</td>\n",
       "      <td>49</td>\n",
       "      <td>65</td>\n",
       "      <td>65</td>\n",
       "      <td>45</td>\n",
       "      <td>1</td>\n",
       "      <td>False</td>\n",
       "    </tr>\n",
       "    <tr>\n",
       "      <th>1</th>\n",
       "      <td>2</td>\n",
       "      <td>Ivysaur</td>\n",
       "      <td>Grass</td>\n",
       "      <td>Poison</td>\n",
       "      <td>405</td>\n",
       "      <td>60</td>\n",
       "      <td>62</td>\n",
       "      <td>63</td>\n",
       "      <td>80</td>\n",
       "      <td>80</td>\n",
       "      <td>60</td>\n",
       "      <td>1</td>\n",
       "      <td>False</td>\n",
       "    </tr>\n",
       "    <tr>\n",
       "      <th>2</th>\n",
       "      <td>3</td>\n",
       "      <td>Venusaur</td>\n",
       "      <td>Grass</td>\n",
       "      <td>Poison</td>\n",
       "      <td>525</td>\n",
       "      <td>80</td>\n",
       "      <td>82</td>\n",
       "      <td>83</td>\n",
       "      <td>100</td>\n",
       "      <td>100</td>\n",
       "      <td>80</td>\n",
       "      <td>1</td>\n",
       "      <td>False</td>\n",
       "    </tr>\n",
       "    <tr>\n",
       "      <th>3</th>\n",
       "      <td>3</td>\n",
       "      <td>VenusaurMega Venusaur</td>\n",
       "      <td>Grass</td>\n",
       "      <td>Poison</td>\n",
       "      <td>625</td>\n",
       "      <td>80</td>\n",
       "      <td>100</td>\n",
       "      <td>123</td>\n",
       "      <td>122</td>\n",
       "      <td>120</td>\n",
       "      <td>80</td>\n",
       "      <td>1</td>\n",
       "      <td>False</td>\n",
       "    </tr>\n",
       "    <tr>\n",
       "      <th>4</th>\n",
       "      <td>4</td>\n",
       "      <td>Charmander</td>\n",
       "      <td>Fire</td>\n",
       "      <td>NaN</td>\n",
       "      <td>309</td>\n",
       "      <td>39</td>\n",
       "      <td>52</td>\n",
       "      <td>43</td>\n",
       "      <td>60</td>\n",
       "      <td>50</td>\n",
       "      <td>65</td>\n",
       "      <td>1</td>\n",
       "      <td>False</td>\n",
       "    </tr>\n",
       "  </tbody>\n",
       "</table>\n",
       "</div>"
      ],
      "text/plain": [
       "   #                   Name Type 1  Type 2  Total  HP  Attack  Defense  \\\n",
       "0  1              Bulbasaur  Grass  Poison    318  45      49       49   \n",
       "1  2                Ivysaur  Grass  Poison    405  60      62       63   \n",
       "2  3               Venusaur  Grass  Poison    525  80      82       83   \n",
       "3  3  VenusaurMega Venusaur  Grass  Poison    625  80     100      123   \n",
       "4  4             Charmander   Fire     NaN    309  39      52       43   \n",
       "\n",
       "   Sp. Atk  Sp. Def  Speed  Generation  Legendary  \n",
       "0       65       65     45           1      False  \n",
       "1       80       80     60           1      False  \n",
       "2      100      100     80           1      False  \n",
       "3      122      120     80           1      False  \n",
       "4       60       50     65           1      False  "
      ]
     },
     "execution_count": 47,
     "metadata": {},
     "output_type": "execute_result"
    }
   ],
   "source": [
    "pokedex = pd.read_csv('Pokemon.csv')\n",
    "pokedex.head()"
   ]
  },
  {
   "cell_type": "code",
   "execution_count": 48,
   "metadata": {},
   "outputs": [
    {
     "data": {
      "text/plain": [
       "False    735\n",
       "True      65\n",
       "Name: Legendary, dtype: int64"
      ]
     },
     "execution_count": 48,
     "metadata": {},
     "output_type": "execute_result"
    }
   ],
   "source": [
    "# This is Daniels section of code\n",
    "# Classification of Legendary Status\n",
    "y = pokedex[\"Legendary\"]\n",
    "y.value_counts()\n"
   ]
  },
  {
   "cell_type": "code",
   "execution_count": 49,
   "metadata": {},
   "outputs": [
    {
     "data": {
      "text/html": [
       "<div>\n",
       "<style scoped>\n",
       "    .dataframe tbody tr th:only-of-type {\n",
       "        vertical-align: middle;\n",
       "    }\n",
       "\n",
       "    .dataframe tbody tr th {\n",
       "        vertical-align: top;\n",
       "    }\n",
       "\n",
       "    .dataframe thead th {\n",
       "        text-align: right;\n",
       "    }\n",
       "</style>\n",
       "<table border=\"1\" class=\"dataframe\">\n",
       "  <thead>\n",
       "    <tr style=\"text-align: right;\">\n",
       "      <th></th>\n",
       "      <th>Total</th>\n",
       "      <th>HP</th>\n",
       "      <th>Attack</th>\n",
       "      <th>Defense</th>\n",
       "      <th>Sp. Atk</th>\n",
       "      <th>Sp. Def</th>\n",
       "      <th>Speed</th>\n",
       "    </tr>\n",
       "  </thead>\n",
       "  <tbody>\n",
       "    <tr>\n",
       "      <th>0</th>\n",
       "      <td>318</td>\n",
       "      <td>45</td>\n",
       "      <td>49</td>\n",
       "      <td>49</td>\n",
       "      <td>65</td>\n",
       "      <td>65</td>\n",
       "      <td>45</td>\n",
       "    </tr>\n",
       "    <tr>\n",
       "      <th>1</th>\n",
       "      <td>405</td>\n",
       "      <td>60</td>\n",
       "      <td>62</td>\n",
       "      <td>63</td>\n",
       "      <td>80</td>\n",
       "      <td>80</td>\n",
       "      <td>60</td>\n",
       "    </tr>\n",
       "    <tr>\n",
       "      <th>2</th>\n",
       "      <td>525</td>\n",
       "      <td>80</td>\n",
       "      <td>82</td>\n",
       "      <td>83</td>\n",
       "      <td>100</td>\n",
       "      <td>100</td>\n",
       "      <td>80</td>\n",
       "    </tr>\n",
       "    <tr>\n",
       "      <th>3</th>\n",
       "      <td>625</td>\n",
       "      <td>80</td>\n",
       "      <td>100</td>\n",
       "      <td>123</td>\n",
       "      <td>122</td>\n",
       "      <td>120</td>\n",
       "      <td>80</td>\n",
       "    </tr>\n",
       "    <tr>\n",
       "      <th>4</th>\n",
       "      <td>309</td>\n",
       "      <td>39</td>\n",
       "      <td>52</td>\n",
       "      <td>43</td>\n",
       "      <td>60</td>\n",
       "      <td>50</td>\n",
       "      <td>65</td>\n",
       "    </tr>\n",
       "  </tbody>\n",
       "</table>\n",
       "</div>"
      ],
      "text/plain": [
       "   Total  HP  Attack  Defense  Sp. Atk  Sp. Def  Speed\n",
       "0    318  45      49       49       65       65     45\n",
       "1    405  60      62       63       80       80     60\n",
       "2    525  80      82       83      100      100     80\n",
       "3    625  80     100      123      122      120     80\n",
       "4    309  39      52       43       60       50     65"
      ]
     },
     "execution_count": 49,
     "metadata": {},
     "output_type": "execute_result"
    }
   ],
   "source": [
    "X = pokedex.drop(\"Legendary\", axis=1)\n",
    "X = X.drop(\"#\", axis=1)\n",
    "X = X.drop(\"Name\", axis=1)\n",
    "X = X.drop(\"Type 1\", axis=1)\n",
    "X = X.drop(\"Type 2\", axis=1)\n",
    "X = X.drop(\"Generation\", axis=1)\n",
    "X.head()"
   ]
  },
  {
   "cell_type": "code",
   "execution_count": 50,
   "metadata": {},
   "outputs": [],
   "source": [
    "from sklearn.model_selection import train_test_split\n",
    "X_train, X_test, y_train, y_test = train_test_split(X, y, random_state=1)"
   ]
  },
  {
   "cell_type": "code",
   "execution_count": 51,
   "metadata": {},
   "outputs": [],
   "source": [
    "from sklearn.preprocessing import StandardScaler\n",
    "\n",
    "# Create a StandardScater model and fit it to the training data\n",
    "\n",
    "X_scaler = StandardScaler().fit(X_train)"
   ]
  },
  {
   "cell_type": "code",
   "execution_count": 52,
   "metadata": {},
   "outputs": [],
   "source": [
    "# Transform the training and testing data using the X_scaler and y_scaler models\n",
    "\n",
    "X_train_scaled = X_scaler.transform(X_train)\n",
    "X_test_scaled = X_scaler.transform(X_test)"
   ]
  },
  {
   "cell_type": "code",
   "execution_count": 53,
   "metadata": {},
   "outputs": [
    {
     "name": "stdout",
     "output_type": "stream",
     "text": [
      "k: 1, Train/Test Score: 0.995/0.920\n",
      "k: 3, Train/Test Score: 0.977/0.910\n",
      "k: 5, Train/Test Score: 0.960/0.905\n",
      "k: 7, Train/Test Score: 0.958/0.920\n",
      "k: 9, Train/Test Score: 0.953/0.925\n",
      "k: 11, Train/Test Score: 0.945/0.925\n",
      "k: 13, Train/Test Score: 0.948/0.935\n",
      "k: 15, Train/Test Score: 0.952/0.935\n",
      "k: 17, Train/Test Score: 0.945/0.935\n",
      "k: 19, Train/Test Score: 0.948/0.930\n"
     ]
    },
    {
     "data": {
      "image/png": "[encoded data removed]",
      "text/plain": [
       "<Figure size 432x288 with 1 Axes>"
      ]
     },
     "metadata": {
      "needs_background": "light"
     },
     "output_type": "display_data"
    }
   ],
   "source": [
    "# Loop through different k values to see which has the highest accuracy\n",
    "# Note: We only use odd numbers because we don't want any ties\n",
    "train_scores = []\n",
    "test_scores = []\n",
    "for k in range(1, 20, 2):\n",
    "    knn = KNeighborsClassifier(n_neighbors=k)\n",
    "    knn.fit(X_train_scaled, y_train)\n",
    "    train_score = knn.score(X_train_scaled, y_train)\n",
    "    test_score = knn.score(X_test_scaled, y_test)\n",
    "    train_scores.append(train_score)\n",
    "    test_scores.append(test_score)\n",
    "    print(f\"k: {k}, Train/Test Score: {train_score:.3f}/{test_score:.3f}\")\n",
    "    \n",
    "    \n",
    "plt.plot(range(1, 20, 2), train_scores, marker='o')\n",
    "plt.plot(range(1, 20, 2), test_scores, marker=\"x\")\n",
    "plt.xlabel(\"k neighbors\")\n",
    "plt.ylabel(\"Testing accuracy Score\")\n",
    "plt.show()"
   ]
  },
  {
   "cell_type": "code",
   "execution_count": 54,
   "metadata": {},
   "outputs": [
    {
     "name": "stdout",
     "output_type": "stream",
     "text": [
      "k=15 Test Acc: 0.935\n"
     ]
    }
   ],
   "source": [
    "# Note that k: 15 provides the best accuracy where the classifier starts to stablize\n",
    "knn = KNeighborsClassifier(n_neighbors=15)\n",
    "knn.fit(X_train_scaled, y_train)\n",
    "print('k=15 Test Acc: %.3f' % knn.score(X_test_scaled, y_test))"
   ]
  },
  {
   "cell_type": "code",
   "execution_count": 55,
   "metadata": {},
   "outputs": [],
   "source": [
    "predicted_class = knn.predict(X_scaler.transform(X))\n",
    "# print(predicted_class)"
   ]
  },
  {
   "cell_type": "code",
   "execution_count": 56,
   "metadata": {},
   "outputs": [
    {
     "data": {
      "text/plain": [
       "Water       112\n",
       "Normal       98\n",
       "Grass        70\n",
       "Bug          69\n",
       "Psychic      57\n",
       "Fire         52\n",
       "Electric     44\n",
       "Rock         44\n",
       "Ground       32\n",
       "Dragon       32\n",
       "Ghost        32\n",
       "Dark         31\n",
       "Poison       28\n",
       "Fighting     27\n",
       "Steel        27\n",
       "Ice          24\n",
       "Fairy        17\n",
       "Flying        4\n",
       "Name: Type 1, dtype: int64"
      ]
     },
     "execution_count": 56,
     "metadata": {},
     "output_type": "execute_result"
    }
   ],
   "source": [
    "# Classification of Primary Type\n",
    "y2 = pokedex[\"Type 1\"]\n",
    "y2.value_counts()"
   ]
  },
  {
   "cell_type": "code",
   "execution_count": 57,
   "metadata": {},
   "outputs": [],
   "source": [
    "X_train, X_test, y_train, y_test = train_test_split(X, y2, random_state=47)\n",
    "\n",
    "X_scaler2 = StandardScaler().fit(X_train)\n",
    "\n",
    "X_train_scaled = X_scaler2.transform(X_train)\n",
    "X_test_scaled = X_scaler2.transform(X_test)"
   ]
  },
  {
   "cell_type": "code",
   "execution_count": 58,
   "metadata": {},
   "outputs": [
    {
     "name": "stdout",
     "output_type": "stream",
     "text": [
      "k: 1, Train/Test Score: 0.990/0.180\n",
      "k: 3, Train/Test Score: 0.485/0.155\n",
      "k: 5, Train/Test Score: 0.418/0.190\n",
      "k: 7, Train/Test Score: 0.417/0.210\n",
      "k: 9, Train/Test Score: 0.383/0.195\n",
      "k: 11, Train/Test Score: 0.360/0.205\n",
      "k: 13, Train/Test Score: 0.372/0.215\n",
      "k: 15, Train/Test Score: 0.348/0.235\n",
      "k: 17, Train/Test Score: 0.342/0.240\n",
      "k: 19, Train/Test Score: 0.322/0.235\n"
     ]
    },
    {
     "data": {
      "image/png": "[encoded data removed]",
      "text/plain": [
       "<Figure size 432x288 with 1 Axes>"
      ]
     },
     "metadata": {
      "needs_background": "light"
     },
     "output_type": "display_data"
    }
   ],
   "source": [
    "# Loop through different k values to see which has the highest accuracy\n",
    "# Note: We only use odd numbers because we don't want any ties\n",
    "train_scores = []\n",
    "test_scores = []\n",
    "for k in range(1, 20, 2):\n",
    "    knn = KNeighborsClassifier(n_neighbors=k)\n",
    "    knn.fit(X_train_scaled, y_train)\n",
    "    train_score = knn.score(X_train_scaled, y_train)\n",
    "    test_score = knn.score(X_test_scaled, y_test)\n",
    "    train_scores.append(train_score)\n",
    "    test_scores.append(test_score)\n",
    "    print(f\"k: {k}, Train/Test Score: {train_score:.3f}/{test_score:.3f}\")\n",
    "    \n",
    "    \n",
    "plt.plot(range(1, 20, 2), train_scores, marker='o')\n",
    "plt.plot(range(1, 20, 2), test_scores, marker=\"x\")\n",
    "plt.xlabel(\"k neighbors\")\n",
    "plt.ylabel(\"Testing accuracy Score\")\n",
    "plt.show()"
   ]
  },
  {
   "cell_type": "code",
   "execution_count": 59,
   "metadata": {
    "scrolled": true
   },
   "outputs": [
    {
     "name": "stdout",
     "output_type": "stream",
     "text": [
      "k=17 Test Acc: 0.240\n"
     ]
    }
   ],
   "source": [
    "# Note that k: 17 provides the best accuracy where the classifier starts to stablize\n",
    "knn = KNeighborsClassifier(n_neighbors=17)\n",
    "knn.fit(X_train_scaled, y_train)\n",
    "print('k=17 Test Acc: %.3f' % knn.score(X_test_scaled, y_test))"
   ]
  },
  {
   "cell_type": "code",
   "execution_count": 60,
   "metadata": {},
   "outputs": [
    {
     "name": "stderr",
     "output_type": "stream",
     "text": [
      "<ipython-input-60-53e135d534af>:5: SettingWithCopyWarning: \n",
      "A value is trying to be set on a copy of a slice from a DataFrame.\n",
      "Try using .loc[row_indexer,col_indexer] = value instead\n",
      "\n",
      "See the caveats in the documentation: https://pandas.pydata.org/pandas-docs/stable/user_guide/indexing.html#returning-a-view-versus-a-copy\n",
      "  predictions['Predicted Type'] = predicted_class\n"
     ]
    },
    {
     "data": {
      "text/html": [
       "<div>\n",
       "<style scoped>\n",
       "    .dataframe tbody tr th:only-of-type {\n",
       "        vertical-align: middle;\n",
       "    }\n",
       "\n",
       "    .dataframe tbody tr th {\n",
       "        vertical-align: top;\n",
       "    }\n",
       "\n",
       "    .dataframe thead th {\n",
       "        text-align: right;\n",
       "    }\n",
       "</style>\n",
       "<table border=\"1\" class=\"dataframe\">\n",
       "  <thead>\n",
       "    <tr style=\"text-align: right;\">\n",
       "      <th></th>\n",
       "      <th>Name</th>\n",
       "      <th>Type 1</th>\n",
       "      <th>Predicted Type</th>\n",
       "    </tr>\n",
       "  </thead>\n",
       "  <tbody>\n",
       "    <tr>\n",
       "      <th>0</th>\n",
       "      <td>Bulbasaur</td>\n",
       "      <td>Grass</td>\n",
       "      <td>Water</td>\n",
       "    </tr>\n",
       "    <tr>\n",
       "      <th>1</th>\n",
       "      <td>Ivysaur</td>\n",
       "      <td>Grass</td>\n",
       "      <td>Grass</td>\n",
       "    </tr>\n",
       "    <tr>\n",
       "      <th>2</th>\n",
       "      <td>Venusaur</td>\n",
       "      <td>Grass</td>\n",
       "      <td>Water</td>\n",
       "    </tr>\n",
       "    <tr>\n",
       "      <th>3</th>\n",
       "      <td>VenusaurMega Venusaur</td>\n",
       "      <td>Grass</td>\n",
       "      <td>Psychic</td>\n",
       "    </tr>\n",
       "    <tr>\n",
       "      <th>4</th>\n",
       "      <td>Charmander</td>\n",
       "      <td>Fire</td>\n",
       "      <td>Fire</td>\n",
       "    </tr>\n",
       "  </tbody>\n",
       "</table>\n",
       "</div>"
      ],
      "text/plain": [
       "                    Name Type 1 Predicted Type\n",
       "0              Bulbasaur  Grass          Water\n",
       "1                Ivysaur  Grass          Grass\n",
       "2               Venusaur  Grass          Water\n",
       "3  VenusaurMega Venusaur  Grass        Psychic\n",
       "4             Charmander   Fire           Fire"
      ]
     },
     "execution_count": 60,
     "metadata": {},
     "output_type": "execute_result"
    }
   ],
   "source": [
    "predicted_class = knn.predict(X_scaler2.transform(X))\n",
    "# print(predicted_class)\n",
    "\n",
    "predictions = pokedex[['Name',\"Type 1\"]]\n",
    "predictions['Predicted Type'] = predicted_class\n",
    "predictions.head()"
   ]
  },
  {
   "cell_type": "code",
   "execution_count": 61,
   "metadata": {},
   "outputs": [
    {
     "name": "stderr",
     "output_type": "stream",
     "text": [
      "<ipython-input-61-4e4376b56e8c>:7: SettingWithCopyWarning: \n",
      "A value is trying to be set on a copy of a slice from a DataFrame.\n",
      "Try using .loc[row_indexer,col_indexer] = value instead\n",
      "\n",
      "See the caveats in the documentation: https://pandas.pydata.org/pandas-docs/stable/user_guide/indexing.html#returning-a-view-versus-a-copy\n",
      "  predictions['Accurate'] = accuracy\n"
     ]
    },
    {
     "data": {
      "text/html": [
       "<div>\n",
       "<style scoped>\n",
       "    .dataframe tbody tr th:only-of-type {\n",
       "        vertical-align: middle;\n",
       "    }\n",
       "\n",
       "    .dataframe tbody tr th {\n",
       "        vertical-align: top;\n",
       "    }\n",
       "\n",
       "    .dataframe thead th {\n",
       "        text-align: right;\n",
       "    }\n",
       "</style>\n",
       "<table border=\"1\" class=\"dataframe\">\n",
       "  <thead>\n",
       "    <tr style=\"text-align: right;\">\n",
       "      <th></th>\n",
       "      <th>Name</th>\n",
       "      <th>Type 1</th>\n",
       "      <th>Predicted Type</th>\n",
       "      <th>Accurate</th>\n",
       "    </tr>\n",
       "  </thead>\n",
       "  <tbody>\n",
       "    <tr>\n",
       "      <th>0</th>\n",
       "      <td>Bulbasaur</td>\n",
       "      <td>Grass</td>\n",
       "      <td>Water</td>\n",
       "      <td>0</td>\n",
       "    </tr>\n",
       "    <tr>\n",
       "      <th>1</th>\n",
       "      <td>Ivysaur</td>\n",
       "      <td>Grass</td>\n",
       "      <td>Grass</td>\n",
       "      <td>1</td>\n",
       "    </tr>\n",
       "    <tr>\n",
       "      <th>2</th>\n",
       "      <td>Venusaur</td>\n",
       "      <td>Grass</td>\n",
       "      <td>Water</td>\n",
       "      <td>0</td>\n",
       "    </tr>\n",
       "    <tr>\n",
       "      <th>3</th>\n",
       "      <td>VenusaurMega Venusaur</td>\n",
       "      <td>Grass</td>\n",
       "      <td>Psychic</td>\n",
       "      <td>0</td>\n",
       "    </tr>\n",
       "    <tr>\n",
       "      <th>4</th>\n",
       "      <td>Charmander</td>\n",
       "      <td>Fire</td>\n",
       "      <td>Fire</td>\n",
       "      <td>1</td>\n",
       "    </tr>\n",
       "  </tbody>\n",
       "</table>\n",
       "</div>"
      ],
      "text/plain": [
       "                    Name Type 1 Predicted Type  Accurate\n",
       "0              Bulbasaur  Grass          Water         0\n",
       "1                Ivysaur  Grass          Grass         1\n",
       "2               Venusaur  Grass          Water         0\n",
       "3  VenusaurMega Venusaur  Grass        Psychic         0\n",
       "4             Charmander   Fire           Fire         1"
      ]
     },
     "execution_count": 61,
     "metadata": {},
     "output_type": "execute_result"
    }
   ],
   "source": [
    "accuracy = []\n",
    "for index, row in predictions.iterrows():\n",
    "    if predictions.loc[index,'Type 1'] == predictions.loc[index,'Predicted Type']:\n",
    "        accuracy.append(1)\n",
    "    else:\n",
    "        accuracy.append(0)\n",
    "predictions['Accurate'] = accuracy\n",
    "predictions.head()"
   ]
  },
  {
   "cell_type": "code",
   "execution_count": 62,
   "metadata": {},
   "outputs": [
    {
     "data": {
      "text/html": [
       "<div>\n",
       "<style scoped>\n",
       "    .dataframe tbody tr th:only-of-type {\n",
       "        vertical-align: middle;\n",
       "    }\n",
       "\n",
       "    .dataframe tbody tr th {\n",
       "        vertical-align: top;\n",
       "    }\n",
       "\n",
       "    .dataframe thead th {\n",
       "        text-align: right;\n",
       "    }\n",
       "</style>\n",
       "<table border=\"1\" class=\"dataframe\">\n",
       "  <thead>\n",
       "    <tr style=\"text-align: right;\">\n",
       "      <th></th>\n",
       "      <th>Accurate</th>\n",
       "    </tr>\n",
       "    <tr>\n",
       "      <th>Type 1</th>\n",
       "      <th></th>\n",
       "    </tr>\n",
       "  </thead>\n",
       "  <tbody>\n",
       "    <tr>\n",
       "      <th>Bug</th>\n",
       "      <td>0.550725</td>\n",
       "    </tr>\n",
       "    <tr>\n",
       "      <th>Dark</th>\n",
       "      <td>0.032258</td>\n",
       "    </tr>\n",
       "    <tr>\n",
       "      <th>Dragon</th>\n",
       "      <td>0.437500</td>\n",
       "    </tr>\n",
       "    <tr>\n",
       "      <th>Electric</th>\n",
       "      <td>0.454545</td>\n",
       "    </tr>\n",
       "    <tr>\n",
       "      <th>Fairy</th>\n",
       "      <td>0.058824</td>\n",
       "    </tr>\n",
       "    <tr>\n",
       "      <th>Fighting</th>\n",
       "      <td>0.074074</td>\n",
       "    </tr>\n",
       "    <tr>\n",
       "      <th>Fire</th>\n",
       "      <td>0.480769</td>\n",
       "    </tr>\n",
       "    <tr>\n",
       "      <th>Flying</th>\n",
       "      <td>0.000000</td>\n",
       "    </tr>\n",
       "    <tr>\n",
       "      <th>Ghost</th>\n",
       "      <td>0.218750</td>\n",
       "    </tr>\n",
       "    <tr>\n",
       "      <th>Grass</th>\n",
       "      <td>0.242857</td>\n",
       "    </tr>\n",
       "    <tr>\n",
       "      <th>Ground</th>\n",
       "      <td>0.062500</td>\n",
       "    </tr>\n",
       "    <tr>\n",
       "      <th>Ice</th>\n",
       "      <td>0.000000</td>\n",
       "    </tr>\n",
       "    <tr>\n",
       "      <th>Normal</th>\n",
       "      <td>0.642857</td>\n",
       "    </tr>\n",
       "    <tr>\n",
       "      <th>Poison</th>\n",
       "      <td>0.000000</td>\n",
       "    </tr>\n",
       "    <tr>\n",
       "      <th>Psychic</th>\n",
       "      <td>0.105263</td>\n",
       "    </tr>\n",
       "    <tr>\n",
       "      <th>Rock</th>\n",
       "      <td>0.204545</td>\n",
       "    </tr>\n",
       "    <tr>\n",
       "      <th>Steel</th>\n",
       "      <td>0.148148</td>\n",
       "    </tr>\n",
       "    <tr>\n",
       "      <th>Water</th>\n",
       "      <td>0.392857</td>\n",
       "    </tr>\n",
       "  </tbody>\n",
       "</table>\n",
       "</div>"
      ],
      "text/plain": [
       "          Accurate\n",
       "Type 1            \n",
       "Bug       0.550725\n",
       "Dark      0.032258\n",
       "Dragon    0.437500\n",
       "Electric  0.454545\n",
       "Fairy     0.058824\n",
       "Fighting  0.074074\n",
       "Fire      0.480769\n",
       "Flying    0.000000\n",
       "Ghost     0.218750\n",
       "Grass     0.242857\n",
       "Ground    0.062500\n",
       "Ice       0.000000\n",
       "Normal    0.642857\n",
       "Poison    0.000000\n",
       "Psychic   0.105263\n",
       "Rock      0.204545\n",
       "Steel     0.148148\n",
       "Water     0.392857"
      ]
     },
     "execution_count": 62,
     "metadata": {},
     "output_type": "execute_result"
    }
   ],
   "source": [
    "grouping = predictions.groupby('Type 1')\n",
    "grouping.mean()"
   ]
  },
  {
   "cell_type": "code",
   "execution_count": null,
   "metadata": {},
   "outputs": [],
   "source": []
  },
  {
   "cell_type": "code",
   "execution_count": 63,
   "metadata": {},
   "outputs": [
    {
     "data": {
      "text/html": [
       "<div>\n",
       "<style scoped>\n",
       "    .dataframe tbody tr th:only-of-type {\n",
       "        vertical-align: middle;\n",
       "    }\n",
       "\n",
       "    .dataframe tbody tr th {\n",
       "        vertical-align: top;\n",
       "    }\n",
       "\n",
       "    .dataframe thead th {\n",
       "        text-align: right;\n",
       "    }\n",
       "</style>\n",
       "<table border=\"1\" class=\"dataframe\">\n",
       "  <thead>\n",
       "    <tr style=\"text-align: right;\">\n",
       "      <th></th>\n",
       "      <th>Total</th>\n",
       "      <th>HP</th>\n",
       "      <th>Attack</th>\n",
       "      <th>Defense</th>\n",
       "      <th>Sp. Atk</th>\n",
       "      <th>Sp. Def</th>\n",
       "      <th>Speed</th>\n",
       "      <th>Generation</th>\n",
       "    </tr>\n",
       "  </thead>\n",
       "  <tbody>\n",
       "    <tr>\n",
       "      <th>0</th>\n",
       "      <td>318</td>\n",
       "      <td>45</td>\n",
       "      <td>49</td>\n",
       "      <td>49</td>\n",
       "      <td>65</td>\n",
       "      <td>65</td>\n",
       "      <td>45</td>\n",
       "      <td>1</td>\n",
       "    </tr>\n",
       "    <tr>\n",
       "      <th>1</th>\n",
       "      <td>405</td>\n",
       "      <td>60</td>\n",
       "      <td>62</td>\n",
       "      <td>63</td>\n",
       "      <td>80</td>\n",
       "      <td>80</td>\n",
       "      <td>60</td>\n",
       "      <td>1</td>\n",
       "    </tr>\n",
       "    <tr>\n",
       "      <th>2</th>\n",
       "      <td>525</td>\n",
       "      <td>80</td>\n",
       "      <td>82</td>\n",
       "      <td>83</td>\n",
       "      <td>100</td>\n",
       "      <td>100</td>\n",
       "      <td>80</td>\n",
       "      <td>1</td>\n",
       "    </tr>\n",
       "    <tr>\n",
       "      <th>3</th>\n",
       "      <td>625</td>\n",
       "      <td>80</td>\n",
       "      <td>100</td>\n",
       "      <td>123</td>\n",
       "      <td>122</td>\n",
       "      <td>120</td>\n",
       "      <td>80</td>\n",
       "      <td>1</td>\n",
       "    </tr>\n",
       "    <tr>\n",
       "      <th>4</th>\n",
       "      <td>309</td>\n",
       "      <td>39</td>\n",
       "      <td>52</td>\n",
       "      <td>43</td>\n",
       "      <td>60</td>\n",
       "      <td>50</td>\n",
       "      <td>65</td>\n",
       "      <td>1</td>\n",
       "    </tr>\n",
       "  </tbody>\n",
       "</table>\n",
       "</div>"
      ],
      "text/plain": [
       "   Total  HP  Attack  Defense  Sp. Atk  Sp. Def  Speed  Generation\n",
       "0    318  45      49       49       65       65     45           1\n",
       "1    405  60      62       63       80       80     60           1\n",
       "2    525  80      82       83      100      100     80           1\n",
       "3    625  80     100      123      122      120     80           1\n",
       "4    309  39      52       43       60       50     65           1"
      ]
     },
     "execution_count": 63,
     "metadata": {},
     "output_type": "execute_result"
    }
   ],
   "source": [
    "# This is Tanners section of code\n",
    "\n",
    "from numpy.random import seed\n",
    "seed(1)\n",
    "%matplotlib inline\n",
    "import matplotlib.pyplot as plt\n",
    "import numpy as np\n",
    "import sklearn\n",
    "import sklearn.datasets\n",
    "\n",
    "\n",
    "y = pokedex['Legendary']\n",
    "\n",
    "X = pokedex.drop(\"Legendary\", axis=1)\n",
    "X = X.drop(\"#\", axis=1)\n",
    "X = X.drop(\"Name\", axis=1)\n",
    "X = X.drop(\"Type 1\", axis=1)\n",
    "X = X.drop(\"Type 2\", axis=1)\n",
    "X.head()"
   ]
  },
  {
   "cell_type": "code",
   "execution_count": 64,
   "metadata": {},
   "outputs": [],
   "source": [
    " # Use train_test_split to create training and testing data\n",
    "from sklearn.model_selection import train_test_split\n",
    "\n",
    "X_train, X_test, y_train, y_test = train_test_split(X, y, random_state=1)"
   ]
  },
  {
   "cell_type": "code",
   "execution_count": 65,
   "metadata": {},
   "outputs": [],
   "source": [
    "from sklearn.preprocessing import StandardScaler\n",
    "\n",
    "# Create a StandardScater model and fit it to the training data\n",
    "X_scaler = StandardScaler().fit(X_train)"
   ]
  },
  {
   "cell_type": "code",
   "execution_count": 66,
   "metadata": {},
   "outputs": [],
   "source": [
    " # Transform the training and testing data using the X_scaler\n",
    "\n",
    "X_train_scaled = X_scaler.transform(X_train)\n",
    "X_test_scaled = X_scaler.transform(X_test)"
   ]
  },
  {
   "cell_type": "code",
   "execution_count": 67,
   "metadata": {},
   "outputs": [],
   "source": [
    "from tensorflow.keras.utils import to_categorical"
   ]
  },
  {
   "cell_type": "code",
   "execution_count": 68,
   "metadata": {},
   "outputs": [],
   "source": [
    "# One-hot encoding\n",
    "y_train_categorical = to_categorical(y_train)\n",
    "y_test_categorical = to_categorical(y_test)"
   ]
  },
  {
   "cell_type": "code",
   "execution_count": 69,
   "metadata": {},
   "outputs": [],
   "source": [
    "# first, create a normal neural network with 2 inputs, 6 hidden nodes, and 2 outputs\n",
    "from tensorflow.keras.models import Sequential\n",
    "from tensorflow.keras.layers import Dense\n",
    "\n",
    "model = Sequential()\n",
    "model.add(Dense(units=6, activation='relu', input_dim=8))\n",
    "model.add(Dense(units=2, activation='softmax'))"
   ]
  },
  {
   "cell_type": "code",
   "execution_count": 70,
   "metadata": {},
   "outputs": [
    {
     "name": "stdout",
     "output_type": "stream",
     "text": [
      "Model: \"sequential_2\"\n",
      "_________________________________________________________________\n",
      "Layer (type)                 Output Shape              Param #   \n",
      "=================================================================\n",
      "dense_4 (Dense)              (None, 6)                 54        \n",
      "_________________________________________________________________\n",
      "dense_5 (Dense)              (None, 2)                 14        \n",
      "=================================================================\n",
      "Total params: 68\n",
      "Trainable params: 68\n",
      "Non-trainable params: 0\n",
      "_________________________________________________________________\n"
     ]
    }
   ],
   "source": [
    "model.summary()"
   ]
  },
  {
   "cell_type": "code",
   "execution_count": 71,
   "metadata": {},
   "outputs": [],
   "source": [
    "# Compile the model\n",
    "model.compile(optimizer='adam',\n",
    "              loss='categorical_crossentropy',\n",
    "              metrics=['accuracy'])"
   ]
  },
  {
   "cell_type": "code",
   "execution_count": 72,
   "metadata": {},
   "outputs": [
    {
     "name": "stdout",
     "output_type": "stream",
     "text": [
      "Epoch 1/100\n",
      "WARNING:tensorflow:Callbacks method `on_test_batch_begin` is slow compared to the batch time (batch time: 0.0000s vs `on_test_batch_begin` time: 0.0010s). Check your callbacks.\n",
      "19/19 - 0s - loss: 0.7501 - accuracy: 0.5617 - val_loss: 0.6899 - val_accuracy: 0.6250\n",
      "Epoch 2/100\n",
      "19/19 - 0s - loss: 0.6632 - accuracy: 0.6600 - val_loss: 0.6147 - val_accuracy: 0.6750\n",
      "Epoch 3/100\n",
      "19/19 - 0s - loss: 0.5913 - accuracy: 0.7133 - val_loss: 0.5549 - val_accuracy: 0.7300\n",
      "Epoch 4/100\n",
      "19/19 - 0s - loss: 0.5331 - accuracy: 0.7533 - val_loss: 0.5073 - val_accuracy: 0.7750\n",
      "Epoch 5/100\n",
      "19/19 - 0s - loss: 0.4873 - accuracy: 0.7833 - val_loss: 0.4679 - val_accuracy: 0.7900\n",
      "Epoch 6/100\n",
      "19/19 - 0s - loss: 0.4502 - accuracy: 0.8167 - val_loss: 0.4361 - val_accuracy: 0.8200\n",
      "Epoch 7/100\n",
      "19/19 - 0s - loss: 0.4197 - accuracy: 0.8283 - val_loss: 0.4103 - val_accuracy: 0.8150\n",
      "Epoch 8/100\n",
      "19/19 - 0s - loss: 0.3947 - accuracy: 0.8600 - val_loss: 0.3889 - val_accuracy: 0.8250\n",
      "Epoch 9/100\n",
      "19/19 - 0s - loss: 0.3735 - accuracy: 0.8733 - val_loss: 0.3708 - val_accuracy: 0.8700\n",
      "Epoch 10/100\n",
      "19/19 - 0s - loss: 0.3552 - accuracy: 0.8817 - val_loss: 0.3556 - val_accuracy: 0.8850\n",
      "Epoch 11/100\n",
      "19/19 - 0s - loss: 0.3397 - accuracy: 0.8967 - val_loss: 0.3420 - val_accuracy: 0.8900\n",
      "Epoch 12/100\n",
      "19/19 - 0s - loss: 0.3259 - accuracy: 0.9050 - val_loss: 0.3302 - val_accuracy: 0.8900\n",
      "Epoch 13/100\n",
      "19/19 - 0s - loss: 0.3135 - accuracy: 0.9100 - val_loss: 0.3199 - val_accuracy: 0.8950\n",
      "Epoch 14/100\n",
      "19/19 - 0s - loss: 0.3024 - accuracy: 0.9167 - val_loss: 0.3105 - val_accuracy: 0.8950\n",
      "Epoch 15/100\n",
      "19/19 - 0s - loss: 0.2925 - accuracy: 0.9217 - val_loss: 0.3023 - val_accuracy: 0.9000\n",
      "Epoch 16/100\n",
      "19/19 - 0s - loss: 0.2835 - accuracy: 0.9250 - val_loss: 0.2946 - val_accuracy: 0.9050\n",
      "Epoch 17/100\n",
      "19/19 - 0s - loss: 0.2755 - accuracy: 0.9283 - val_loss: 0.2880 - val_accuracy: 0.9050\n",
      "Epoch 18/100\n",
      "19/19 - 0s - loss: 0.2679 - accuracy: 0.9283 - val_loss: 0.2815 - val_accuracy: 0.9100\n",
      "Epoch 19/100\n",
      "19/19 - 0s - loss: 0.2604 - accuracy: 0.9267 - val_loss: 0.2757 - val_accuracy: 0.9050\n",
      "Epoch 20/100\n",
      "19/19 - 0s - loss: 0.2541 - accuracy: 0.9267 - val_loss: 0.2702 - val_accuracy: 0.9100\n",
      "Epoch 21/100\n",
      "19/19 - 0s - loss: 0.2482 - accuracy: 0.9267 - val_loss: 0.2650 - val_accuracy: 0.9100\n",
      "Epoch 22/100\n",
      "19/19 - 0s - loss: 0.2427 - accuracy: 0.9267 - val_loss: 0.2599 - val_accuracy: 0.9150\n",
      "Epoch 23/100\n",
      "19/19 - 0s - loss: 0.2370 - accuracy: 0.9300 - val_loss: 0.2550 - val_accuracy: 0.9150\n",
      "Epoch 24/100\n",
      "19/19 - 0s - loss: 0.2321 - accuracy: 0.9333 - val_loss: 0.2504 - val_accuracy: 0.9150\n",
      "Epoch 25/100\n",
      "19/19 - 0s - loss: 0.2272 - accuracy: 0.9333 - val_loss: 0.2459 - val_accuracy: 0.9200\n",
      "Epoch 26/100\n",
      "19/19 - 0s - loss: 0.2227 - accuracy: 0.9333 - val_loss: 0.2418 - val_accuracy: 0.9250\n",
      "Epoch 27/100\n",
      "19/19 - 0s - loss: 0.2184 - accuracy: 0.9333 - val_loss: 0.2379 - val_accuracy: 0.9250\n",
      "Epoch 28/100\n",
      "19/19 - 0s - loss: 0.2143 - accuracy: 0.9333 - val_loss: 0.2341 - val_accuracy: 0.9300\n",
      "Epoch 29/100\n",
      "19/19 - 0s - loss: 0.2104 - accuracy: 0.9317 - val_loss: 0.2306 - val_accuracy: 0.9300\n",
      "Epoch 30/100\n",
      "19/19 - 0s - loss: 0.2067 - accuracy: 0.9333 - val_loss: 0.2271 - val_accuracy: 0.9300\n",
      "Epoch 31/100\n",
      "19/19 - 0s - loss: 0.2032 - accuracy: 0.9367 - val_loss: 0.2240 - val_accuracy: 0.9300\n",
      "Epoch 32/100\n",
      "19/19 - 0s - loss: 0.1998 - accuracy: 0.9367 - val_loss: 0.2207 - val_accuracy: 0.9250\n",
      "Epoch 33/100\n",
      "19/19 - 0s - loss: 0.1965 - accuracy: 0.9383 - val_loss: 0.2178 - val_accuracy: 0.9300\n",
      "Epoch 34/100\n",
      "19/19 - 0s - loss: 0.1936 - accuracy: 0.9383 - val_loss: 0.2149 - val_accuracy: 0.9250\n",
      "Epoch 35/100\n",
      "19/19 - 0s - loss: 0.1903 - accuracy: 0.9383 - val_loss: 0.2122 - val_accuracy: 0.9250\n",
      "Epoch 36/100\n",
      "19/19 - 0s - loss: 0.1874 - accuracy: 0.9383 - val_loss: 0.2094 - val_accuracy: 0.9250\n",
      "Epoch 37/100\n",
      "19/19 - 0s - loss: 0.1846 - accuracy: 0.9383 - val_loss: 0.2068 - val_accuracy: 0.9250\n",
      "Epoch 38/100\n",
      "19/19 - 0s - loss: 0.1817 - accuracy: 0.9367 - val_loss: 0.2041 - val_accuracy: 0.9350\n",
      "Epoch 39/100\n",
      "19/19 - 0s - loss: 0.1791 - accuracy: 0.9350 - val_loss: 0.2017 - val_accuracy: 0.9400\n",
      "Epoch 40/100\n",
      "19/19 - 0s - loss: 0.1764 - accuracy: 0.9350 - val_loss: 0.1993 - val_accuracy: 0.9400\n",
      "Epoch 41/100\n",
      "19/19 - 0s - loss: 0.1741 - accuracy: 0.9383 - val_loss: 0.1970 - val_accuracy: 0.9350\n",
      "Epoch 42/100\n",
      "19/19 - 0s - loss: 0.1716 - accuracy: 0.9383 - val_loss: 0.1947 - val_accuracy: 0.9400\n",
      "Epoch 43/100\n",
      "19/19 - 0s - loss: 0.1694 - accuracy: 0.9383 - val_loss: 0.1926 - val_accuracy: 0.9350\n",
      "Epoch 44/100\n",
      "19/19 - 0s - loss: 0.1671 - accuracy: 0.9383 - val_loss: 0.1905 - val_accuracy: 0.9400\n",
      "Epoch 45/100\n",
      "19/19 - 0s - loss: 0.1651 - accuracy: 0.9383 - val_loss: 0.1885 - val_accuracy: 0.9350\n",
      "Epoch 46/100\n",
      "19/19 - 0s - loss: 0.1630 - accuracy: 0.9383 - val_loss: 0.1866 - val_accuracy: 0.9350\n",
      "Epoch 47/100\n",
      "19/19 - 0s - loss: 0.1610 - accuracy: 0.9433 - val_loss: 0.1846 - val_accuracy: 0.9350\n",
      "Epoch 48/100\n",
      "19/19 - 0s - loss: 0.1590 - accuracy: 0.9433 - val_loss: 0.1825 - val_accuracy: 0.9350\n",
      "Epoch 49/100\n",
      "19/19 - 0s - loss: 0.1570 - accuracy: 0.9433 - val_loss: 0.1806 - val_accuracy: 0.9350\n",
      "Epoch 50/100\n",
      "19/19 - 0s - loss: 0.1553 - accuracy: 0.9433 - val_loss: 0.1789 - val_accuracy: 0.9350\n",
      "Epoch 51/100\n",
      "19/19 - 0s - loss: 0.1535 - accuracy: 0.9417 - val_loss: 0.1772 - val_accuracy: 0.9350\n",
      "Epoch 52/100\n",
      "19/19 - 0s - loss: 0.1518 - accuracy: 0.9417 - val_loss: 0.1754 - val_accuracy: 0.9350\n",
      "Epoch 53/100\n",
      "19/19 - 0s - loss: 0.1500 - accuracy: 0.9417 - val_loss: 0.1738 - val_accuracy: 0.9350\n",
      "Epoch 54/100\n",
      "19/19 - 0s - loss: 0.1485 - accuracy: 0.9417 - val_loss: 0.1721 - val_accuracy: 0.9350\n",
      "Epoch 55/100\n",
      "19/19 - 0s - loss: 0.1468 - accuracy: 0.9433 - val_loss: 0.1705 - val_accuracy: 0.9350\n",
      "Epoch 56/100\n",
      "19/19 - 0s - loss: 0.1452 - accuracy: 0.9450 - val_loss: 0.1688 - val_accuracy: 0.9350\n",
      "Epoch 57/100\n",
      "19/19 - 0s - loss: 0.1437 - accuracy: 0.9450 - val_loss: 0.1674 - val_accuracy: 0.9350\n",
      "Epoch 58/100\n",
      "19/19 - 0s - loss: 0.1423 - accuracy: 0.9450 - val_loss: 0.1660 - val_accuracy: 0.9350\n",
      "Epoch 59/100\n",
      "19/19 - 0s - loss: 0.1412 - accuracy: 0.9467 - val_loss: 0.1644 - val_accuracy: 0.9350\n",
      "Epoch 60/100\n",
      "19/19 - 0s - loss: 0.1398 - accuracy: 0.9450 - val_loss: 0.1631 - val_accuracy: 0.9350\n",
      "Epoch 61/100\n",
      "19/19 - 0s - loss: 0.1383 - accuracy: 0.9467 - val_loss: 0.1618 - val_accuracy: 0.9350\n",
      "Epoch 62/100\n",
      "19/19 - 0s - loss: 0.1372 - accuracy: 0.9450 - val_loss: 0.1607 - val_accuracy: 0.9350\n",
      "Epoch 63/100\n",
      "19/19 - 0s - loss: 0.1360 - accuracy: 0.9467 - val_loss: 0.1594 - val_accuracy: 0.9350\n",
      "Epoch 64/100\n",
      "19/19 - 0s - loss: 0.1348 - accuracy: 0.9467 - val_loss: 0.1583 - val_accuracy: 0.9350\n",
      "Epoch 65/100\n",
      "19/19 - 0s - loss: 0.1336 - accuracy: 0.9450 - val_loss: 0.1572 - val_accuracy: 0.9350\n",
      "Epoch 66/100\n",
      "19/19 - 0s - loss: 0.1328 - accuracy: 0.9450 - val_loss: 0.1559 - val_accuracy: 0.9350\n",
      "Epoch 67/100\n",
      "19/19 - 0s - loss: 0.1316 - accuracy: 0.9450 - val_loss: 0.1551 - val_accuracy: 0.9350\n",
      "Epoch 68/100\n",
      "19/19 - 0s - loss: 0.1305 - accuracy: 0.9450 - val_loss: 0.1540 - val_accuracy: 0.9350\n",
      "Epoch 69/100\n",
      "19/19 - 0s - loss: 0.1293 - accuracy: 0.9450 - val_loss: 0.1530 - val_accuracy: 0.9350\n",
      "Epoch 70/100\n",
      "19/19 - 0s - loss: 0.1285 - accuracy: 0.9450 - val_loss: 0.1520 - val_accuracy: 0.9350\n",
      "Epoch 71/100\n",
      "19/19 - 0s - loss: 0.1272 - accuracy: 0.9450 - val_loss: 0.1512 - val_accuracy: 0.9350\n",
      "Epoch 72/100\n",
      "19/19 - 0s - loss: 0.1264 - accuracy: 0.9450 - val_loss: 0.1505 - val_accuracy: 0.9350\n",
      "Epoch 73/100\n",
      "19/19 - 0s - loss: 0.1257 - accuracy: 0.9450 - val_loss: 0.1493 - val_accuracy: 0.9350\n",
      "Epoch 74/100\n",
      "19/19 - 0s - loss: 0.1244 - accuracy: 0.9450 - val_loss: 0.1485 - val_accuracy: 0.9350\n",
      "Epoch 75/100\n",
      "19/19 - 0s - loss: 0.1235 - accuracy: 0.9467 - val_loss: 0.1474 - val_accuracy: 0.9350\n",
      "Epoch 76/100\n",
      "19/19 - 0s - loss: 0.1226 - accuracy: 0.9467 - val_loss: 0.1465 - val_accuracy: 0.9350\n",
      "Epoch 77/100\n",
      "19/19 - 0s - loss: 0.1217 - accuracy: 0.9483 - val_loss: 0.1454 - val_accuracy: 0.9350\n",
      "Epoch 78/100\n",
      "19/19 - 0s - loss: 0.1209 - accuracy: 0.9483 - val_loss: 0.1441 - val_accuracy: 0.9350\n",
      "Epoch 79/100\n",
      "19/19 - 0s - loss: 0.1199 - accuracy: 0.9483 - val_loss: 0.1433 - val_accuracy: 0.9350\n",
      "Epoch 80/100\n",
      "19/19 - 0s - loss: 0.1192 - accuracy: 0.9500 - val_loss: 0.1425 - val_accuracy: 0.9350\n",
      "Epoch 81/100\n",
      "19/19 - 0s - loss: 0.1183 - accuracy: 0.9483 - val_loss: 0.1413 - val_accuracy: 0.9350\n"
     ]
    },
    {
     "name": "stdout",
     "output_type": "stream",
     "text": [
      "Epoch 82/100\n",
      "19/19 - 0s - loss: 0.1175 - accuracy: 0.9500 - val_loss: 0.1406 - val_accuracy: 0.9350\n",
      "Epoch 83/100\n",
      "19/19 - 0s - loss: 0.1166 - accuracy: 0.9500 - val_loss: 0.1396 - val_accuracy: 0.9350\n",
      "Epoch 84/100\n",
      "19/19 - 0s - loss: 0.1163 - accuracy: 0.9483 - val_loss: 0.1385 - val_accuracy: 0.9350\n",
      "Epoch 85/100\n",
      "19/19 - 0s - loss: 0.1153 - accuracy: 0.9500 - val_loss: 0.1381 - val_accuracy: 0.9350\n",
      "Epoch 86/100\n",
      "19/19 - 0s - loss: 0.1146 - accuracy: 0.9517 - val_loss: 0.1372 - val_accuracy: 0.9350\n",
      "Epoch 87/100\n",
      "19/19 - 0s - loss: 0.1138 - accuracy: 0.9517 - val_loss: 0.1365 - val_accuracy: 0.9350\n",
      "Epoch 88/100\n",
      "19/19 - 0s - loss: 0.1132 - accuracy: 0.9517 - val_loss: 0.1359 - val_accuracy: 0.9350\n",
      "Epoch 89/100\n",
      "19/19 - 0s - loss: 0.1127 - accuracy: 0.9533 - val_loss: 0.1353 - val_accuracy: 0.9350\n",
      "Epoch 90/100\n",
      "19/19 - 0s - loss: 0.1120 - accuracy: 0.9533 - val_loss: 0.1343 - val_accuracy: 0.9350\n",
      "Epoch 91/100\n",
      "19/19 - 0s - loss: 0.1116 - accuracy: 0.9500 - val_loss: 0.1336 - val_accuracy: 0.9350\n",
      "Epoch 92/100\n",
      "19/19 - 0s - loss: 0.1109 - accuracy: 0.9533 - val_loss: 0.1325 - val_accuracy: 0.9350\n",
      "Epoch 93/100\n",
      "19/19 - 0s - loss: 0.1104 - accuracy: 0.9517 - val_loss: 0.1319 - val_accuracy: 0.9350\n",
      "Epoch 94/100\n",
      "19/19 - 0s - loss: 0.1097 - accuracy: 0.9500 - val_loss: 0.1312 - val_accuracy: 0.9350\n",
      "Epoch 95/100\n",
      "19/19 - 0s - loss: 0.1093 - accuracy: 0.9517 - val_loss: 0.1306 - val_accuracy: 0.9350\n",
      "Epoch 96/100\n",
      "19/19 - 0s - loss: 0.1086 - accuracy: 0.9517 - val_loss: 0.1302 - val_accuracy: 0.9350\n",
      "Epoch 97/100\n",
      "19/19 - 0s - loss: 0.1081 - accuracy: 0.9500 - val_loss: 0.1291 - val_accuracy: 0.9350\n",
      "Epoch 98/100\n",
      "19/19 - 0s - loss: 0.1075 - accuracy: 0.9500 - val_loss: 0.1289 - val_accuracy: 0.9350\n",
      "Epoch 99/100\n",
      "19/19 - 0s - loss: 0.1066 - accuracy: 0.9500 - val_loss: 0.1282 - val_accuracy: 0.9350\n",
      "Epoch 100/100\n",
      "19/19 - 0s - loss: 0.1063 - accuracy: 0.9500 - val_loss: 0.1273 - val_accuracy: 0.9400\n"
     ]
    }
   ],
   "source": [
    " # Fit the model to the training data\n",
    "history = model.fit(\n",
    "    X_train_scaled,\n",
    "    y_train_categorical,\n",
    "    epochs=100,\n",
    "    shuffle = True,\n",
    "    verbose = 2,\n",
    "    validation_data=(X_test_scaled,y_test_categorical)\n",
    ")"
   ]
  },
  {
   "cell_type": "code",
   "execution_count": 73,
   "metadata": {},
   "outputs": [
    {
     "name": "stdout",
     "output_type": "stream",
     "text": [
      "7/7 - 0s - loss: 0.1273 - accuracy: 0.9400\n",
      "Normal Neural Network - Loss: 0.12732405960559845, Accuracy: 0.9399999976158142\n"
     ]
    }
   ],
   "source": [
    "model_loss, model_accuracy = model.evaluate(\n",
    "    X_test_scaled, y_test_categorical, verbose=2)\n",
    "print(\n",
    "    f\"Normal Neural Network - Loss: {model_loss}, Accuracy: {model_accuracy}\")"
   ]
  },
  {
   "cell_type": "code",
   "execution_count": 74,
   "metadata": {},
   "outputs": [
    {
     "data": {
      "text/plain": [
       "<matplotlib.legend.Legend at 0x24bc9baafd0>"
      ]
     },
     "execution_count": 74,
     "metadata": {},
     "output_type": "execute_result"
    },
    {
     "data": {
      "image/png": "[encoded data removed]",
      "text/plain": [
       "<Figure size 1008x432 with 2 Axes>"
      ]
     },
     "metadata": {
      "needs_background": "light"
     },
     "output_type": "display_data"
    }
   ],
   "source": [
    "history_dict = history.history\n",
    "loss_values = history_dict['loss']\n",
    "val_loss_values = history_dict['val_loss']\n",
    "accuracy = history_dict['accuracy']\n",
    "val_accuracy = history_dict['val_accuracy']\n",
    " \n",
    "epochs = range(1, len(loss_values) + 1)\n",
    "fig, ax = plt.subplots(1, 2, figsize=(14, 6))\n",
    "#\n",
    "# Plot the model accuracy vs Epochs\n",
    "#\n",
    "ax[0].plot(epochs, accuracy, 'bo', label='Training accuracy')\n",
    "ax[0].plot(epochs, val_accuracy, 'b', label='Validation accuracy')\n",
    "ax[0].set_title('Training & Validation Accuracy', fontsize=16)\n",
    "ax[0].set_xlabel('Epochs', fontsize=16)\n",
    "ax[0].set_ylabel('Accuracy', fontsize=16)\n",
    "ax[0].legend()\n",
    "#\n",
    "# Plot the loss vs Epochs\n",
    "#\n",
    "ax[1].plot(epochs, loss_values, 'bo', label='Training loss')\n",
    "ax[1].plot(epochs, val_loss_values, 'b', label='Validation loss')\n",
    "ax[1].set_title('Training & Validation Loss', fontsize=16)\n",
    "ax[1].set_xlabel('Epochs', fontsize=16)\n",
    "ax[1].set_ylabel('Loss', fontsize=16)\n",
    "ax[1].legend()"
   ]
  },
  {
   "cell_type": "code",
   "execution_count": 75,
   "metadata": {},
   "outputs": [
    {
     "data": {
      "text/plain": [
       "Water       112\n",
       "Normal       98\n",
       "Grass        70\n",
       "Bug          69\n",
       "Psychic      57\n",
       "Fire         52\n",
       "Electric     44\n",
       "Rock         44\n",
       "Ground       32\n",
       "Dragon       32\n",
       "Ghost        32\n",
       "Dark         31\n",
       "Poison       28\n",
       "Fighting     27\n",
       "Steel        27\n",
       "Ice          24\n",
       "Fairy        17\n",
       "Flying        4\n",
       "Name: Type 1, dtype: int64"
      ]
     },
     "execution_count": 75,
     "metadata": {},
     "output_type": "execute_result"
    }
   ],
   "source": [
    "# Classification of Primary Type\n",
    "y2 = pokedex[\"Type 1\"]\n",
    "y2.value_counts()"
   ]
  },
  {
   "cell_type": "code",
   "execution_count": 76,
   "metadata": {},
   "outputs": [],
   "source": [
    "X_train, X_test, y_train, y_test = train_test_split(X, y2, stratify=y2,random_state=1)\n",
    "\n",
    "X_scaler2 = StandardScaler().fit(X_train)\n",
    "\n",
    "X_train_scaled = X_scaler2.transform(X_train)\n",
    "X_test_scaled = X_scaler2.transform(X_test)"
   ]
  },
  {
   "cell_type": "code",
   "execution_count": 77,
   "metadata": {},
   "outputs": [],
   "source": [
    "# One-hot encoding\n",
    "from sklearn.preprocessing import LabelEncoder\n",
    "\n",
    "label_encoder = LabelEncoder()\n",
    "\n",
    "y_train = label_encoder.fit_transform(y_train)\n",
    "y_test = label_encoder.fit_transform(y_test)\n",
    "\n",
    "y_train_categorical = to_categorical(y_train)\n",
    "y_test_categorical = to_categorical(y_test)\n",
    "\n"
   ]
  },
  {
   "cell_type": "code",
   "execution_count": 78,
   "metadata": {},
   "outputs": [],
   "source": [
    "model = Sequential()\n",
    "model.add(Dense(units=6, activation='relu', input_dim=8))\n",
    "model.add(Dense(units=18, activation='softmax'))"
   ]
  },
  {
   "cell_type": "code",
   "execution_count": 79,
   "metadata": {},
   "outputs": [
    {
     "name": "stdout",
     "output_type": "stream",
     "text": [
      "Model: \"sequential_3\"\n",
      "_________________________________________________________________\n",
      "Layer (type)                 Output Shape              Param #   \n",
      "=================================================================\n",
      "dense_6 (Dense)              (None, 6)                 54        \n",
      "_________________________________________________________________\n",
      "dense_7 (Dense)              (None, 18)                126       \n",
      "=================================================================\n",
      "Total params: 180\n",
      "Trainable params: 180\n",
      "Non-trainable params: 0\n",
      "_________________________________________________________________\n"
     ]
    }
   ],
   "source": [
    "model.summary()"
   ]
  },
  {
   "cell_type": "code",
   "execution_count": 80,
   "metadata": {},
   "outputs": [
    {
     "data": {
      "text/plain": [
       "\"\\nmodel.compile(optimizer='adam',\\n              loss='binary_crossentropy',\\n              metrics=['accuracy'])\\n\""
      ]
     },
     "execution_count": 80,
     "metadata": {},
     "output_type": "execute_result"
    }
   ],
   "source": [
    "# Compile the model\n",
    "\n",
    "model.compile(optimizer='adam',\n",
    "              loss='categorical_crossentropy',\n",
    "              metrics=['accuracy'])\n",
    "\n",
    "\n",
    "'''\n",
    "model.compile(optimizer='adam',\n",
    "              loss='binary_crossentropy',\n",
    "              metrics=['accuracy'])\n",
    "'''"
   ]
  },
  {
   "cell_type": "code",
   "execution_count": 81,
   "metadata": {},
   "outputs": [
    {
     "name": "stdout",
     "output_type": "stream",
     "text": [
      "Epoch 1/100\n",
      "19/19 - 0s - loss: 3.0119 - accuracy: 0.0950 - val_loss: 2.9036 - val_accuracy: 0.0700\n",
      "Epoch 2/100\n",
      "19/19 - 0s - loss: 2.9754 - accuracy: 0.1100 - val_loss: 2.8739 - val_accuracy: 0.1000\n",
      "Epoch 3/100\n",
      "19/19 - 0s - loss: 2.9445 - accuracy: 0.1117 - val_loss: 2.8477 - val_accuracy: 0.1300\n",
      "Epoch 4/100\n",
      "19/19 - 0s - loss: 2.9183 - accuracy: 0.1150 - val_loss: 2.8218 - val_accuracy: 0.1300\n",
      "Epoch 5/100\n",
      "19/19 - 0s - loss: 2.8929 - accuracy: 0.1117 - val_loss: 2.8005 - val_accuracy: 0.1300\n",
      "Epoch 6/100\n",
      "19/19 - 0s - loss: 2.8712 - accuracy: 0.1133 - val_loss: 2.7817 - val_accuracy: 0.1250\n",
      "Epoch 7/100\n",
      "19/19 - 0s - loss: 2.8515 - accuracy: 0.1150 - val_loss: 2.7643 - val_accuracy: 0.1200\n",
      "Epoch 8/100\n",
      "19/19 - 0s - loss: 2.8328 - accuracy: 0.1167 - val_loss: 2.7480 - val_accuracy: 0.1250\n",
      "Epoch 9/100\n",
      "19/19 - 0s - loss: 2.8156 - accuracy: 0.1100 - val_loss: 2.7320 - val_accuracy: 0.1250\n",
      "Epoch 10/100\n",
      "19/19 - 0s - loss: 2.7998 - accuracy: 0.1083 - val_loss: 2.7182 - val_accuracy: 0.1250\n",
      "Epoch 11/100\n",
      "19/19 - 0s - loss: 2.7843 - accuracy: 0.1100 - val_loss: 2.7050 - val_accuracy: 0.1200\n",
      "Epoch 12/100\n",
      "19/19 - 0s - loss: 2.7696 - accuracy: 0.1133 - val_loss: 2.6930 - val_accuracy: 0.1300\n",
      "Epoch 13/100\n",
      "19/19 - 0s - loss: 2.7560 - accuracy: 0.1217 - val_loss: 2.6810 - val_accuracy: 0.1350\n",
      "Epoch 14/100\n",
      "19/19 - 0s - loss: 2.7429 - accuracy: 0.1250 - val_loss: 2.6706 - val_accuracy: 0.1350\n",
      "Epoch 15/100\n",
      "19/19 - 0s - loss: 2.7310 - accuracy: 0.1233 - val_loss: 2.6622 - val_accuracy: 0.1300\n",
      "Epoch 16/100\n",
      "19/19 - 0s - loss: 2.7199 - accuracy: 0.1250 - val_loss: 2.6529 - val_accuracy: 0.1350\n",
      "Epoch 17/100\n",
      "19/19 - 0s - loss: 2.7091 - accuracy: 0.1250 - val_loss: 2.6444 - val_accuracy: 0.1450\n",
      "Epoch 18/100\n",
      "19/19 - 0s - loss: 2.6990 - accuracy: 0.1233 - val_loss: 2.6376 - val_accuracy: 0.1450\n",
      "Epoch 19/100\n",
      "19/19 - 0s - loss: 2.6896 - accuracy: 0.1267 - val_loss: 2.6306 - val_accuracy: 0.1450\n",
      "Epoch 20/100\n",
      "19/19 - 0s - loss: 2.6806 - accuracy: 0.1317 - val_loss: 2.6244 - val_accuracy: 0.1400\n",
      "Epoch 21/100\n",
      "19/19 - 0s - loss: 2.6720 - accuracy: 0.1400 - val_loss: 2.6190 - val_accuracy: 0.1450\n",
      "Epoch 22/100\n",
      "19/19 - 0s - loss: 2.6637 - accuracy: 0.1400 - val_loss: 2.6134 - val_accuracy: 0.1450\n",
      "Epoch 23/100\n",
      "19/19 - 0s - loss: 2.6554 - accuracy: 0.1517 - val_loss: 2.6084 - val_accuracy: 0.1550\n",
      "Epoch 24/100\n",
      "19/19 - 0s - loss: 2.6477 - accuracy: 0.1517 - val_loss: 2.6038 - val_accuracy: 0.1550\n",
      "Epoch 25/100\n",
      "19/19 - 0s - loss: 2.6403 - accuracy: 0.1567 - val_loss: 2.5991 - val_accuracy: 0.1500\n",
      "Epoch 26/100\n",
      "19/19 - 0s - loss: 2.6328 - accuracy: 0.1667 - val_loss: 2.5950 - val_accuracy: 0.1550\n",
      "Epoch 27/100\n",
      "19/19 - 0s - loss: 2.6257 - accuracy: 0.1600 - val_loss: 2.5910 - val_accuracy: 0.1500\n",
      "Epoch 28/100\n",
      "19/19 - 0s - loss: 2.6186 - accuracy: 0.1667 - val_loss: 2.5878 - val_accuracy: 0.1550\n",
      "Epoch 29/100\n",
      "19/19 - 0s - loss: 2.6115 - accuracy: 0.1783 - val_loss: 2.5841 - val_accuracy: 0.1650\n",
      "Epoch 30/100\n",
      "19/19 - 0s - loss: 2.6047 - accuracy: 0.1800 - val_loss: 2.5803 - val_accuracy: 0.1600\n",
      "Epoch 31/100\n",
      "19/19 - 0s - loss: 2.5984 - accuracy: 0.1783 - val_loss: 2.5771 - val_accuracy: 0.1650\n",
      "Epoch 32/100\n",
      "19/19 - 0s - loss: 2.5919 - accuracy: 0.1833 - val_loss: 2.5735 - val_accuracy: 0.1650\n",
      "Epoch 33/100\n",
      "19/19 - 0s - loss: 2.5850 - accuracy: 0.1867 - val_loss: 2.5699 - val_accuracy: 0.1700\n",
      "Epoch 34/100\n",
      "19/19 - 0s - loss: 2.5790 - accuracy: 0.1867 - val_loss: 2.5671 - val_accuracy: 0.1750\n",
      "Epoch 35/100\n",
      "19/19 - 0s - loss: 2.5733 - accuracy: 0.1850 - val_loss: 2.5645 - val_accuracy: 0.1750\n",
      "Epoch 36/100\n",
      "19/19 - 0s - loss: 2.5669 - accuracy: 0.1883 - val_loss: 2.5618 - val_accuracy: 0.1850\n",
      "Epoch 37/100\n",
      "19/19 - 0s - loss: 2.5610 - accuracy: 0.1883 - val_loss: 2.5585 - val_accuracy: 0.1850\n",
      "Epoch 38/100\n",
      "19/19 - 0s - loss: 2.5552 - accuracy: 0.1933 - val_loss: 2.5561 - val_accuracy: 0.1900\n",
      "Epoch 39/100\n",
      "19/19 - 0s - loss: 2.5493 - accuracy: 0.1933 - val_loss: 2.5539 - val_accuracy: 0.1850\n",
      "Epoch 40/100\n",
      "19/19 - 0s - loss: 2.5434 - accuracy: 0.1917 - val_loss: 2.5514 - val_accuracy: 0.1900\n",
      "Epoch 41/100\n",
      "19/19 - 0s - loss: 2.5379 - accuracy: 0.1933 - val_loss: 2.5488 - val_accuracy: 0.1900\n",
      "Epoch 42/100\n",
      "19/19 - 0s - loss: 2.5322 - accuracy: 0.1933 - val_loss: 2.5469 - val_accuracy: 0.1900\n",
      "Epoch 43/100\n",
      "19/19 - 0s - loss: 2.5269 - accuracy: 0.1900 - val_loss: 2.5440 - val_accuracy: 0.1900\n",
      "Epoch 44/100\n",
      "19/19 - 0s - loss: 2.5218 - accuracy: 0.1917 - val_loss: 2.5420 - val_accuracy: 0.1850\n",
      "Epoch 45/100\n",
      "19/19 - 0s - loss: 2.5171 - accuracy: 0.1917 - val_loss: 2.5401 - val_accuracy: 0.1850\n",
      "Epoch 46/100\n",
      "19/19 - 0s - loss: 2.5116 - accuracy: 0.1967 - val_loss: 2.5380 - val_accuracy: 0.1850\n",
      "Epoch 47/100\n",
      "19/19 - 0s - loss: 2.5063 - accuracy: 0.1967 - val_loss: 2.5352 - val_accuracy: 0.1850\n",
      "Epoch 48/100\n",
      "19/19 - 0s - loss: 2.5013 - accuracy: 0.2017 - val_loss: 2.5334 - val_accuracy: 0.1850\n",
      "Epoch 49/100\n",
      "19/19 - 0s - loss: 2.4964 - accuracy: 0.2033 - val_loss: 2.5309 - val_accuracy: 0.1850\n",
      "Epoch 50/100\n",
      "19/19 - 0s - loss: 2.4917 - accuracy: 0.2033 - val_loss: 2.5285 - val_accuracy: 0.1850\n",
      "Epoch 51/100\n",
      "19/19 - 0s - loss: 2.4872 - accuracy: 0.2000 - val_loss: 2.5265 - val_accuracy: 0.1900\n",
      "Epoch 52/100\n",
      "19/19 - 0s - loss: 2.4827 - accuracy: 0.2033 - val_loss: 2.5248 - val_accuracy: 0.1850\n",
      "Epoch 53/100\n",
      "19/19 - 0s - loss: 2.4781 - accuracy: 0.2017 - val_loss: 2.5224 - val_accuracy: 0.1950\n",
      "Epoch 54/100\n",
      "19/19 - 0s - loss: 2.4736 - accuracy: 0.2050 - val_loss: 2.5205 - val_accuracy: 0.2050\n",
      "Epoch 55/100\n",
      "19/19 - 0s - loss: 2.4697 - accuracy: 0.2083 - val_loss: 2.5190 - val_accuracy: 0.2050\n",
      "Epoch 56/100\n",
      "19/19 - 0s - loss: 2.4653 - accuracy: 0.2083 - val_loss: 2.5164 - val_accuracy: 0.2150\n",
      "Epoch 57/100\n",
      "19/19 - 0s - loss: 2.4611 - accuracy: 0.2083 - val_loss: 2.5145 - val_accuracy: 0.2150\n",
      "Epoch 58/100\n",
      "19/19 - 0s - loss: 2.4574 - accuracy: 0.2100 - val_loss: 2.5126 - val_accuracy: 0.2100\n",
      "Epoch 59/100\n",
      "19/19 - 0s - loss: 2.4531 - accuracy: 0.2133 - val_loss: 2.5112 - val_accuracy: 0.2150\n",
      "Epoch 60/100\n",
      "19/19 - 0s - loss: 2.4494 - accuracy: 0.2133 - val_loss: 2.5080 - val_accuracy: 0.2150\n",
      "Epoch 61/100\n",
      "19/19 - 0s - loss: 2.4456 - accuracy: 0.2133 - val_loss: 2.5065 - val_accuracy: 0.2150\n",
      "Epoch 62/100\n",
      "19/19 - 0s - loss: 2.4412 - accuracy: 0.2117 - val_loss: 2.5046 - val_accuracy: 0.2100\n",
      "Epoch 63/100\n",
      "19/19 - 0s - loss: 2.4378 - accuracy: 0.2133 - val_loss: 2.5028 - val_accuracy: 0.2100\n",
      "Epoch 64/100\n",
      "19/19 - 0s - loss: 2.4341 - accuracy: 0.2133 - val_loss: 2.5015 - val_accuracy: 0.2100\n",
      "Epoch 65/100\n",
      "19/19 - 0s - loss: 2.4304 - accuracy: 0.2150 - val_loss: 2.5002 - val_accuracy: 0.2100\n",
      "Epoch 66/100\n",
      "19/19 - 0s - loss: 2.4271 - accuracy: 0.2150 - val_loss: 2.4984 - val_accuracy: 0.2100\n",
      "Epoch 67/100\n",
      "19/19 - 0s - loss: 2.4238 - accuracy: 0.2183 - val_loss: 2.4962 - val_accuracy: 0.2150\n",
      "Epoch 68/100\n",
      "19/19 - 0s - loss: 2.4204 - accuracy: 0.2150 - val_loss: 2.4945 - val_accuracy: 0.2150\n",
      "Epoch 69/100\n",
      "19/19 - 0s - loss: 2.4168 - accuracy: 0.2167 - val_loss: 2.4935 - val_accuracy: 0.2150\n",
      "Epoch 70/100\n",
      "19/19 - 0s - loss: 2.4134 - accuracy: 0.2183 - val_loss: 2.4923 - val_accuracy: 0.2150\n",
      "Epoch 71/100\n",
      "19/19 - 0s - loss: 2.4103 - accuracy: 0.2167 - val_loss: 2.4908 - val_accuracy: 0.2200\n",
      "Epoch 72/100\n",
      "19/19 - 0s - loss: 2.4074 - accuracy: 0.2167 - val_loss: 2.4892 - val_accuracy: 0.2200\n",
      "Epoch 73/100\n",
      "19/19 - 0s - loss: 2.4043 - accuracy: 0.2167 - val_loss: 2.4874 - val_accuracy: 0.2200\n",
      "Epoch 74/100\n",
      "19/19 - 0s - loss: 2.4011 - accuracy: 0.2183 - val_loss: 2.4862 - val_accuracy: 0.2250\n",
      "Epoch 75/100\n",
      "19/19 - 0s - loss: 2.3979 - accuracy: 0.2150 - val_loss: 2.4841 - val_accuracy: 0.2300\n",
      "Epoch 76/100\n",
      "19/19 - 0s - loss: 2.3950 - accuracy: 0.2183 - val_loss: 2.4830 - val_accuracy: 0.2300\n",
      "Epoch 77/100\n",
      "19/19 - 0s - loss: 2.3922 - accuracy: 0.2150 - val_loss: 2.4813 - val_accuracy: 0.2300\n",
      "Epoch 78/100\n",
      "19/19 - 0s - loss: 2.3893 - accuracy: 0.2167 - val_loss: 2.4803 - val_accuracy: 0.2350\n",
      "Epoch 79/100\n",
      "19/19 - 0s - loss: 2.3866 - accuracy: 0.2167 - val_loss: 2.4793 - val_accuracy: 0.2350\n",
      "Epoch 80/100\n",
      "19/19 - 0s - loss: 2.3837 - accuracy: 0.2167 - val_loss: 2.4777 - val_accuracy: 0.2350\n",
      "Epoch 81/100\n",
      "19/19 - 0s - loss: 2.3813 - accuracy: 0.2183 - val_loss: 2.4761 - val_accuracy: 0.2350\n",
      "Epoch 82/100\n",
      "19/19 - 0s - loss: 2.3786 - accuracy: 0.2167 - val_loss: 2.4759 - val_accuracy: 0.2350\n",
      "Epoch 83/100\n",
      "19/19 - 0s - loss: 2.3761 - accuracy: 0.2133 - val_loss: 2.4738 - val_accuracy: 0.2350\n"
     ]
    },
    {
     "name": "stdout",
     "output_type": "stream",
     "text": [
      "Epoch 84/100\n",
      "19/19 - 0s - loss: 2.3733 - accuracy: 0.2150 - val_loss: 2.4728 - val_accuracy: 0.2400\n",
      "Epoch 85/100\n",
      "19/19 - 0s - loss: 2.3710 - accuracy: 0.2150 - val_loss: 2.4719 - val_accuracy: 0.2400\n",
      "Epoch 86/100\n",
      "19/19 - 0s - loss: 2.3687 - accuracy: 0.2167 - val_loss: 2.4711 - val_accuracy: 0.2400\n",
      "Epoch 87/100\n",
      "19/19 - 0s - loss: 2.3661 - accuracy: 0.2167 - val_loss: 2.4697 - val_accuracy: 0.2400\n",
      "Epoch 88/100\n",
      "19/19 - 0s - loss: 2.3639 - accuracy: 0.2183 - val_loss: 2.4697 - val_accuracy: 0.2400\n",
      "Epoch 89/100\n",
      "19/19 - 0s - loss: 2.3619 - accuracy: 0.2167 - val_loss: 2.4682 - val_accuracy: 0.2350\n",
      "Epoch 90/100\n",
      "19/19 - 0s - loss: 2.3591 - accuracy: 0.2183 - val_loss: 2.4676 - val_accuracy: 0.2400\n",
      "Epoch 91/100\n",
      "19/19 - 0s - loss: 2.3569 - accuracy: 0.2150 - val_loss: 2.4657 - val_accuracy: 0.2400\n",
      "Epoch 92/100\n",
      "19/19 - 0s - loss: 2.3550 - accuracy: 0.2150 - val_loss: 2.4658 - val_accuracy: 0.2400\n",
      "Epoch 93/100\n",
      "19/19 - 0s - loss: 2.3530 - accuracy: 0.2167 - val_loss: 2.4645 - val_accuracy: 0.2450\n",
      "Epoch 94/100\n",
      "19/19 - 0s - loss: 2.3509 - accuracy: 0.2217 - val_loss: 2.4635 - val_accuracy: 0.2400\n",
      "Epoch 95/100\n",
      "19/19 - 0s - loss: 2.3489 - accuracy: 0.2217 - val_loss: 2.4637 - val_accuracy: 0.2350\n",
      "Epoch 96/100\n",
      "19/19 - 0s - loss: 2.3468 - accuracy: 0.2217 - val_loss: 2.4617 - val_accuracy: 0.2350\n",
      "Epoch 97/100\n",
      "19/19 - 0s - loss: 2.3447 - accuracy: 0.2200 - val_loss: 2.4613 - val_accuracy: 0.2450\n",
      "Epoch 98/100\n",
      "19/19 - 0s - loss: 2.3426 - accuracy: 0.2233 - val_loss: 2.4602 - val_accuracy: 0.2450\n",
      "Epoch 99/100\n",
      "19/19 - 0s - loss: 2.3405 - accuracy: 0.2250 - val_loss: 2.4595 - val_accuracy: 0.2400\n",
      "Epoch 100/100\n",
      "19/19 - 0s - loss: 2.3387 - accuracy: 0.2283 - val_loss: 2.4575 - val_accuracy: 0.2450\n"
     ]
    }
   ],
   "source": [
    " # Fit the model to the training data\n",
    "history = model.fit(\n",
    "    X_train_scaled,\n",
    "    y_train_categorical,\n",
    "    epochs=100,\n",
    "    shuffle = True,\n",
    "    verbose = 2,\n",
    "    validation_data=(X_test_scaled,y_test_categorical)\n",
    ")"
   ]
  },
  {
   "cell_type": "code",
   "execution_count": 82,
   "metadata": {},
   "outputs": [
    {
     "name": "stdout",
     "output_type": "stream",
     "text": [
      "7/7 - 0s - loss: 2.4575 - accuracy: 0.2450\n",
      "Normal Neural Network - Loss: 2.4575071334838867, Accuracy: 0.24500000476837158\n"
     ]
    }
   ],
   "source": [
    "model_loss, model_accuracy = model.evaluate(\n",
    "    X_test_scaled, y_test_categorical, verbose=2)\n",
    "print(\n",
    "    f\"Normal Neural Network - Loss: {model_loss}, Accuracy: {model_accuracy}\")"
   ]
  },
  {
   "cell_type": "code",
   "execution_count": 83,
   "metadata": {},
   "outputs": [],
   "source": [
    "# This is Michaels section of code"
   ]
  },
  {
   "cell_type": "code",
   "execution_count": 84,
   "metadata": {},
   "outputs": [
    {
     "data": {
      "text/html": [
       "<div>\n",
       "<style scoped>\n",
       "    .dataframe tbody tr th:only-of-type {\n",
       "        vertical-align: middle;\n",
       "    }\n",
       "\n",
       "    .dataframe tbody tr th {\n",
       "        vertical-align: top;\n",
       "    }\n",
       "\n",
       "    .dataframe thead th {\n",
       "        text-align: right;\n",
       "    }\n",
       "</style>\n",
       "<table border=\"1\" class=\"dataframe\">\n",
       "  <thead>\n",
       "    <tr style=\"text-align: right;\">\n",
       "      <th></th>\n",
       "      <th>Total</th>\n",
       "      <th>HP</th>\n",
       "      <th>Attack</th>\n",
       "      <th>Defense</th>\n",
       "      <th>Sp. Atk</th>\n",
       "      <th>Sp. Def</th>\n",
       "      <th>Speed</th>\n",
       "      <th>Generation</th>\n",
       "    </tr>\n",
       "  </thead>\n",
       "  <tbody>\n",
       "    <tr>\n",
       "      <th>0</th>\n",
       "      <td>318</td>\n",
       "      <td>45</td>\n",
       "      <td>49</td>\n",
       "      <td>49</td>\n",
       "      <td>65</td>\n",
       "      <td>65</td>\n",
       "      <td>45</td>\n",
       "      <td>1</td>\n",
       "    </tr>\n",
       "    <tr>\n",
       "      <th>1</th>\n",
       "      <td>405</td>\n",
       "      <td>60</td>\n",
       "      <td>62</td>\n",
       "      <td>63</td>\n",
       "      <td>80</td>\n",
       "      <td>80</td>\n",
       "      <td>60</td>\n",
       "      <td>1</td>\n",
       "    </tr>\n",
       "    <tr>\n",
       "      <th>2</th>\n",
       "      <td>525</td>\n",
       "      <td>80</td>\n",
       "      <td>82</td>\n",
       "      <td>83</td>\n",
       "      <td>100</td>\n",
       "      <td>100</td>\n",
       "      <td>80</td>\n",
       "      <td>1</td>\n",
       "    </tr>\n",
       "    <tr>\n",
       "      <th>3</th>\n",
       "      <td>625</td>\n",
       "      <td>80</td>\n",
       "      <td>100</td>\n",
       "      <td>123</td>\n",
       "      <td>122</td>\n",
       "      <td>120</td>\n",
       "      <td>80</td>\n",
       "      <td>1</td>\n",
       "    </tr>\n",
       "    <tr>\n",
       "      <th>4</th>\n",
       "      <td>309</td>\n",
       "      <td>39</td>\n",
       "      <td>52</td>\n",
       "      <td>43</td>\n",
       "      <td>60</td>\n",
       "      <td>50</td>\n",
       "      <td>65</td>\n",
       "      <td>1</td>\n",
       "    </tr>\n",
       "  </tbody>\n",
       "</table>\n",
       "</div>"
      ],
      "text/plain": [
       "   Total  HP  Attack  Defense  Sp. Atk  Sp. Def  Speed  Generation\n",
       "0    318  45      49       49       65       65     45           1\n",
       "1    405  60      62       63       80       80     60           1\n",
       "2    525  80      82       83      100      100     80           1\n",
       "3    625  80     100      123      122      120     80           1\n",
       "4    309  39      52       43       60       50     65           1"
      ]
     },
     "execution_count": 84,
     "metadata": {},
     "output_type": "execute_result"
    }
   ],
   "source": [
    "# This is Masons section of code\n",
    "\n",
    "# Set our prediction targets and name them\n",
    "\n",
    "y = pokedex[\"Legendary\"]\n",
    "target_names = [\"negative\", \"positive\"]\n",
    "\n",
    "\n",
    "#Classification of Legendary Status\n",
    "\n",
    "X = pokedex.drop(\"Legendary\", axis=1)\n",
    "\n",
    "X = X.drop(\"#\", axis=1)\n",
    "\n",
    "X = X.drop(\"Name\", axis=1)\n",
    "\n",
    "X = X.drop(\"Type 1\", axis=1)\n",
    "\n",
    "X = X.drop(\"Type 2\", axis=1)\n",
    "\n",
    "feature_names = X.columns\n",
    "\n",
    "X.head()"
   ]
  },
  {
   "cell_type": "code",
   "execution_count": 85,
   "metadata": {},
   "outputs": [],
   "source": [
    "# Import learning and training for the random forest\n",
    "\n",
    "from sklearn.model_selection import train_test_split\n",
    "\n",
    "X_train, X_test, y_train, y_test = train_test_split(X, y, random_state=42)"
   ]
  },
  {
   "cell_type": "code",
   "execution_count": 86,
   "metadata": {},
   "outputs": [
    {
     "data": {
      "text/plain": [
       "0.955"
      ]
     },
     "execution_count": 86,
     "metadata": {},
     "output_type": "execute_result"
    }
   ],
   "source": [
    "\n",
    "# Import the random forest classifier and input values and variables\n",
    "\n",
    "from sklearn.ensemble import RandomForestClassifier\n",
    "\n",
    "rf = RandomForestClassifier (n_estimators=300)\n",
    "\n",
    "rf = rf.fit(X_train, y_train)\n",
    "\n",
    "rf.score(X_test, y_test)"
   ]
  },
  {
   "cell_type": "code",
   "execution_count": 87,
   "metadata": {},
   "outputs": [
    {
     "data": {
      "text/plain": [
       "[(0.29385901930027636, 'Total'),\n",
       " (0.15718446491215413, 'Sp. Atk'),\n",
       " (0.1148550450690112, 'Speed'),\n",
       " (0.11287985966884564, 'HP'),\n",
       " (0.09732801496475155, 'Attack'),\n",
       " (0.09431328688696373, 'Sp. Def'),\n",
       " (0.06835382228846897, 'Defense'),\n",
       " (0.06122648690952849, 'Generation')]"
      ]
     },
     "execution_count": 87,
     "metadata": {},
     "output_type": "execute_result"
    }
   ],
   "source": [
    "# Sort by importance for predicting Legendary Status\n",
    "\n",
    "sorted(zip(rf.feature_importances_, feature_names), reverse = True)"
   ]
  },
  {
   "cell_type": "code",
   "execution_count": 88,
   "metadata": {},
   "outputs": [
    {
     "data": {
      "text/plain": [
       "Water       112\n",
       "Normal       98\n",
       "Grass        70\n",
       "Bug          69\n",
       "Psychic      57\n",
       "Fire         52\n",
       "Electric     44\n",
       "Rock         44\n",
       "Ground       32\n",
       "Dragon       32\n",
       "Ghost        32\n",
       "Dark         31\n",
       "Poison       28\n",
       "Fighting     27\n",
       "Steel        27\n",
       "Ice          24\n",
       "Fairy        17\n",
       "Flying        4\n",
       "Name: Type 1, dtype: int64"
      ]
     },
     "execution_count": 88,
     "metadata": {},
     "output_type": "execute_result"
    }
   ],
   "source": [
    "# Classification of Primary Type\n",
    "\n",
    "y2 = pokedex[\"Type 1\"]\n",
    "\n",
    "y2.value_counts()"
   ]
  },
  {
   "cell_type": "code",
   "execution_count": 89,
   "metadata": {},
   "outputs": [],
   "source": [
    "X_train, X_test, y_train, y_test = train_test_split(X, y2, random_state=1)\n"
   ]
  },
  {
   "cell_type": "code",
   "execution_count": 90,
   "metadata": {},
   "outputs": [
    {
     "data": {
      "text/plain": [
       "0.22"
      ]
     },
     "execution_count": 90,
     "metadata": {},
     "output_type": "execute_result"
    }
   ],
   "source": [
    "rf = RandomForestClassifier (n_estimators=300)\n",
    "\n",
    "rf = rf.fit(X_train, y_train)\n",
    "\n",
    "rf.score(X_test, y_test)"
   ]
  },
  {
   "cell_type": "code",
   "execution_count": null,
   "metadata": {},
   "outputs": [],
   "source": []
  },
  {
   "cell_type": "code",
   "execution_count": null,
   "metadata": {},
   "outputs": [],
   "source": []
  },
  {
   "cell_type": "code",
   "execution_count": null,
   "metadata": {},
   "outputs": [],
   "source": []
  },
  {
   "cell_type": "code",
   "execution_count": null,
   "metadata": {},
   "outputs": [],
   "source": []
  }
 ],
 "metadata": {
  "kernelspec": {
   "display_name": "Python 3",
   "language": "python",
   "name": "python3"
  },
  "language_info": {
   "codemirror_mode": {
    "name": "ipython",
    "version": 3
   },
   "file_extension": ".py",
   "mimetype": "text/x-python",
   "name": "python",
   "nbconvert_exporter": "python",
   "pygments_lexer": "ipython3",
   "version": "3.8.10"
  }
 },
 "nbformat": 4,
 "nbformat_minor": 4
}
